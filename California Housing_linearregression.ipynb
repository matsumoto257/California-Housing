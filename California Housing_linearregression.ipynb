{
 "cells": [
  {
   "cell_type": "markdown",
   "id": "cfb9e1a1",
   "metadata": {},
   "source": [
    "・ (MedInc)median income in block-収入の中央値  \n",
    "・(HouseAge)median house age in block-ブロック内の家の中央年齢  \n",
    "・(AveRooms)average number of rooms-平均部屋数  \n",
    "・(AveBedrms)average number of bedrooms-ベッドルームの平均数  \n",
    "・(Population)block population-ブロック人口  \n",
    "・(AveOccup)average house occupancy-平均住宅占有率  \n",
    "・(Latitude)house block latitude-ハウスブロックの緯度  \n",
    "・(Longitude)house block longitude-ハウスブロックの経度  \n",
    "・MedHouseVal（median house value）：「住宅価格」（100,000ドル＝10万ドル単位）の中央値。通常はこの数値が目的変数として使われる"
   ]
  },
  {
   "cell_type": "markdown",
   "id": "617498ff",
   "metadata": {},
   "source": [
    "## 検証したいこと\n",
    "・targetのヒストグラムなどを確認し、外れ値がある場合はそれを除去して訓練してみる。ただ、外れ値が多い場合は、現実世界でもその外れ値が存在する可能性が高いと思われるので、ex)外れ値も均等に訓練データや検証データやテストデータに含まれるようにしてみる。層化k分割交差検証のように  \n",
    "・スケーリングしてモデルを学習させる  \n",
    "・ホールドアウトとk分割交差検証をしてみて２つの違いを見たい（ハイパラチューニングではない)  \n",
    "・データの数を1000個くらいに減らす。残りをテストデータとする。trainに過剰適合して、testの評価指標との差異を大きくして、ハイバリアンスの状態を作り出したい。  \n",
    "・その後バリアンスを小さくする手法（正則化、k分割交差検証とホールドアウトの違いの検証、他モデル、ハイパーパラメータ探索、特徴量選択、特徴量抽出）を試して、違いを探る  \n",
    "・残差（y_train-y_pred)を計算し、プロット。分布や基本統計量も調べる。"
   ]
  },
  {
   "cell_type": "markdown",
   "id": "bbedc1d5",
   "metadata": {},
   "source": [
    "## 結果\n",
    "特徴量はそのままの時のRMSE：0.726980512661084  \n",
    "Longitudeを削除： 0.7834347496811289  \n",
    "Latitudeを削除 ：0.7852698301261432  \n",
    "⇒相関が高い２変数のうちどちらか一方を減らしてもRMSEが改善するわけではなさそう　では多重共線性の問題点は？"
   ]
  },
  {
   "cell_type": "code",
   "execution_count": 88,
   "id": "45045e7b",
   "metadata": {},
   "outputs": [],
   "source": [
    "import sklearn.datasets \n",
    "import pandas as pd\n",
    "from sklearn.model_selection import train_test_split\n",
    "import seaborn as sns\n",
    "import numpy as np\n",
    "import matplotlib.pyplot as plt\n",
    "from sklearn.linear_model import LinearRegression\n",
    "from sklearn.metrics import r2_score\n",
    "from sklearn.metrics import mean_absolute_error\n",
    "from sklearn.metrics import mean_squared_error\n",
    "from sklearn.preprocessing import StandardScaler\n",
    "from sklearn.model_selection import cross_val_score\n",
    "from sklearn.tree import DecisionTreeRegressor\n",
    "from sklearn.tree import plot_tree\n",
    "from sklearn.feature_selection import f_regression"
   ]
  },
  {
   "cell_type": "code",
   "execution_count": 2,
   "id": "1bf835a2",
   "metadata": {},
   "outputs": [],
   "source": [
    "data=sklearn.datasets.fetch_california_housing()\n",
    "feature=data.data\n",
    "target=data.target"
   ]
  },
  {
   "cell_type": "code",
   "execution_count": 3,
   "id": "7622ff90",
   "metadata": {},
   "outputs": [],
   "source": [
    "X_train, X_test, y_train, y_test = train_test_split(feature, target, train_size=0.7, shuffle=True, random_state=1)"
   ]
  },
  {
   "cell_type": "code",
   "execution_count": 4,
   "id": "8ef176ad",
   "metadata": {},
   "outputs": [],
   "source": [
    "df_train=pd.DataFrame(X_train, columns=data.feature_names)\n",
    "df_train['target']=y_train\n",
    "df_test=pd.DataFrame(X_test, columns=data.feature_names)\n",
    "df_test['target']=y_test"
   ]
  },
  {
   "cell_type": "code",
   "execution_count": 5,
   "id": "618c879d",
   "metadata": {},
   "outputs": [
    {
     "data": {
      "text/html": [
       "<div>\n",
       "<style scoped>\n",
       "    .dataframe tbody tr th:only-of-type {\n",
       "        vertical-align: middle;\n",
       "    }\n",
       "\n",
       "    .dataframe tbody tr th {\n",
       "        vertical-align: top;\n",
       "    }\n",
       "\n",
       "    .dataframe thead th {\n",
       "        text-align: right;\n",
       "    }\n",
       "</style>\n",
       "<table border=\"1\" class=\"dataframe\">\n",
       "  <thead>\n",
       "    <tr style=\"text-align: right;\">\n",
       "      <th></th>\n",
       "      <th>MedInc</th>\n",
       "      <th>HouseAge</th>\n",
       "      <th>AveRooms</th>\n",
       "      <th>AveBedrms</th>\n",
       "      <th>Population</th>\n",
       "      <th>AveOccup</th>\n",
       "      <th>Latitude</th>\n",
       "      <th>Longitude</th>\n",
       "      <th>target</th>\n",
       "    </tr>\n",
       "  </thead>\n",
       "  <tbody>\n",
       "    <tr>\n",
       "      <th>0</th>\n",
       "      <td>3.1779</td>\n",
       "      <td>41.0</td>\n",
       "      <td>4.394737</td>\n",
       "      <td>1.054825</td>\n",
       "      <td>1658.0</td>\n",
       "      <td>3.635965</td>\n",
       "      <td>33.80</td>\n",
       "      <td>-118.26</td>\n",
       "      <td>1.71100</td>\n",
       "    </tr>\n",
       "    <tr>\n",
       "      <th>1</th>\n",
       "      <td>2.5111</td>\n",
       "      <td>49.0</td>\n",
       "      <td>4.886792</td>\n",
       "      <td>0.964361</td>\n",
       "      <td>1290.0</td>\n",
       "      <td>2.704403</td>\n",
       "      <td>36.75</td>\n",
       "      <td>-119.75</td>\n",
       "      <td>0.55400</td>\n",
       "    </tr>\n",
       "    <tr>\n",
       "      <th>2</th>\n",
       "      <td>2.5405</td>\n",
       "      <td>15.0</td>\n",
       "      <td>6.444651</td>\n",
       "      <td>1.422326</td>\n",
       "      <td>2568.0</td>\n",
       "      <td>2.388837</td>\n",
       "      <td>34.06</td>\n",
       "      <td>-116.56</td>\n",
       "      <td>0.69600</td>\n",
       "    </tr>\n",
       "    <tr>\n",
       "      <th>3</th>\n",
       "      <td>4.5033</td>\n",
       "      <td>7.0</td>\n",
       "      <td>5.291789</td>\n",
       "      <td>1.101173</td>\n",
       "      <td>1739.0</td>\n",
       "      <td>2.549853</td>\n",
       "      <td>37.26</td>\n",
       "      <td>-121.83</td>\n",
       "      <td>2.13100</td>\n",
       "    </tr>\n",
       "    <tr>\n",
       "      <th>4</th>\n",
       "      <td>2.9196</td>\n",
       "      <td>33.0</td>\n",
       "      <td>4.824528</td>\n",
       "      <td>1.090566</td>\n",
       "      <td>1715.0</td>\n",
       "      <td>3.235849</td>\n",
       "      <td>34.09</td>\n",
       "      <td>-118.08</td>\n",
       "      <td>2.08800</td>\n",
       "    </tr>\n",
       "    <tr>\n",
       "      <th>...</th>\n",
       "      <td>...</td>\n",
       "      <td>...</td>\n",
       "      <td>...</td>\n",
       "      <td>...</td>\n",
       "      <td>...</td>\n",
       "      <td>...</td>\n",
       "      <td>...</td>\n",
       "      <td>...</td>\n",
       "      <td>...</td>\n",
       "    </tr>\n",
       "    <tr>\n",
       "      <th>14442</th>\n",
       "      <td>1.7823</td>\n",
       "      <td>17.0</td>\n",
       "      <td>4.055046</td>\n",
       "      <td>1.087156</td>\n",
       "      <td>1079.0</td>\n",
       "      <td>2.474771</td>\n",
       "      <td>33.76</td>\n",
       "      <td>-117.88</td>\n",
       "      <td>2.05300</td>\n",
       "    </tr>\n",
       "    <tr>\n",
       "      <th>14443</th>\n",
       "      <td>8.5608</td>\n",
       "      <td>42.0</td>\n",
       "      <td>6.788462</td>\n",
       "      <td>1.011538</td>\n",
       "      <td>753.0</td>\n",
       "      <td>2.896154</td>\n",
       "      <td>34.42</td>\n",
       "      <td>-119.63</td>\n",
       "      <td>5.00001</td>\n",
       "    </tr>\n",
       "    <tr>\n",
       "      <th>14444</th>\n",
       "      <td>1.1326</td>\n",
       "      <td>42.0</td>\n",
       "      <td>4.890785</td>\n",
       "      <td>1.006826</td>\n",
       "      <td>775.0</td>\n",
       "      <td>2.645051</td>\n",
       "      <td>33.93</td>\n",
       "      <td>-118.26</td>\n",
       "      <td>1.04800</td>\n",
       "    </tr>\n",
       "    <tr>\n",
       "      <th>14445</th>\n",
       "      <td>2.6322</td>\n",
       "      <td>10.0</td>\n",
       "      <td>4.991614</td>\n",
       "      <td>0.951782</td>\n",
       "      <td>1323.0</td>\n",
       "      <td>2.773585</td>\n",
       "      <td>33.73</td>\n",
       "      <td>-117.16</td>\n",
       "      <td>1.40700</td>\n",
       "    </tr>\n",
       "    <tr>\n",
       "      <th>14446</th>\n",
       "      <td>2.3036</td>\n",
       "      <td>35.0</td>\n",
       "      <td>4.620513</td>\n",
       "      <td>1.176923</td>\n",
       "      <td>1009.0</td>\n",
       "      <td>2.587179</td>\n",
       "      <td>37.79</td>\n",
       "      <td>-122.20</td>\n",
       "      <td>1.26000</td>\n",
       "    </tr>\n",
       "  </tbody>\n",
       "</table>\n",
       "<p>14447 rows × 9 columns</p>\n",
       "</div>"
      ],
      "text/plain": [
       "       MedInc  HouseAge  AveRooms  AveBedrms  Population  AveOccup  Latitude  \\\n",
       "0      3.1779      41.0  4.394737   1.054825      1658.0  3.635965     33.80   \n",
       "1      2.5111      49.0  4.886792   0.964361      1290.0  2.704403     36.75   \n",
       "2      2.5405      15.0  6.444651   1.422326      2568.0  2.388837     34.06   \n",
       "3      4.5033       7.0  5.291789   1.101173      1739.0  2.549853     37.26   \n",
       "4      2.9196      33.0  4.824528   1.090566      1715.0  3.235849     34.09   \n",
       "...       ...       ...       ...        ...         ...       ...       ...   \n",
       "14442  1.7823      17.0  4.055046   1.087156      1079.0  2.474771     33.76   \n",
       "14443  8.5608      42.0  6.788462   1.011538       753.0  2.896154     34.42   \n",
       "14444  1.1326      42.0  4.890785   1.006826       775.0  2.645051     33.93   \n",
       "14445  2.6322      10.0  4.991614   0.951782      1323.0  2.773585     33.73   \n",
       "14446  2.3036      35.0  4.620513   1.176923      1009.0  2.587179     37.79   \n",
       "\n",
       "       Longitude   target  \n",
       "0        -118.26  1.71100  \n",
       "1        -119.75  0.55400  \n",
       "2        -116.56  0.69600  \n",
       "3        -121.83  2.13100  \n",
       "4        -118.08  2.08800  \n",
       "...          ...      ...  \n",
       "14442    -117.88  2.05300  \n",
       "14443    -119.63  5.00001  \n",
       "14444    -118.26  1.04800  \n",
       "14445    -117.16  1.40700  \n",
       "14446    -122.20  1.26000  \n",
       "\n",
       "[14447 rows x 9 columns]"
      ]
     },
     "execution_count": 5,
     "metadata": {},
     "output_type": "execute_result"
    }
   ],
   "source": [
    "df_train"
   ]
  },
  {
   "cell_type": "code",
   "execution_count": 6,
   "id": "ff15093e",
   "metadata": {
    "scrolled": false
   },
   "outputs": [
    {
     "data": {
      "text/html": [
       "<div>\n",
       "<style scoped>\n",
       "    .dataframe tbody tr th:only-of-type {\n",
       "        vertical-align: middle;\n",
       "    }\n",
       "\n",
       "    .dataframe tbody tr th {\n",
       "        vertical-align: top;\n",
       "    }\n",
       "\n",
       "    .dataframe thead th {\n",
       "        text-align: right;\n",
       "    }\n",
       "</style>\n",
       "<table border=\"1\" class=\"dataframe\">\n",
       "  <thead>\n",
       "    <tr style=\"text-align: right;\">\n",
       "      <th></th>\n",
       "      <th>MedInc</th>\n",
       "      <th>HouseAge</th>\n",
       "      <th>AveRooms</th>\n",
       "      <th>AveBedrms</th>\n",
       "      <th>Population</th>\n",
       "      <th>AveOccup</th>\n",
       "      <th>Latitude</th>\n",
       "      <th>Longitude</th>\n",
       "      <th>target</th>\n",
       "    </tr>\n",
       "  </thead>\n",
       "  <tbody>\n",
       "    <tr>\n",
       "      <th>0</th>\n",
       "      <td>3.2500</td>\n",
       "      <td>39.0</td>\n",
       "      <td>4.503205</td>\n",
       "      <td>1.073718</td>\n",
       "      <td>1109.0</td>\n",
       "      <td>1.777244</td>\n",
       "      <td>34.06</td>\n",
       "      <td>-118.36</td>\n",
       "      <td>3.550</td>\n",
       "    </tr>\n",
       "    <tr>\n",
       "      <th>1</th>\n",
       "      <td>1.9784</td>\n",
       "      <td>37.0</td>\n",
       "      <td>4.988584</td>\n",
       "      <td>1.038813</td>\n",
       "      <td>1143.0</td>\n",
       "      <td>2.609589</td>\n",
       "      <td>36.78</td>\n",
       "      <td>-119.78</td>\n",
       "      <td>0.707</td>\n",
       "    </tr>\n",
       "    <tr>\n",
       "      <th>2</th>\n",
       "      <td>4.0132</td>\n",
       "      <td>46.0</td>\n",
       "      <td>4.480296</td>\n",
       "      <td>1.012315</td>\n",
       "      <td>1534.0</td>\n",
       "      <td>3.778325</td>\n",
       "      <td>37.73</td>\n",
       "      <td>-122.42</td>\n",
       "      <td>2.294</td>\n",
       "    </tr>\n",
       "    <tr>\n",
       "      <th>3</th>\n",
       "      <td>1.5208</td>\n",
       "      <td>52.0</td>\n",
       "      <td>3.908046</td>\n",
       "      <td>1.114943</td>\n",
       "      <td>200.0</td>\n",
       "      <td>2.298851</td>\n",
       "      <td>37.81</td>\n",
       "      <td>-122.28</td>\n",
       "      <td>1.125</td>\n",
       "    </tr>\n",
       "    <tr>\n",
       "      <th>4</th>\n",
       "      <td>5.1795</td>\n",
       "      <td>37.0</td>\n",
       "      <td>5.406360</td>\n",
       "      <td>1.024735</td>\n",
       "      <td>711.0</td>\n",
       "      <td>2.512367</td>\n",
       "      <td>33.82</td>\n",
       "      <td>-118.13</td>\n",
       "      <td>2.254</td>\n",
       "    </tr>\n",
       "    <tr>\n",
       "      <th>...</th>\n",
       "      <td>...</td>\n",
       "      <td>...</td>\n",
       "      <td>...</td>\n",
       "      <td>...</td>\n",
       "      <td>...</td>\n",
       "      <td>...</td>\n",
       "      <td>...</td>\n",
       "      <td>...</td>\n",
       "      <td>...</td>\n",
       "    </tr>\n",
       "    <tr>\n",
       "      <th>6188</th>\n",
       "      <td>3.6429</td>\n",
       "      <td>33.0</td>\n",
       "      <td>6.253731</td>\n",
       "      <td>1.149254</td>\n",
       "      <td>190.0</td>\n",
       "      <td>2.835821</td>\n",
       "      <td>39.65</td>\n",
       "      <td>-122.14</td>\n",
       "      <td>0.875</td>\n",
       "    </tr>\n",
       "    <tr>\n",
       "      <th>6189</th>\n",
       "      <td>2.5865</td>\n",
       "      <td>47.0</td>\n",
       "      <td>4.681818</td>\n",
       "      <td>1.041958</td>\n",
       "      <td>794.0</td>\n",
       "      <td>2.776224</td>\n",
       "      <td>38.12</td>\n",
       "      <td>-122.25</td>\n",
       "      <td>1.098</td>\n",
       "    </tr>\n",
       "    <tr>\n",
       "      <th>6190</th>\n",
       "      <td>2.6098</td>\n",
       "      <td>13.0</td>\n",
       "      <td>5.042553</td>\n",
       "      <td>1.104533</td>\n",
       "      <td>2957.0</td>\n",
       "      <td>2.735430</td>\n",
       "      <td>38.07</td>\n",
       "      <td>-122.24</td>\n",
       "      <td>1.625</td>\n",
       "    </tr>\n",
       "    <tr>\n",
       "      <th>6191</th>\n",
       "      <td>1.7083</td>\n",
       "      <td>29.0</td>\n",
       "      <td>2.898637</td>\n",
       "      <td>1.164395</td>\n",
       "      <td>3432.0</td>\n",
       "      <td>2.923339</td>\n",
       "      <td>34.10</td>\n",
       "      <td>-118.30</td>\n",
       "      <td>1.667</td>\n",
       "    </tr>\n",
       "    <tr>\n",
       "      <th>6192</th>\n",
       "      <td>2.9148</td>\n",
       "      <td>15.0</td>\n",
       "      <td>4.285957</td>\n",
       "      <td>1.105532</td>\n",
       "      <td>3164.0</td>\n",
       "      <td>2.692766</td>\n",
       "      <td>34.16</td>\n",
       "      <td>-118.27</td>\n",
       "      <td>2.387</td>\n",
       "    </tr>\n",
       "  </tbody>\n",
       "</table>\n",
       "<p>6193 rows × 9 columns</p>\n",
       "</div>"
      ],
      "text/plain": [
       "      MedInc  HouseAge  AveRooms  AveBedrms  Population  AveOccup  Latitude  \\\n",
       "0     3.2500      39.0  4.503205   1.073718      1109.0  1.777244     34.06   \n",
       "1     1.9784      37.0  4.988584   1.038813      1143.0  2.609589     36.78   \n",
       "2     4.0132      46.0  4.480296   1.012315      1534.0  3.778325     37.73   \n",
       "3     1.5208      52.0  3.908046   1.114943       200.0  2.298851     37.81   \n",
       "4     5.1795      37.0  5.406360   1.024735       711.0  2.512367     33.82   \n",
       "...      ...       ...       ...        ...         ...       ...       ...   \n",
       "6188  3.6429      33.0  6.253731   1.149254       190.0  2.835821     39.65   \n",
       "6189  2.5865      47.0  4.681818   1.041958       794.0  2.776224     38.12   \n",
       "6190  2.6098      13.0  5.042553   1.104533      2957.0  2.735430     38.07   \n",
       "6191  1.7083      29.0  2.898637   1.164395      3432.0  2.923339     34.10   \n",
       "6192  2.9148      15.0  4.285957   1.105532      3164.0  2.692766     34.16   \n",
       "\n",
       "      Longitude  target  \n",
       "0       -118.36   3.550  \n",
       "1       -119.78   0.707  \n",
       "2       -122.42   2.294  \n",
       "3       -122.28   1.125  \n",
       "4       -118.13   2.254  \n",
       "...         ...     ...  \n",
       "6188    -122.14   0.875  \n",
       "6189    -122.25   1.098  \n",
       "6190    -122.24   1.625  \n",
       "6191    -118.30   1.667  \n",
       "6192    -118.27   2.387  \n",
       "\n",
       "[6193 rows x 9 columns]"
      ]
     },
     "execution_count": 6,
     "metadata": {},
     "output_type": "execute_result"
    }
   ],
   "source": [
    "df_test"
   ]
  },
  {
   "cell_type": "code",
   "execution_count": 7,
   "id": "dd2f57ed",
   "metadata": {},
   "outputs": [
    {
     "name": "stdout",
     "output_type": "stream",
     "text": [
      "<class 'pandas.core.frame.DataFrame'>\n",
      "RangeIndex: 14447 entries, 0 to 14446\n",
      "Data columns (total 9 columns):\n",
      " #   Column      Non-Null Count  Dtype  \n",
      "---  ------      --------------  -----  \n",
      " 0   MedInc      14447 non-null  float64\n",
      " 1   HouseAge    14447 non-null  float64\n",
      " 2   AveRooms    14447 non-null  float64\n",
      " 3   AveBedrms   14447 non-null  float64\n",
      " 4   Population  14447 non-null  float64\n",
      " 5   AveOccup    14447 non-null  float64\n",
      " 6   Latitude    14447 non-null  float64\n",
      " 7   Longitude   14447 non-null  float64\n",
      " 8   target      14447 non-null  float64\n",
      "dtypes: float64(9)\n",
      "memory usage: 1015.9 KB\n"
     ]
    }
   ],
   "source": [
    "df_train.info()"
   ]
  },
  {
   "cell_type": "markdown",
   "id": "c9a99968",
   "metadata": {},
   "source": [
    "## EDA"
   ]
  },
  {
   "cell_type": "code",
   "execution_count": 8,
   "id": "29b842cf",
   "metadata": {},
   "outputs": [
    {
     "data": {
      "text/html": [
       "<div>\n",
       "<style scoped>\n",
       "    .dataframe tbody tr th:only-of-type {\n",
       "        vertical-align: middle;\n",
       "    }\n",
       "\n",
       "    .dataframe tbody tr th {\n",
       "        vertical-align: top;\n",
       "    }\n",
       "\n",
       "    .dataframe thead th {\n",
       "        text-align: right;\n",
       "    }\n",
       "</style>\n",
       "<table border=\"1\" class=\"dataframe\">\n",
       "  <thead>\n",
       "    <tr style=\"text-align: right;\">\n",
       "      <th></th>\n",
       "      <th>MedInc</th>\n",
       "      <th>HouseAge</th>\n",
       "      <th>AveRooms</th>\n",
       "      <th>AveBedrms</th>\n",
       "      <th>Population</th>\n",
       "      <th>AveOccup</th>\n",
       "      <th>Latitude</th>\n",
       "      <th>Longitude</th>\n",
       "      <th>target</th>\n",
       "    </tr>\n",
       "  </thead>\n",
       "  <tbody>\n",
       "    <tr>\n",
       "      <th>count</th>\n",
       "      <td>14447.000000</td>\n",
       "      <td>14447.000000</td>\n",
       "      <td>14447.000000</td>\n",
       "      <td>14447.000000</td>\n",
       "      <td>14447.000000</td>\n",
       "      <td>14447.000000</td>\n",
       "      <td>14447.000000</td>\n",
       "      <td>14447.000000</td>\n",
       "      <td>14447.000000</td>\n",
       "    </tr>\n",
       "    <tr>\n",
       "      <th>mean</th>\n",
       "      <td>3.872355</td>\n",
       "      <td>28.567246</td>\n",
       "      <td>5.434850</td>\n",
       "      <td>1.097764</td>\n",
       "      <td>1428.768049</td>\n",
       "      <td>3.123288</td>\n",
       "      <td>35.629552</td>\n",
       "      <td>-119.570905</td>\n",
       "      <td>2.076510</td>\n",
       "    </tr>\n",
       "    <tr>\n",
       "      <th>std</th>\n",
       "      <td>1.888058</td>\n",
       "      <td>12.578846</td>\n",
       "      <td>2.569482</td>\n",
       "      <td>0.501881</td>\n",
       "      <td>1130.599519</td>\n",
       "      <td>12.394618</td>\n",
       "      <td>2.135576</td>\n",
       "      <td>2.006880</td>\n",
       "      <td>1.157042</td>\n",
       "    </tr>\n",
       "    <tr>\n",
       "      <th>min</th>\n",
       "      <td>0.499900</td>\n",
       "      <td>1.000000</td>\n",
       "      <td>0.846154</td>\n",
       "      <td>0.333333</td>\n",
       "      <td>3.000000</td>\n",
       "      <td>0.750000</td>\n",
       "      <td>32.540000</td>\n",
       "      <td>-124.300000</td>\n",
       "      <td>0.149990</td>\n",
       "    </tr>\n",
       "    <tr>\n",
       "      <th>25%</th>\n",
       "      <td>2.568200</td>\n",
       "      <td>18.000000</td>\n",
       "      <td>4.441016</td>\n",
       "      <td>1.006173</td>\n",
       "      <td>788.000000</td>\n",
       "      <td>2.429271</td>\n",
       "      <td>33.930000</td>\n",
       "      <td>-121.810000</td>\n",
       "      <td>1.202000</td>\n",
       "    </tr>\n",
       "    <tr>\n",
       "      <th>50%</th>\n",
       "      <td>3.537900</td>\n",
       "      <td>29.000000</td>\n",
       "      <td>5.230366</td>\n",
       "      <td>1.048966</td>\n",
       "      <td>1164.000000</td>\n",
       "      <td>2.817259</td>\n",
       "      <td>34.250000</td>\n",
       "      <td>-118.490000</td>\n",
       "      <td>1.801000</td>\n",
       "    </tr>\n",
       "    <tr>\n",
       "      <th>75%</th>\n",
       "      <td>4.740300</td>\n",
       "      <td>37.000000</td>\n",
       "      <td>6.062470</td>\n",
       "      <td>1.099678</td>\n",
       "      <td>1723.000000</td>\n",
       "      <td>3.274941</td>\n",
       "      <td>37.710000</td>\n",
       "      <td>-118.010000</td>\n",
       "      <td>2.659000</td>\n",
       "    </tr>\n",
       "    <tr>\n",
       "      <th>max</th>\n",
       "      <td>15.000100</td>\n",
       "      <td>52.000000</td>\n",
       "      <td>141.909091</td>\n",
       "      <td>34.066667</td>\n",
       "      <td>35682.000000</td>\n",
       "      <td>1243.333333</td>\n",
       "      <td>41.950000</td>\n",
       "      <td>-114.310000</td>\n",
       "      <td>5.000010</td>\n",
       "    </tr>\n",
       "  </tbody>\n",
       "</table>\n",
       "</div>"
      ],
      "text/plain": [
       "             MedInc      HouseAge      AveRooms     AveBedrms    Population  \\\n",
       "count  14447.000000  14447.000000  14447.000000  14447.000000  14447.000000   \n",
       "mean       3.872355     28.567246      5.434850      1.097764   1428.768049   \n",
       "std        1.888058     12.578846      2.569482      0.501881   1130.599519   \n",
       "min        0.499900      1.000000      0.846154      0.333333      3.000000   \n",
       "25%        2.568200     18.000000      4.441016      1.006173    788.000000   \n",
       "50%        3.537900     29.000000      5.230366      1.048966   1164.000000   \n",
       "75%        4.740300     37.000000      6.062470      1.099678   1723.000000   \n",
       "max       15.000100     52.000000    141.909091     34.066667  35682.000000   \n",
       "\n",
       "           AveOccup      Latitude     Longitude        target  \n",
       "count  14447.000000  14447.000000  14447.000000  14447.000000  \n",
       "mean       3.123288     35.629552   -119.570905      2.076510  \n",
       "std       12.394618      2.135576      2.006880      1.157042  \n",
       "min        0.750000     32.540000   -124.300000      0.149990  \n",
       "25%        2.429271     33.930000   -121.810000      1.202000  \n",
       "50%        2.817259     34.250000   -118.490000      1.801000  \n",
       "75%        3.274941     37.710000   -118.010000      2.659000  \n",
       "max     1243.333333     41.950000   -114.310000      5.000010  "
      ]
     },
     "execution_count": 8,
     "metadata": {},
     "output_type": "execute_result"
    }
   ],
   "source": [
    "df_train.describe()"
   ]
  },
  {
   "cell_type": "code",
   "execution_count": 9,
   "id": "e1b4200e",
   "metadata": {},
   "outputs": [
    {
     "data": {
      "text/plain": [
       "MedInc        0\n",
       "HouseAge      0\n",
       "AveRooms      0\n",
       "AveBedrms     0\n",
       "Population    0\n",
       "AveOccup      0\n",
       "Latitude      0\n",
       "Longitude     0\n",
       "target        0\n",
       "dtype: int64"
      ]
     },
     "execution_count": 9,
     "metadata": {},
     "output_type": "execute_result"
    }
   ],
   "source": [
    "df_train.isnull().sum()"
   ]
  },
  {
   "cell_type": "code",
   "execution_count": 10,
   "id": "28b12574",
   "metadata": {
    "scrolled": false
   },
   "outputs": [],
   "source": [
    "#sns.pairplot(data=df_train)"
   ]
  },
  {
   "cell_type": "code",
   "execution_count": 11,
   "id": "438ae77a",
   "metadata": {
    "scrolled": false
   },
   "outputs": [
    {
     "data": {
      "image/png": "[encoded data removed]",
      "text/plain": [
       "<Figure size 1080x504 with 2 Axes>"
      ]
     },
     "metadata": {
      "needs_background": "light"
     },
     "output_type": "display_data"
    }
   ],
   "source": [
    "plt.figure(figsize=(15,7))\n",
    "sns.heatmap(df_train.corr(), annot=True)\n",
    "plt.show()"
   ]
  },
  {
   "cell_type": "code",
   "execution_count": 12,
   "id": "ff674f2e",
   "metadata": {},
   "outputs": [
    {
     "data": {
      "text/plain": [
       "count    14447.000000\n",
       "mean         3.123288\n",
       "std         12.394618\n",
       "min          0.750000\n",
       "25%          2.429271\n",
       "50%          2.817259\n",
       "75%          3.274941\n",
       "max       1243.333333\n",
       "Name: AveOccup, dtype: float64"
      ]
     },
     "execution_count": 12,
     "metadata": {},
     "output_type": "execute_result"
    }
   ],
   "source": [
    "df_train['AveOccup'].describe()"
   ]
  },
  {
   "cell_type": "code",
   "execution_count": 13,
   "id": "21649f8e",
   "metadata": {},
   "outputs": [
    {
     "data": {
      "text/plain": [
       "(0.0, 10.0)"
      ]
     },
     "execution_count": 13,
     "metadata": {},
     "output_type": "execute_result"
    },
    {
     "data": {
      "image/png": "[encoded data removed]",
      "text/plain": [
       "<Figure size 432x288 with 1 Axes>"
      ]
     },
     "metadata": {
      "needs_background": "light"
     },
     "output_type": "display_data"
    }
   ],
   "source": [
    "#ヒストグラムを作るとこんなんなってしまう\n",
    "df_train['AveOccup'].hist()\n",
    "plt.xlim(0,10)"
   ]
  },
  {
   "cell_type": "code",
   "execution_count": 14,
   "id": "cf7ca60d",
   "metadata": {},
   "outputs": [
    {
     "data": {
      "image/png": "[encoded data removed]",
      "text/plain": [
       "<Figure size 432x288 with 1 Axes>"
      ]
     },
     "metadata": {
      "needs_background": "light"
     },
     "output_type": "display_data"
    }
   ],
   "source": [
    "#'AveOccup'をヒストグラムをプロットするとかなり時間がかかる、\n",
    "#そんな時はボックスプロット\n",
    "sns.boxplot(x='AveOccup', data=df_train)\n",
    "plt.xlim(0, 5)\n",
    "plt.show()"
   ]
  },
  {
   "cell_type": "code",
   "execution_count": 15,
   "id": "978da0d2",
   "metadata": {},
   "outputs": [
    {
     "data": {
      "text/plain": [
       "<AxesSubplot:xlabel='Population', ylabel='Count'>"
      ]
     },
     "execution_count": 15,
     "metadata": {},
     "output_type": "execute_result"
    },
    {
     "data": {
      "image/png": "[encoded data removed]",
      "text/plain": [
       "<Figure size 432x288 with 1 Axes>"
      ]
     },
     "metadata": {
      "needs_background": "light"
     },
     "output_type": "display_data"
    }
   ],
   "source": [
    "sns.histplot(x='Population', data=df_train)"
   ]
  },
  {
   "cell_type": "code",
   "execution_count": 16,
   "id": "76e73a4f",
   "metadata": {},
   "outputs": [
    {
     "data": {
      "text/plain": [
       "(0.0, 5000.0)"
      ]
     },
     "execution_count": 16,
     "metadata": {},
     "output_type": "execute_result"
    },
    {
     "data": {
      "image/png": "[encoded data removed]",
      "text/plain": [
       "<Figure size 432x288 with 1 Axes>"
      ]
     },
     "metadata": {
      "needs_background": "light"
     },
     "output_type": "display_data"
    }
   ],
   "source": [
    "sns.boxplot(x='Population', data=df_train)\n",
    "plt.xlim(0, 5000)"
   ]
  },
  {
   "cell_type": "code",
   "execution_count": 17,
   "id": "5cc3625e",
   "metadata": {},
   "outputs": [
    {
     "data": {
      "text/plain": [
       "<AxesSubplot:xlabel='Population'>"
      ]
     },
     "execution_count": 17,
     "metadata": {},
     "output_type": "execute_result"
    },
    {
     "data": {
      "image/png": "[encoded data removed]",
      "text/plain": [
       "<Figure size 432x288 with 1 Axes>"
      ]
     },
     "metadata": {
      "needs_background": "light"
     },
     "output_type": "display_data"
    }
   ],
   "source": [
    "#バイオリンプロットでもデータの様相を確認できる\n",
    "sns.violinplot(x='Population', data=df_train)"
   ]
  },
  {
   "cell_type": "code",
   "execution_count": 18,
   "id": "0c8c6d00",
   "metadata": {},
   "outputs": [
    {
     "data": {
      "text/plain": [
       "<AxesSubplot:xlabel='AveOccup'>"
      ]
     },
     "execution_count": 18,
     "metadata": {},
     "output_type": "execute_result"
    },
    {
     "data": {
      "image/png": "[encoded data removed]",
      "text/plain": [
       "<Figure size 432x288 with 1 Axes>"
      ]
     },
     "metadata": {
      "needs_background": "light"
     },
     "output_type": "display_data"
    }
   ],
   "source": [
    "sns.violinplot(x='AveOccup', data=df_train)"
   ]
  },
  {
   "cell_type": "code",
   "execution_count": 19,
   "id": "e92a6ec7",
   "metadata": {},
   "outputs": [
    {
     "data": {
      "image/png": "[encoded data removed]",
      "text/plain": [
       "<Figure size 432x432 with 3 Axes>"
      ]
     },
     "metadata": {
      "needs_background": "light"
     },
     "output_type": "display_data"
    },
    {
     "data": {
      "image/png": "[encoded data removed]",
      "text/plain": [
       "<Figure size 432x432 with 3 Axes>"
      ]
     },
     "metadata": {
      "needs_background": "light"
     },
     "output_type": "display_data"
    }
   ],
   "source": [
    "sns.jointplot(x='target', y='Latitude', data=df_train, kind='hist')\n",
    "sns.jointplot(x='target', y='Longitude', data=df_train, kind='hist')\n",
    "plt.show()"
   ]
  },
  {
   "cell_type": "code",
   "execution_count": 20,
   "id": "e42ae558",
   "metadata": {},
   "outputs": [
    {
     "data": {
      "text/plain": [
       "<seaborn.axisgrid.JointGrid at 0x1c8da0f4e80>"
      ]
     },
     "execution_count": 20,
     "metadata": {},
     "output_type": "execute_result"
    },
    {
     "data": {
      "image/png": "[encoded data removed]",
      "text/plain": [
       "<Figure size 432x432 with 3 Axes>"
      ]
     },
     "metadata": {
      "needs_background": "light"
     },
     "output_type": "display_data"
    }
   ],
   "source": [
    "#サンフランシスコ、ロスあたりのデータがそもそも多い\n",
    "sns.jointplot(x='Longitude', y='Latitude', data=df_train, kind='hist',bins=50)"
   ]
  },
  {
   "cell_type": "code",
   "execution_count": 21,
   "id": "f8da4869",
   "metadata": {},
   "outputs": [
    {
     "data": {
      "text/plain": [
       "<AxesSubplot:xlabel='Longitude', ylabel='Latitude'>"
      ]
     },
     "execution_count": 21,
     "metadata": {},
     "output_type": "execute_result"
    },
    {
     "data": {
      "image/png": "[encoded data removed]",
      "text/plain": [
       "<Figure size 720x504 with 2 Axes>"
      ]
     },
     "metadata": {
      "needs_background": "light"
     },
     "output_type": "display_data"
    }
   ],
   "source": [
    "#縦軸＝緯度、横軸＝経度、色＝住宅価格\n",
    "df_train.plot(kind='scatter', x='Longitude', y='Latitude', alpha=0.05, c='target', cmap=plt.get_cmap('jet'), figsize=(10,7))"
   ]
  },
  {
   "cell_type": "code",
   "execution_count": 22,
   "id": "e8d23f12",
   "metadata": {},
   "outputs": [
    {
     "data": {
      "text/plain": [
       "<seaborn.axisgrid.JointGrid at 0x1c8dbba2f10>"
      ]
     },
     "execution_count": 22,
     "metadata": {},
     "output_type": "execute_result"
    },
    {
     "data": {
      "image/png": "[encoded data removed]",
      "text/plain": [
       "<Figure size 432x432 with 3 Axes>"
      ]
     },
     "metadata": {
      "needs_background": "light"
     },
     "output_type": "display_data"
    }
   ],
   "source": [
    "sns.jointplot(x='MedInc', y='target',data=df_train, kind='hist')"
   ]
  },
  {
   "cell_type": "code",
   "execution_count": null,
   "id": "7abd0e4a",
   "metadata": {},
   "outputs": [],
   "source": []
  },
  {
   "cell_type": "markdown",
   "id": "feedc285",
   "metadata": {},
   "source": [
    "# モデル構築"
   ]
  },
  {
   "cell_type": "markdown",
   "id": "5081ba37",
   "metadata": {},
   "source": [
    "## ①ベンチマークモデル作成　線形回帰、LightGBM、決定木、ランフォレ"
   ]
  },
  {
   "cell_type": "markdown",
   "id": "5953c879",
   "metadata": {},
   "source": [
    "#### 線形回帰"
   ]
  },
  {
   "cell_type": "code",
   "execution_count": 23,
   "id": "4cb71fee",
   "metadata": {},
   "outputs": [
    {
     "data": {
      "text/html": [
       "<div>\n",
       "<style scoped>\n",
       "    .dataframe tbody tr th:only-of-type {\n",
       "        vertical-align: middle;\n",
       "    }\n",
       "\n",
       "    .dataframe tbody tr th {\n",
       "        vertical-align: top;\n",
       "    }\n",
       "\n",
       "    .dataframe thead th {\n",
       "        text-align: right;\n",
       "    }\n",
       "</style>\n",
       "<table border=\"1\" class=\"dataframe\">\n",
       "  <thead>\n",
       "    <tr style=\"text-align: right;\">\n",
       "      <th></th>\n",
       "      <th>MedInc</th>\n",
       "      <th>HouseAge</th>\n",
       "      <th>AveRooms</th>\n",
       "      <th>AveBedrms</th>\n",
       "      <th>Population</th>\n",
       "      <th>AveOccup</th>\n",
       "      <th>Latitude</th>\n",
       "      <th>Longitude</th>\n",
       "    </tr>\n",
       "  </thead>\n",
       "  <tbody>\n",
       "    <tr>\n",
       "      <th>0</th>\n",
       "      <td>3.1779</td>\n",
       "      <td>41.0</td>\n",
       "      <td>4.394737</td>\n",
       "      <td>1.054825</td>\n",
       "      <td>1658.0</td>\n",
       "      <td>3.635965</td>\n",
       "      <td>33.80</td>\n",
       "      <td>-118.26</td>\n",
       "    </tr>\n",
       "    <tr>\n",
       "      <th>1</th>\n",
       "      <td>2.5111</td>\n",
       "      <td>49.0</td>\n",
       "      <td>4.886792</td>\n",
       "      <td>0.964361</td>\n",
       "      <td>1290.0</td>\n",
       "      <td>2.704403</td>\n",
       "      <td>36.75</td>\n",
       "      <td>-119.75</td>\n",
       "    </tr>\n",
       "    <tr>\n",
       "      <th>2</th>\n",
       "      <td>2.5405</td>\n",
       "      <td>15.0</td>\n",
       "      <td>6.444651</td>\n",
       "      <td>1.422326</td>\n",
       "      <td>2568.0</td>\n",
       "      <td>2.388837</td>\n",
       "      <td>34.06</td>\n",
       "      <td>-116.56</td>\n",
       "    </tr>\n",
       "    <tr>\n",
       "      <th>3</th>\n",
       "      <td>4.5033</td>\n",
       "      <td>7.0</td>\n",
       "      <td>5.291789</td>\n",
       "      <td>1.101173</td>\n",
       "      <td>1739.0</td>\n",
       "      <td>2.549853</td>\n",
       "      <td>37.26</td>\n",
       "      <td>-121.83</td>\n",
       "    </tr>\n",
       "    <tr>\n",
       "      <th>4</th>\n",
       "      <td>2.9196</td>\n",
       "      <td>33.0</td>\n",
       "      <td>4.824528</td>\n",
       "      <td>1.090566</td>\n",
       "      <td>1715.0</td>\n",
       "      <td>3.235849</td>\n",
       "      <td>34.09</td>\n",
       "      <td>-118.08</td>\n",
       "    </tr>\n",
       "    <tr>\n",
       "      <th>...</th>\n",
       "      <td>...</td>\n",
       "      <td>...</td>\n",
       "      <td>...</td>\n",
       "      <td>...</td>\n",
       "      <td>...</td>\n",
       "      <td>...</td>\n",
       "      <td>...</td>\n",
       "      <td>...</td>\n",
       "    </tr>\n",
       "    <tr>\n",
       "      <th>14442</th>\n",
       "      <td>1.7823</td>\n",
       "      <td>17.0</td>\n",
       "      <td>4.055046</td>\n",
       "      <td>1.087156</td>\n",
       "      <td>1079.0</td>\n",
       "      <td>2.474771</td>\n",
       "      <td>33.76</td>\n",
       "      <td>-117.88</td>\n",
       "    </tr>\n",
       "    <tr>\n",
       "      <th>14443</th>\n",
       "      <td>8.5608</td>\n",
       "      <td>42.0</td>\n",
       "      <td>6.788462</td>\n",
       "      <td>1.011538</td>\n",
       "      <td>753.0</td>\n",
       "      <td>2.896154</td>\n",
       "      <td>34.42</td>\n",
       "      <td>-119.63</td>\n",
       "    </tr>\n",
       "    <tr>\n",
       "      <th>14444</th>\n",
       "      <td>1.1326</td>\n",
       "      <td>42.0</td>\n",
       "      <td>4.890785</td>\n",
       "      <td>1.006826</td>\n",
       "      <td>775.0</td>\n",
       "      <td>2.645051</td>\n",
       "      <td>33.93</td>\n",
       "      <td>-118.26</td>\n",
       "    </tr>\n",
       "    <tr>\n",
       "      <th>14445</th>\n",
       "      <td>2.6322</td>\n",
       "      <td>10.0</td>\n",
       "      <td>4.991614</td>\n",
       "      <td>0.951782</td>\n",
       "      <td>1323.0</td>\n",
       "      <td>2.773585</td>\n",
       "      <td>33.73</td>\n",
       "      <td>-117.16</td>\n",
       "    </tr>\n",
       "    <tr>\n",
       "      <th>14446</th>\n",
       "      <td>2.3036</td>\n",
       "      <td>35.0</td>\n",
       "      <td>4.620513</td>\n",
       "      <td>1.176923</td>\n",
       "      <td>1009.0</td>\n",
       "      <td>2.587179</td>\n",
       "      <td>37.79</td>\n",
       "      <td>-122.20</td>\n",
       "    </tr>\n",
       "  </tbody>\n",
       "</table>\n",
       "<p>14447 rows × 8 columns</p>\n",
       "</div>"
      ],
      "text/plain": [
       "       MedInc  HouseAge  AveRooms  AveBedrms  Population  AveOccup  Latitude  \\\n",
       "0      3.1779      41.0  4.394737   1.054825      1658.0  3.635965     33.80   \n",
       "1      2.5111      49.0  4.886792   0.964361      1290.0  2.704403     36.75   \n",
       "2      2.5405      15.0  6.444651   1.422326      2568.0  2.388837     34.06   \n",
       "3      4.5033       7.0  5.291789   1.101173      1739.0  2.549853     37.26   \n",
       "4      2.9196      33.0  4.824528   1.090566      1715.0  3.235849     34.09   \n",
       "...       ...       ...       ...        ...         ...       ...       ...   \n",
       "14442  1.7823      17.0  4.055046   1.087156      1079.0  2.474771     33.76   \n",
       "14443  8.5608      42.0  6.788462   1.011538       753.0  2.896154     34.42   \n",
       "14444  1.1326      42.0  4.890785   1.006826       775.0  2.645051     33.93   \n",
       "14445  2.6322      10.0  4.991614   0.951782      1323.0  2.773585     33.73   \n",
       "14446  2.3036      35.0  4.620513   1.176923      1009.0  2.587179     37.79   \n",
       "\n",
       "       Longitude  \n",
       "0        -118.26  \n",
       "1        -119.75  \n",
       "2        -116.56  \n",
       "3        -121.83  \n",
       "4        -118.08  \n",
       "...          ...  \n",
       "14442    -117.88  \n",
       "14443    -119.63  \n",
       "14444    -118.26  \n",
       "14445    -117.16  \n",
       "14446    -122.20  \n",
       "\n",
       "[14447 rows x 8 columns]"
      ]
     },
     "execution_count": 23,
     "metadata": {},
     "output_type": "execute_result"
    }
   ],
   "source": [
    "#特徴量エンジニアリング\n",
    "x_train_line = df_train.loc[:,'MedInc':'Longitude']\n",
    "y_train_line = df_train['target']\n",
    "x_train_line"
   ]
  },
  {
   "cell_type": "code",
   "execution_count": 24,
   "id": "e7550b3b",
   "metadata": {},
   "outputs": [],
   "source": [
    "LR=LinearRegression()\n",
    "LR.fit(x_train_line, y_train_line)\n",
    "pre_lin=LR.predict(x_train_line)"
   ]
  },
  {
   "cell_type": "code",
   "execution_count": 25,
   "id": "41a751e2",
   "metadata": {},
   "outputs": [
    {
     "data": {
      "text/html": [
       "<div>\n",
       "<style scoped>\n",
       "    .dataframe tbody tr th:only-of-type {\n",
       "        vertical-align: middle;\n",
       "    }\n",
       "\n",
       "    .dataframe tbody tr th {\n",
       "        vertical-align: top;\n",
       "    }\n",
       "\n",
       "    .dataframe thead th {\n",
       "        text-align: right;\n",
       "    }\n",
       "</style>\n",
       "<table border=\"1\" class=\"dataframe\">\n",
       "  <thead>\n",
       "    <tr style=\"text-align: right;\">\n",
       "      <th></th>\n",
       "      <th>price_pred</th>\n",
       "    </tr>\n",
       "  </thead>\n",
       "  <tbody>\n",
       "    <tr>\n",
       "      <th>0</th>\n",
       "      <td>2.170150</td>\n",
       "    </tr>\n",
       "    <tr>\n",
       "      <th>1</th>\n",
       "      <td>1.255071</td>\n",
       "    </tr>\n",
       "    <tr>\n",
       "      <th>2</th>\n",
       "      <td>0.795392</td>\n",
       "    </tr>\n",
       "    <tr>\n",
       "      <th>3</th>\n",
       "      <td>2.462278</td>\n",
       "    </tr>\n",
       "    <tr>\n",
       "      <th>4</th>\n",
       "      <td>1.755361</td>\n",
       "    </tr>\n",
       "    <tr>\n",
       "      <th>...</th>\n",
       "      <td>...</td>\n",
       "    </tr>\n",
       "    <tr>\n",
       "      <th>14442</th>\n",
       "      <td>1.235354</td>\n",
       "    </tr>\n",
       "    <tr>\n",
       "      <th>14443</th>\n",
       "      <td>4.621358</td>\n",
       "    </tr>\n",
       "    <tr>\n",
       "      <th>14444</th>\n",
       "      <td>1.149223</td>\n",
       "    </tr>\n",
       "    <tr>\n",
       "      <th>14445</th>\n",
       "      <td>1.055113</td>\n",
       "    </tr>\n",
       "    <tr>\n",
       "      <th>14446</th>\n",
       "      <td>1.822667</td>\n",
       "    </tr>\n",
       "  </tbody>\n",
       "</table>\n",
       "<p>14447 rows × 1 columns</p>\n",
       "</div>"
      ],
      "text/plain": [
       "       price_pred\n",
       "0        2.170150\n",
       "1        1.255071\n",
       "2        0.795392\n",
       "3        2.462278\n",
       "4        1.755361\n",
       "...           ...\n",
       "14442    1.235354\n",
       "14443    4.621358\n",
       "14444    1.149223\n",
       "14445    1.055113\n",
       "14446    1.822667\n",
       "\n",
       "[14447 rows x 1 columns]"
      ]
     },
     "execution_count": 25,
     "metadata": {},
     "output_type": "execute_result"
    }
   ],
   "source": [
    "pre_lin=pd.DataFrame(pre_lin, columns=['price_pred'])\n",
    "pre_lin"
   ]
  },
  {
   "cell_type": "code",
   "execution_count": 26,
   "id": "46ebd6ce",
   "metadata": {},
   "outputs": [
    {
     "name": "stdout",
     "output_type": "stream",
     "text": [
      "-37.284575109861564\n",
      "[ 4.41039414e-01  9.69156499e-03 -1.04748065e-01  6.21897419e-01\n",
      " -5.66545297e-06 -3.28751453e-03 -4.23159711e-01 -4.37885032e-01]\n"
     ]
    }
   ],
   "source": [
    "print(LR.intercept_)\n",
    "print(LR.coef_)"
   ]
  },
  {
   "cell_type": "code",
   "execution_count": 27,
   "id": "32acf7b7",
   "metadata": {},
   "outputs": [
    {
     "data": {
      "text/plain": [
       "0.6097372488516284"
      ]
     },
     "execution_count": 27,
     "metadata": {},
     "output_type": "execute_result"
    }
   ],
   "source": [
    "#決定係数\n",
    "r2_score(y_train_line,  pre_lin)"
   ]
  },
  {
   "cell_type": "code",
   "execution_count": 28,
   "id": "8e9f7808",
   "metadata": {},
   "outputs": [
    {
     "data": {
      "text/plain": [
       "array([2.17014971, 1.25507092, 0.79539218, ..., 1.14922253, 1.05511297,\n",
       "       1.82266727])"
      ]
     },
     "execution_count": 28,
     "metadata": {},
     "output_type": "execute_result"
    }
   ],
   "source": [
    "lr=LinearRegression()\n",
    "lr.fit(X_train,y_train)\n",
    "i = lr.predict(X_train)\n",
    "i"
   ]
  },
  {
   "cell_type": "code",
   "execution_count": 29,
   "id": "3e0a5a7e",
   "metadata": {},
   "outputs": [
    {
     "data": {
      "text/plain": [
       "0.6097372488516284"
      ]
     },
     "execution_count": 29,
     "metadata": {},
     "output_type": "execute_result"
    }
   ],
   "source": [
    "r2_score(y_train, i)"
   ]
  },
  {
   "cell_type": "code",
   "execution_count": 30,
   "id": "da61d0ac",
   "metadata": {},
   "outputs": [
    {
     "data": {
      "text/plain": [
       "0.5308619236755425"
      ]
     },
     "execution_count": 30,
     "metadata": {},
     "output_type": "execute_result"
    }
   ],
   "source": [
    "#MAE\n",
    "mean_absolute_error(y_train_line, pre_lin)"
   ]
  },
  {
   "cell_type": "code",
   "execution_count": 31,
   "id": "89ef919f",
   "metadata": {},
   "outputs": [
    {
     "name": "stdout",
     "output_type": "stream",
     "text": [
      "0.5224264722480978\n",
      "0.7227907527411359\n"
     ]
    }
   ],
   "source": [
    "#MSE,RMSE\n",
    "#mean_squared_errorの引数squered=FalseにすることでRMSEを計算\n",
    "print(mean_squared_error(y_train_line, pre_lin))\n",
    "print(mean_squared_error(y_train_line, pre_lin, squared=False))"
   ]
  },
  {
   "cell_type": "code",
   "execution_count": 32,
   "id": "23570c69",
   "metadata": {},
   "outputs": [
    {
     "data": {
      "text/plain": [
       "0.7227907527411359"
      ]
     },
     "execution_count": 32,
     "metadata": {},
     "output_type": "execute_result"
    }
   ],
   "source": [
    "#RMSEはこれでも計算可能\n",
    "np.sqrt(mean_squared_error(y_train_line, pre_lin))"
   ]
  },
  {
   "cell_type": "markdown",
   "id": "4370d7b8",
   "metadata": {},
   "source": [
    "## MAEよりRMSEの方が大きくなっている\n",
    "評価指標について：https://datawokagaku.com/reg_metrics/"
   ]
  },
  {
   "cell_type": "code",
   "execution_count": 33,
   "id": "59ac59cf",
   "metadata": {},
   "outputs": [
    {
     "data": {
      "text/plain": [
       "array([2.12594131, 0.94105584, 2.7104278 , ..., 1.5427789 , 1.51341441,\n",
       "       1.69167071])"
      ]
     },
     "execution_count": 33,
     "metadata": {},
     "output_type": "execute_result"
    }
   ],
   "source": [
    "#テストデータに突っ込む\n",
    "X_test_lin=df_test.loc[:,'MedInc':'Longitude']\n",
    "y_test_lin=df_test['target']\n",
    "y_test_pred=LR.predict(X_test_lin)\n",
    "y_test_pred"
   ]
  },
  {
   "cell_type": "code",
   "execution_count": 34,
   "id": "c9d1004e",
   "metadata": {},
   "outputs": [
    {
     "name": "stdout",
     "output_type": "stream",
     "text": [
      "決定係数 0.5970870916688176\n",
      "MAE 0.5352673125242643\n",
      "RMSE 0.7277531445572314\n"
     ]
    }
   ],
   "source": [
    "#決定係数\n",
    "print('決定係数', r2_score(y_test_lin, y_test_pred))\n",
    "print('MAE', mean_absolute_error(y_test_lin, y_test_pred))\n",
    "print('RMSE', mean_squared_error(y_test_lin, y_test_pred, squared=False))"
   ]
  },
  {
   "cell_type": "markdown",
   "id": "e99e5ab7",
   "metadata": {},
   "source": [
    "## 結果　trainとtestの決定係数、MAE,RMSEはほぼ同じ\n",
    "next 決定係数,mae,rmseの指標を向上させるにはなにが必要？データは変えずに  \n",
    "過学習しているかどうかはどうやってチェックする？バイアス・バリアンス分解？"
   ]
  },
  {
   "cell_type": "code",
   "execution_count": 35,
   "id": "4a217ff4",
   "metadata": {},
   "outputs": [
    {
     "data": {
      "text/html": [
       "<div>\n",
       "<style scoped>\n",
       "    .dataframe tbody tr th:only-of-type {\n",
       "        vertical-align: middle;\n",
       "    }\n",
       "\n",
       "    .dataframe tbody tr th {\n",
       "        vertical-align: top;\n",
       "    }\n",
       "\n",
       "    .dataframe thead th {\n",
       "        text-align: right;\n",
       "    }\n",
       "</style>\n",
       "<table border=\"1\" class=\"dataframe\">\n",
       "  <thead>\n",
       "    <tr style=\"text-align: right;\">\n",
       "      <th></th>\n",
       "      <th>MedInc</th>\n",
       "      <th>HouseAge</th>\n",
       "      <th>AveRooms</th>\n",
       "      <th>AveBedrms</th>\n",
       "      <th>Population</th>\n",
       "      <th>AveOccup</th>\n",
       "      <th>Latitude</th>\n",
       "      <th>Longitude</th>\n",
       "    </tr>\n",
       "  </thead>\n",
       "  <tbody>\n",
       "    <tr>\n",
       "      <th>0</th>\n",
       "      <td>-0.367827</td>\n",
       "      <td>0.988420</td>\n",
       "      <td>-0.404809</td>\n",
       "      <td>-0.085560</td>\n",
       "      <td>0.202760</td>\n",
       "      <td>0.041364</td>\n",
       "      <td>-0.856732</td>\n",
       "      <td>0.653228</td>\n",
       "    </tr>\n",
       "    <tr>\n",
       "      <th>1</th>\n",
       "      <td>-0.721007</td>\n",
       "      <td>1.624431</td>\n",
       "      <td>-0.213302</td>\n",
       "      <td>-0.265816</td>\n",
       "      <td>-0.122743</td>\n",
       "      <td>-0.033797</td>\n",
       "      <td>0.524677</td>\n",
       "      <td>-0.089244</td>\n",
       "    </tr>\n",
       "    <tr>\n",
       "      <th>2</th>\n",
       "      <td>-0.705434</td>\n",
       "      <td>-1.078614</td>\n",
       "      <td>0.393012</td>\n",
       "      <td>0.646713</td>\n",
       "      <td>1.007670</td>\n",
       "      <td>-0.059258</td>\n",
       "      <td>-0.734981</td>\n",
       "      <td>1.500343</td>\n",
       "    </tr>\n",
       "    <tr>\n",
       "      <th>3</th>\n",
       "      <td>0.334188</td>\n",
       "      <td>-1.714624</td>\n",
       "      <td>-0.055679</td>\n",
       "      <td>0.006793</td>\n",
       "      <td>0.274405</td>\n",
       "      <td>-0.046266</td>\n",
       "      <td>0.763496</td>\n",
       "      <td>-1.125714</td>\n",
       "    </tr>\n",
       "    <tr>\n",
       "      <th>4</th>\n",
       "      <td>-0.504639</td>\n",
       "      <td>0.352410</td>\n",
       "      <td>-0.237535</td>\n",
       "      <td>-0.014342</td>\n",
       "      <td>0.253177</td>\n",
       "      <td>0.009082</td>\n",
       "      <td>-0.720932</td>\n",
       "      <td>0.742922</td>\n",
       "    </tr>\n",
       "    <tr>\n",
       "      <th>...</th>\n",
       "      <td>...</td>\n",
       "      <td>...</td>\n",
       "      <td>...</td>\n",
       "      <td>...</td>\n",
       "      <td>...</td>\n",
       "      <td>...</td>\n",
       "      <td>...</td>\n",
       "      <td>...</td>\n",
       "    </tr>\n",
       "    <tr>\n",
       "      <th>14442</th>\n",
       "      <td>-1.107025</td>\n",
       "      <td>-0.919611</td>\n",
       "      <td>-0.537015</td>\n",
       "      <td>-0.021137</td>\n",
       "      <td>-0.309376</td>\n",
       "      <td>-0.052324</td>\n",
       "      <td>-0.875463</td>\n",
       "      <td>0.842583</td>\n",
       "    </tr>\n",
       "    <tr>\n",
       "      <th>14443</th>\n",
       "      <td>2.483296</td>\n",
       "      <td>1.067921</td>\n",
       "      <td>0.526822</td>\n",
       "      <td>-0.171810</td>\n",
       "      <td>-0.597728</td>\n",
       "      <td>-0.018326</td>\n",
       "      <td>-0.566402</td>\n",
       "      <td>-0.029447</td>\n",
       "    </tr>\n",
       "    <tr>\n",
       "      <th>14444</th>\n",
       "      <td>-1.451147</td>\n",
       "      <td>1.067921</td>\n",
       "      <td>-0.211748</td>\n",
       "      <td>-0.181201</td>\n",
       "      <td>-0.578269</td>\n",
       "      <td>-0.038586</td>\n",
       "      <td>-0.795856</td>\n",
       "      <td>0.653228</td>\n",
       "    </tr>\n",
       "    <tr>\n",
       "      <th>14445</th>\n",
       "      <td>-0.656864</td>\n",
       "      <td>-1.476120</td>\n",
       "      <td>-0.172506</td>\n",
       "      <td>-0.290880</td>\n",
       "      <td>-0.093554</td>\n",
       "      <td>-0.028215</td>\n",
       "      <td>-0.889511</td>\n",
       "      <td>1.201361</td>\n",
       "    </tr>\n",
       "    <tr>\n",
       "      <th>14446</th>\n",
       "      <td>-0.830912</td>\n",
       "      <td>0.511412</td>\n",
       "      <td>-0.316937</td>\n",
       "      <td>0.157730</td>\n",
       "      <td>-0.371292</td>\n",
       "      <td>-0.043255</td>\n",
       "      <td>1.011682</td>\n",
       "      <td>-1.310086</td>\n",
       "    </tr>\n",
       "  </tbody>\n",
       "</table>\n",
       "<p>14447 rows × 8 columns</p>\n",
       "</div>"
      ],
      "text/plain": [
       "         MedInc  HouseAge  AveRooms  AveBedrms  Population  AveOccup  \\\n",
       "0     -0.367827  0.988420 -0.404809  -0.085560    0.202760  0.041364   \n",
       "1     -0.721007  1.624431 -0.213302  -0.265816   -0.122743 -0.033797   \n",
       "2     -0.705434 -1.078614  0.393012   0.646713    1.007670 -0.059258   \n",
       "3      0.334188 -1.714624 -0.055679   0.006793    0.274405 -0.046266   \n",
       "4     -0.504639  0.352410 -0.237535  -0.014342    0.253177  0.009082   \n",
       "...         ...       ...       ...        ...         ...       ...   \n",
       "14442 -1.107025 -0.919611 -0.537015  -0.021137   -0.309376 -0.052324   \n",
       "14443  2.483296  1.067921  0.526822  -0.171810   -0.597728 -0.018326   \n",
       "14444 -1.451147  1.067921 -0.211748  -0.181201   -0.578269 -0.038586   \n",
       "14445 -0.656864 -1.476120 -0.172506  -0.290880   -0.093554 -0.028215   \n",
       "14446 -0.830912  0.511412 -0.316937   0.157730   -0.371292 -0.043255   \n",
       "\n",
       "       Latitude  Longitude  \n",
       "0     -0.856732   0.653228  \n",
       "1      0.524677  -0.089244  \n",
       "2     -0.734981   1.500343  \n",
       "3      0.763496  -1.125714  \n",
       "4     -0.720932   0.742922  \n",
       "...         ...        ...  \n",
       "14442 -0.875463   0.842583  \n",
       "14443 -0.566402  -0.029447  \n",
       "14444 -0.795856   0.653228  \n",
       "14445 -0.889511   1.201361  \n",
       "14446  1.011682  -1.310086  \n",
       "\n",
       "[14447 rows x 8 columns]"
      ]
     },
     "execution_count": 35,
     "metadata": {},
     "output_type": "execute_result"
    }
   ],
   "source": [
    "#標準化\n",
    "ss=StandardScaler()\n",
    "ss.fit_transform(x_train_line)\n",
    "x_train_std = pd.DataFrame(ss.fit_transform(x_train_line), columns=x_train_line.columns)\n",
    "x_train_std"
   ]
  },
  {
   "cell_type": "code",
   "execution_count": 36,
   "id": "ef1640fa",
   "metadata": {},
   "outputs": [
    {
     "data": {
      "text/html": [
       "<div>\n",
       "<style scoped>\n",
       "    .dataframe tbody tr th:only-of-type {\n",
       "        vertical-align: middle;\n",
       "    }\n",
       "\n",
       "    .dataframe tbody tr th {\n",
       "        vertical-align: top;\n",
       "    }\n",
       "\n",
       "    .dataframe thead th {\n",
       "        text-align: right;\n",
       "    }\n",
       "</style>\n",
       "<table border=\"1\" class=\"dataframe\">\n",
       "  <thead>\n",
       "    <tr style=\"text-align: right;\">\n",
       "      <th></th>\n",
       "      <th>MedInc</th>\n",
       "      <th>HouseAge</th>\n",
       "      <th>AveRooms</th>\n",
       "      <th>AveBedrms</th>\n",
       "      <th>Population</th>\n",
       "      <th>AveOccup</th>\n",
       "      <th>Latitude</th>\n",
       "      <th>Longitude</th>\n",
       "    </tr>\n",
       "  </thead>\n",
       "  <tbody>\n",
       "    <tr>\n",
       "      <th>0</th>\n",
       "      <td>-0.320057</td>\n",
       "      <td>0.808914</td>\n",
       "      <td>-0.407927</td>\n",
       "      <td>-0.050898</td>\n",
       "      <td>-0.271649</td>\n",
       "      <td>-1.108472</td>\n",
       "      <td>-0.738128</td>\n",
       "      <td>0.604754</td>\n",
       "    </tr>\n",
       "    <tr>\n",
       "      <th>1</th>\n",
       "      <td>-0.979951</td>\n",
       "      <td>0.650179</td>\n",
       "      <td>-0.190858</td>\n",
       "      <td>-0.137912</td>\n",
       "      <td>-0.241739</td>\n",
       "      <td>-0.320322</td>\n",
       "      <td>0.534790</td>\n",
       "      <td>-0.106777</td>\n",
       "    </tr>\n",
       "    <tr>\n",
       "      <th>2</th>\n",
       "      <td>0.076004</td>\n",
       "      <td>1.364488</td>\n",
       "      <td>-0.418172</td>\n",
       "      <td>-0.203966</td>\n",
       "      <td>0.102222</td>\n",
       "      <td>0.786357</td>\n",
       "      <td>0.979376</td>\n",
       "      <td>-1.429624</td>\n",
       "    </tr>\n",
       "    <tr>\n",
       "      <th>3</th>\n",
       "      <td>-1.217421</td>\n",
       "      <td>1.840694</td>\n",
       "      <td>-0.674091</td>\n",
       "      <td>0.051869</td>\n",
       "      <td>-1.071291</td>\n",
       "      <td>-0.614561</td>\n",
       "      <td>1.016815</td>\n",
       "      <td>-1.359473</td>\n",
       "    </tr>\n",
       "    <tr>\n",
       "      <th>4</th>\n",
       "      <td>0.681253</td>\n",
       "      <td>0.650179</td>\n",
       "      <td>-0.004022</td>\n",
       "      <td>-0.173006</td>\n",
       "      <td>-0.621767</td>\n",
       "      <td>-0.412381</td>\n",
       "      <td>-0.850445</td>\n",
       "      <td>0.720002</td>\n",
       "    </tr>\n",
       "    <tr>\n",
       "      <th>...</th>\n",
       "      <td>...</td>\n",
       "      <td>...</td>\n",
       "      <td>...</td>\n",
       "      <td>...</td>\n",
       "      <td>...</td>\n",
       "      <td>...</td>\n",
       "      <td>...</td>\n",
       "      <td>...</td>\n",
       "    </tr>\n",
       "    <tr>\n",
       "      <th>6188</th>\n",
       "      <td>-0.116162</td>\n",
       "      <td>0.332709</td>\n",
       "      <td>0.374936</td>\n",
       "      <td>0.137403</td>\n",
       "      <td>-1.080088</td>\n",
       "      <td>-0.106102</td>\n",
       "      <td>1.877907</td>\n",
       "      <td>-1.289322</td>\n",
       "    </tr>\n",
       "    <tr>\n",
       "      <th>6189</th>\n",
       "      <td>-0.664379</td>\n",
       "      <td>1.443856</td>\n",
       "      <td>-0.328048</td>\n",
       "      <td>-0.130071</td>\n",
       "      <td>-0.548753</td>\n",
       "      <td>-0.162535</td>\n",
       "      <td>1.161890</td>\n",
       "      <td>-1.344441</td>\n",
       "    </tr>\n",
       "    <tr>\n",
       "      <th>6190</th>\n",
       "      <td>-0.652287</td>\n",
       "      <td>-1.254645</td>\n",
       "      <td>-0.166722</td>\n",
       "      <td>0.025920</td>\n",
       "      <td>1.354027</td>\n",
       "      <td>-0.201163</td>\n",
       "      <td>1.138491</td>\n",
       "      <td>-1.339430</td>\n",
       "    </tr>\n",
       "    <tr>\n",
       "      <th>6191</th>\n",
       "      <td>-1.120118</td>\n",
       "      <td>0.015238</td>\n",
       "      <td>-1.125514</td>\n",
       "      <td>0.175148</td>\n",
       "      <td>1.771882</td>\n",
       "      <td>-0.023231</td>\n",
       "      <td>-0.719409</td>\n",
       "      <td>0.634818</td>\n",
       "    </tr>\n",
       "    <tr>\n",
       "      <th>6192</th>\n",
       "      <td>-0.494008</td>\n",
       "      <td>-1.095909</td>\n",
       "      <td>-0.505083</td>\n",
       "      <td>0.028410</td>\n",
       "      <td>1.536124</td>\n",
       "      <td>-0.241561</td>\n",
       "      <td>-0.691330</td>\n",
       "      <td>0.649851</td>\n",
       "    </tr>\n",
       "  </tbody>\n",
       "</table>\n",
       "<p>6193 rows × 8 columns</p>\n",
       "</div>"
      ],
      "text/plain": [
       "        MedInc  HouseAge  AveRooms  AveBedrms  Population  AveOccup  Latitude  \\\n",
       "0    -0.320057  0.808914 -0.407927  -0.050898   -0.271649 -1.108472 -0.738128   \n",
       "1    -0.979951  0.650179 -0.190858  -0.137912   -0.241739 -0.320322  0.534790   \n",
       "2     0.076004  1.364488 -0.418172  -0.203966    0.102222  0.786357  0.979376   \n",
       "3    -1.217421  1.840694 -0.674091   0.051869   -1.071291 -0.614561  1.016815   \n",
       "4     0.681253  0.650179 -0.004022  -0.173006   -0.621767 -0.412381 -0.850445   \n",
       "...        ...       ...       ...        ...         ...       ...       ...   \n",
       "6188 -0.116162  0.332709  0.374936   0.137403   -1.080088 -0.106102  1.877907   \n",
       "6189 -0.664379  1.443856 -0.328048  -0.130071   -0.548753 -0.162535  1.161890   \n",
       "6190 -0.652287 -1.254645 -0.166722   0.025920    1.354027 -0.201163  1.138491   \n",
       "6191 -1.120118  0.015238 -1.125514   0.175148    1.771882 -0.023231 -0.719409   \n",
       "6192 -0.494008 -1.095909 -0.505083   0.028410    1.536124 -0.241561 -0.691330   \n",
       "\n",
       "      Longitude  \n",
       "0      0.604754  \n",
       "1     -0.106777  \n",
       "2     -1.429624  \n",
       "3     -1.359473  \n",
       "4      0.720002  \n",
       "...         ...  \n",
       "6188  -1.289322  \n",
       "6189  -1.344441  \n",
       "6190  -1.339430  \n",
       "6191   0.634818  \n",
       "6192   0.649851  \n",
       "\n",
       "[6193 rows x 8 columns]"
      ]
     },
     "execution_count": 36,
     "metadata": {},
     "output_type": "execute_result"
    }
   ],
   "source": [
    "#テストデータも標準化\n",
    "ss2=StandardScaler()\n",
    "x_test_std=pd.DataFrame(ss2.fit_transform(X_test_lin), columns=X_test_lin.columns)\n",
    "x_test_std"
   ]
  },
  {
   "cell_type": "code",
   "execution_count": 37,
   "id": "8513b0e9",
   "metadata": {},
   "outputs": [
    {
     "data": {
      "text/plain": [
       "LinearRegression()"
      ]
     },
     "execution_count": 37,
     "metadata": {},
     "output_type": "execute_result"
    }
   ],
   "source": [
    "#学習\n",
    "LR2=LinearRegression()\n",
    "LR2.fit(x_train_std, y_train_line)"
   ]
  },
  {
   "cell_type": "code",
   "execution_count": 38,
   "id": "b08fb3ee",
   "metadata": {},
   "outputs": [
    {
     "name": "stdout",
     "output_type": "stream",
     "text": [
      "y_train_pred [2.17014971 1.25507092 0.79539218 ... 1.14922253 1.05511297 1.82266727]\n",
      "y_test_pred [2.1850119  0.9732727  2.69359001 ... 1.58112298 1.58510216 1.73003974]\n"
     ]
    }
   ],
   "source": [
    "#train予測\n",
    "y_train_pred_std = LR2.predict(x_train_std)\n",
    "y_test_pred_std = LR2.predict(x_test_std)\n",
    "print('y_train_pred',y_train_pred_std)\n",
    "print('y_test_pred',y_test_pred_std)"
   ]
  },
  {
   "cell_type": "code",
   "execution_count": 39,
   "id": "471aa9e2",
   "metadata": {},
   "outputs": [
    {
     "name": "stdout",
     "output_type": "stream",
     "text": [
      "決定係数 0.6069975556579771\n",
      "MAE 0.5290302234596493\n",
      "RMSE 0.7187471336982793\n"
     ]
    }
   ],
   "source": [
    "#testのr2,mae,RMSE\n",
    "print('決定係数', r2_score(y_test_lin, y_test_pred_std))\n",
    "print('MAE', mean_absolute_error(y_test_lin, y_test_pred_std))\n",
    "print('RMSE', mean_squared_error(y_test_lin, y_test_pred_std, squared=False))"
   ]
  },
  {
   "cell_type": "markdown",
   "id": "b478c2db",
   "metadata": {},
   "source": [
    "### 標準化したほうが若干指標が改善した"
   ]
  },
  {
   "cell_type": "code",
   "execution_count": 40,
   "id": "6ddd2515",
   "metadata": {},
   "outputs": [
    {
     "data": {
      "text/plain": [
       "array([2.07918034, 2.07752909, 2.0752105 , ..., 2.07727944, 2.07690666,\n",
       "       2.07736408])"
      ]
     },
     "execution_count": 40,
     "metadata": {},
     "output_type": "execute_result"
    }
   ],
   "source": [
    "#単回帰分析 x='AveOccup'\n",
    "LR3=LinearRegression()\n",
    "LR3.fit(df_train['AveOccup'].values.reshape(-1,1), y_train_line)\n",
    "o=LR3.predict(df_test['AveOccup'].values.reshape(-1,1))\n",
    "o"
   ]
  },
  {
   "cell_type": "code",
   "execution_count": 41,
   "id": "7358b49d",
   "metadata": {},
   "outputs": [
    {
     "data": {
      "text/plain": [
       "1.1464119716856649"
      ]
     },
     "execution_count": 41,
     "metadata": {},
     "output_type": "execute_result"
    }
   ],
   "source": [
    "mean_squared_error(y_test_lin,o, squared=False)"
   ]
  },
  {
   "cell_type": "markdown",
   "id": "00a7711f",
   "metadata": {},
   "source": [
    "当たり前だがRMSEは全特徴量突っ込みよりも大きくなる"
   ]
  },
  {
   "cell_type": "code",
   "execution_count": 42,
   "id": "cffbdc5b",
   "metadata": {},
   "outputs": [
    {
     "data": {
      "text/plain": [
       "count    6193.000000\n",
       "mean        2.050008\n",
       "std         1.146604\n",
       "min         0.149990\n",
       "25%         1.188000\n",
       "50%         1.790000\n",
       "75%         2.625000\n",
       "max         5.000010\n",
       "Name: target, dtype: float64"
      ]
     },
     "execution_count": 42,
     "metadata": {},
     "output_type": "execute_result"
    }
   ],
   "source": [
    "y_test_lin.describe()"
   ]
  },
  {
   "cell_type": "markdown",
   "id": "dacdb190",
   "metadata": {},
   "source": [
    "## データ数を1000件に"
   ]
  },
  {
   "cell_type": "code",
   "execution_count": 43,
   "id": "739ba242",
   "metadata": {},
   "outputs": [
    {
     "data": {
      "text/html": [
       "<div>\n",
       "<style scoped>\n",
       "    .dataframe tbody tr th:only-of-type {\n",
       "        vertical-align: middle;\n",
       "    }\n",
       "\n",
       "    .dataframe tbody tr th {\n",
       "        vertical-align: top;\n",
       "    }\n",
       "\n",
       "    .dataframe thead th {\n",
       "        text-align: right;\n",
       "    }\n",
       "</style>\n",
       "<table border=\"1\" class=\"dataframe\">\n",
       "  <thead>\n",
       "    <tr style=\"text-align: right;\">\n",
       "      <th></th>\n",
       "      <th>MedInc</th>\n",
       "      <th>HouseAge</th>\n",
       "      <th>AveRooms</th>\n",
       "      <th>AveBedrms</th>\n",
       "      <th>Population</th>\n",
       "      <th>AveOccup</th>\n",
       "      <th>Latitude</th>\n",
       "      <th>Longitude</th>\n",
       "      <th>target</th>\n",
       "    </tr>\n",
       "  </thead>\n",
       "  <tbody>\n",
       "    <tr>\n",
       "      <th>0</th>\n",
       "      <td>2.1797</td>\n",
       "      <td>26.0</td>\n",
       "      <td>5.617284</td>\n",
       "      <td>1.154321</td>\n",
       "      <td>1001.0</td>\n",
       "      <td>3.089506</td>\n",
       "      <td>33.16</td>\n",
       "      <td>-116.68</td>\n",
       "      <td>1.563</td>\n",
       "    </tr>\n",
       "    <tr>\n",
       "      <th>1</th>\n",
       "      <td>4.5461</td>\n",
       "      <td>16.0</td>\n",
       "      <td>7.723288</td>\n",
       "      <td>1.312329</td>\n",
       "      <td>1068.0</td>\n",
       "      <td>2.926027</td>\n",
       "      <td>35.10</td>\n",
       "      <td>-120.30</td>\n",
       "      <td>2.708</td>\n",
       "    </tr>\n",
       "    <tr>\n",
       "      <th>2</th>\n",
       "      <td>3.6587</td>\n",
       "      <td>32.0</td>\n",
       "      <td>5.524038</td>\n",
       "      <td>0.899038</td>\n",
       "      <td>499.0</td>\n",
       "      <td>2.399038</td>\n",
       "      <td>39.16</td>\n",
       "      <td>-123.22</td>\n",
       "      <td>1.546</td>\n",
       "    </tr>\n",
       "    <tr>\n",
       "      <th>3</th>\n",
       "      <td>4.8583</td>\n",
       "      <td>28.0</td>\n",
       "      <td>5.983333</td>\n",
       "      <td>0.970370</td>\n",
       "      <td>1665.0</td>\n",
       "      <td>3.083333</td>\n",
       "      <td>34.28</td>\n",
       "      <td>-119.19</td>\n",
       "      <td>2.242</td>\n",
       "    </tr>\n",
       "    <tr>\n",
       "      <th>4</th>\n",
       "      <td>3.6591</td>\n",
       "      <td>36.0</td>\n",
       "      <td>5.207739</td>\n",
       "      <td>1.099796</td>\n",
       "      <td>1556.0</td>\n",
       "      <td>3.169043</td>\n",
       "      <td>34.22</td>\n",
       "      <td>-118.40</td>\n",
       "      <td>1.838</td>\n",
       "    </tr>\n",
       "    <tr>\n",
       "      <th>...</th>\n",
       "      <td>...</td>\n",
       "      <td>...</td>\n",
       "      <td>...</td>\n",
       "      <td>...</td>\n",
       "      <td>...</td>\n",
       "      <td>...</td>\n",
       "      <td>...</td>\n",
       "      <td>...</td>\n",
       "      <td>...</td>\n",
       "    </tr>\n",
       "    <tr>\n",
       "      <th>995</th>\n",
       "      <td>1.2292</td>\n",
       "      <td>52.0</td>\n",
       "      <td>2.340136</td>\n",
       "      <td>1.204082</td>\n",
       "      <td>460.0</td>\n",
       "      <td>3.129252</td>\n",
       "      <td>32.72</td>\n",
       "      <td>-117.15</td>\n",
       "      <td>1.375</td>\n",
       "    </tr>\n",
       "    <tr>\n",
       "      <th>996</th>\n",
       "      <td>2.8281</td>\n",
       "      <td>33.0</td>\n",
       "      <td>4.204762</td>\n",
       "      <td>1.004762</td>\n",
       "      <td>1007.0</td>\n",
       "      <td>4.795238</td>\n",
       "      <td>34.05</td>\n",
       "      <td>-117.62</td>\n",
       "      <td>1.036</td>\n",
       "    </tr>\n",
       "    <tr>\n",
       "      <th>997</th>\n",
       "      <td>2.6218</td>\n",
       "      <td>49.0</td>\n",
       "      <td>4.291246</td>\n",
       "      <td>1.060606</td>\n",
       "      <td>1539.0</td>\n",
       "      <td>2.590909</td>\n",
       "      <td>34.08</td>\n",
       "      <td>-118.31</td>\n",
       "      <td>3.509</td>\n",
       "    </tr>\n",
       "    <tr>\n",
       "      <th>998</th>\n",
       "      <td>4.1321</td>\n",
       "      <td>32.0</td>\n",
       "      <td>4.975113</td>\n",
       "      <td>1.023756</td>\n",
       "      <td>2777.0</td>\n",
       "      <td>3.141403</td>\n",
       "      <td>33.77</td>\n",
       "      <td>-117.96</td>\n",
       "      <td>2.228</td>\n",
       "    </tr>\n",
       "    <tr>\n",
       "      <th>999</th>\n",
       "      <td>3.8625</td>\n",
       "      <td>52.0</td>\n",
       "      <td>8.758621</td>\n",
       "      <td>2.482759</td>\n",
       "      <td>153.0</td>\n",
       "      <td>5.275862</td>\n",
       "      <td>37.78</td>\n",
       "      <td>-122.41</td>\n",
       "      <td>3.500</td>\n",
       "    </tr>\n",
       "  </tbody>\n",
       "</table>\n",
       "<p>1000 rows × 9 columns</p>\n",
       "</div>"
      ],
      "text/plain": [
       "     MedInc  HouseAge  AveRooms  AveBedrms  Population  AveOccup  Latitude  \\\n",
       "0    2.1797      26.0  5.617284   1.154321      1001.0  3.089506     33.16   \n",
       "1    4.5461      16.0  7.723288   1.312329      1068.0  2.926027     35.10   \n",
       "2    3.6587      32.0  5.524038   0.899038       499.0  2.399038     39.16   \n",
       "3    4.8583      28.0  5.983333   0.970370      1665.0  3.083333     34.28   \n",
       "4    3.6591      36.0  5.207739   1.099796      1556.0  3.169043     34.22   \n",
       "..      ...       ...       ...        ...         ...       ...       ...   \n",
       "995  1.2292      52.0  2.340136   1.204082       460.0  3.129252     32.72   \n",
       "996  2.8281      33.0  4.204762   1.004762      1007.0  4.795238     34.05   \n",
       "997  2.6218      49.0  4.291246   1.060606      1539.0  2.590909     34.08   \n",
       "998  4.1321      32.0  4.975113   1.023756      2777.0  3.141403     33.77   \n",
       "999  3.8625      52.0  8.758621   2.482759       153.0  5.275862     37.78   \n",
       "\n",
       "     Longitude  target  \n",
       "0      -116.68   1.563  \n",
       "1      -120.30   2.708  \n",
       "2      -123.22   1.546  \n",
       "3      -119.19   2.242  \n",
       "4      -118.40   1.838  \n",
       "..         ...     ...  \n",
       "995    -117.15   1.375  \n",
       "996    -117.62   1.036  \n",
       "997    -118.31   3.509  \n",
       "998    -117.96   2.228  \n",
       "999    -122.41   3.500  \n",
       "\n",
       "[1000 rows x 9 columns]"
      ]
     },
     "execution_count": 43,
     "metadata": {},
     "output_type": "execute_result"
    }
   ],
   "source": [
    "#元データをランダムにして再度作り直し\n",
    "df2=pd.concat([df_train, df_test], axis=0).sample(frac=1, random_state=0).reset_index().drop('index', axis=1)\n",
    "#1000件データを抽出\n",
    "df3=df2.iloc[0:1000,:]\n",
    "df3"
   ]
  },
  {
   "cell_type": "markdown",
   "id": "7324ecff",
   "metadata": {},
   "source": [
    "## まずはバリアンスが大きいか確認"
   ]
  },
  {
   "cell_type": "code",
   "execution_count": 44,
   "id": "bf4e2339",
   "metadata": {},
   "outputs": [],
   "source": [
    "#1000件のデータでモデル作成、残りのデータで予測値を出す。\n",
    "LR4=LinearRegression()\n",
    "LR4.fit(df3.loc[:,'MedInc':'Longitude'],  \n",
    "        df3['target'])\n",
    "df2_train_pred=LR4.predict(df3.loc[:,'MedInc':'Longitude'])\n",
    "df2_test_pred=LR4.predict(df2.loc[1000:,'MedInc':'Longitude'])"
   ]
  },
  {
   "cell_type": "code",
   "execution_count": 45,
   "id": "d1255e43",
   "metadata": {},
   "outputs": [
    {
     "name": "stdout",
     "output_type": "stream",
     "text": [
      "train1000データ 0.6853345715348067\n",
      "Test残りデータ 3.9548000184646077\n"
     ]
    }
   ],
   "source": [
    "#train,testのRMSEをそれぞれ出力\n",
    "print('train1000データ',mean_squared_error(df3['target'], df2_train_pred, squared=False))\n",
    "print('Test残りデータ',mean_squared_error(df2.loc[1000:,'target'], df2_test_pred, squared=False))"
   ]
  },
  {
   "cell_type": "markdown",
   "id": "01869020",
   "metadata": {},
   "source": [
    "### データ数を1000件に減らすとtrainとtestのRMSEの差が広がった！  \n",
    "### ⇒データ数を減らしてモデルを作成するとバリアンスが高くなる！未知データに対するRMSEが上昇する\n",
    "### ⇒1000データに過剰適合するため汎化性能が落ちる"
   ]
  },
  {
   "cell_type": "markdown",
   "id": "2df2eac5",
   "metadata": {},
   "source": [
    "## Q:ホールドアウト法とk分割交差検証(k=10, LOOそれぞれ)ではバリアンスに違いはある？  \n",
    "データは1000件のまま  \n",
    "仮説：ホールドアウトよりもk分割交差検証の方が汎化性能が高い（バリアンスが低い）？ただ、その差は小さそう"
   ]
  },
  {
   "cell_type": "markdown",
   "id": "1c166380",
   "metadata": {},
   "source": [
    "### ホールドアウト法"
   ]
  },
  {
   "cell_type": "code",
   "execution_count": 46,
   "id": "905f8754",
   "metadata": {},
   "outputs": [
    {
     "data": {
      "text/html": [
       "<div>\n",
       "<style scoped>\n",
       "    .dataframe tbody tr th:only-of-type {\n",
       "        vertical-align: middle;\n",
       "    }\n",
       "\n",
       "    .dataframe tbody tr th {\n",
       "        vertical-align: top;\n",
       "    }\n",
       "\n",
       "    .dataframe thead th {\n",
       "        text-align: right;\n",
       "    }\n",
       "</style>\n",
       "<table border=\"1\" class=\"dataframe\">\n",
       "  <thead>\n",
       "    <tr style=\"text-align: right;\">\n",
       "      <th></th>\n",
       "      <th>MedInc</th>\n",
       "      <th>HouseAge</th>\n",
       "      <th>AveRooms</th>\n",
       "      <th>AveBedrms</th>\n",
       "      <th>Population</th>\n",
       "      <th>AveOccup</th>\n",
       "      <th>Latitude</th>\n",
       "      <th>Longitude</th>\n",
       "      <th>target</th>\n",
       "    </tr>\n",
       "  </thead>\n",
       "  <tbody>\n",
       "    <tr>\n",
       "      <th>0</th>\n",
       "      <td>2.1797</td>\n",
       "      <td>26.0</td>\n",
       "      <td>5.617284</td>\n",
       "      <td>1.154321</td>\n",
       "      <td>1001.0</td>\n",
       "      <td>3.089506</td>\n",
       "      <td>33.16</td>\n",
       "      <td>-116.68</td>\n",
       "      <td>1.563</td>\n",
       "    </tr>\n",
       "    <tr>\n",
       "      <th>1</th>\n",
       "      <td>4.5461</td>\n",
       "      <td>16.0</td>\n",
       "      <td>7.723288</td>\n",
       "      <td>1.312329</td>\n",
       "      <td>1068.0</td>\n",
       "      <td>2.926027</td>\n",
       "      <td>35.10</td>\n",
       "      <td>-120.30</td>\n",
       "      <td>2.708</td>\n",
       "    </tr>\n",
       "    <tr>\n",
       "      <th>2</th>\n",
       "      <td>3.6587</td>\n",
       "      <td>32.0</td>\n",
       "      <td>5.524038</td>\n",
       "      <td>0.899038</td>\n",
       "      <td>499.0</td>\n",
       "      <td>2.399038</td>\n",
       "      <td>39.16</td>\n",
       "      <td>-123.22</td>\n",
       "      <td>1.546</td>\n",
       "    </tr>\n",
       "    <tr>\n",
       "      <th>3</th>\n",
       "      <td>4.8583</td>\n",
       "      <td>28.0</td>\n",
       "      <td>5.983333</td>\n",
       "      <td>0.970370</td>\n",
       "      <td>1665.0</td>\n",
       "      <td>3.083333</td>\n",
       "      <td>34.28</td>\n",
       "      <td>-119.19</td>\n",
       "      <td>2.242</td>\n",
       "    </tr>\n",
       "    <tr>\n",
       "      <th>4</th>\n",
       "      <td>3.6591</td>\n",
       "      <td>36.0</td>\n",
       "      <td>5.207739</td>\n",
       "      <td>1.099796</td>\n",
       "      <td>1556.0</td>\n",
       "      <td>3.169043</td>\n",
       "      <td>34.22</td>\n",
       "      <td>-118.40</td>\n",
       "      <td>1.838</td>\n",
       "    </tr>\n",
       "    <tr>\n",
       "      <th>...</th>\n",
       "      <td>...</td>\n",
       "      <td>...</td>\n",
       "      <td>...</td>\n",
       "      <td>...</td>\n",
       "      <td>...</td>\n",
       "      <td>...</td>\n",
       "      <td>...</td>\n",
       "      <td>...</td>\n",
       "      <td>...</td>\n",
       "    </tr>\n",
       "    <tr>\n",
       "      <th>995</th>\n",
       "      <td>1.2292</td>\n",
       "      <td>52.0</td>\n",
       "      <td>2.340136</td>\n",
       "      <td>1.204082</td>\n",
       "      <td>460.0</td>\n",
       "      <td>3.129252</td>\n",
       "      <td>32.72</td>\n",
       "      <td>-117.15</td>\n",
       "      <td>1.375</td>\n",
       "    </tr>\n",
       "    <tr>\n",
       "      <th>996</th>\n",
       "      <td>2.8281</td>\n",
       "      <td>33.0</td>\n",
       "      <td>4.204762</td>\n",
       "      <td>1.004762</td>\n",
       "      <td>1007.0</td>\n",
       "      <td>4.795238</td>\n",
       "      <td>34.05</td>\n",
       "      <td>-117.62</td>\n",
       "      <td>1.036</td>\n",
       "    </tr>\n",
       "    <tr>\n",
       "      <th>997</th>\n",
       "      <td>2.6218</td>\n",
       "      <td>49.0</td>\n",
       "      <td>4.291246</td>\n",
       "      <td>1.060606</td>\n",
       "      <td>1539.0</td>\n",
       "      <td>2.590909</td>\n",
       "      <td>34.08</td>\n",
       "      <td>-118.31</td>\n",
       "      <td>3.509</td>\n",
       "    </tr>\n",
       "    <tr>\n",
       "      <th>998</th>\n",
       "      <td>4.1321</td>\n",
       "      <td>32.0</td>\n",
       "      <td>4.975113</td>\n",
       "      <td>1.023756</td>\n",
       "      <td>2777.0</td>\n",
       "      <td>3.141403</td>\n",
       "      <td>33.77</td>\n",
       "      <td>-117.96</td>\n",
       "      <td>2.228</td>\n",
       "    </tr>\n",
       "    <tr>\n",
       "      <th>999</th>\n",
       "      <td>3.8625</td>\n",
       "      <td>52.0</td>\n",
       "      <td>8.758621</td>\n",
       "      <td>2.482759</td>\n",
       "      <td>153.0</td>\n",
       "      <td>5.275862</td>\n",
       "      <td>37.78</td>\n",
       "      <td>-122.41</td>\n",
       "      <td>3.500</td>\n",
       "    </tr>\n",
       "  </tbody>\n",
       "</table>\n",
       "<p>1000 rows × 9 columns</p>\n",
       "</div>"
      ],
      "text/plain": [
       "     MedInc  HouseAge  AveRooms  AveBedrms  Population  AveOccup  Latitude  \\\n",
       "0    2.1797      26.0  5.617284   1.154321      1001.0  3.089506     33.16   \n",
       "1    4.5461      16.0  7.723288   1.312329      1068.0  2.926027     35.10   \n",
       "2    3.6587      32.0  5.524038   0.899038       499.0  2.399038     39.16   \n",
       "3    4.8583      28.0  5.983333   0.970370      1665.0  3.083333     34.28   \n",
       "4    3.6591      36.0  5.207739   1.099796      1556.0  3.169043     34.22   \n",
       "..      ...       ...       ...        ...         ...       ...       ...   \n",
       "995  1.2292      52.0  2.340136   1.204082       460.0  3.129252     32.72   \n",
       "996  2.8281      33.0  4.204762   1.004762      1007.0  4.795238     34.05   \n",
       "997  2.6218      49.0  4.291246   1.060606      1539.0  2.590909     34.08   \n",
       "998  4.1321      32.0  4.975113   1.023756      2777.0  3.141403     33.77   \n",
       "999  3.8625      52.0  8.758621   2.482759       153.0  5.275862     37.78   \n",
       "\n",
       "     Longitude  target  \n",
       "0      -116.68   1.563  \n",
       "1      -120.30   2.708  \n",
       "2      -123.22   1.546  \n",
       "3      -119.19   2.242  \n",
       "4      -118.40   1.838  \n",
       "..         ...     ...  \n",
       "995    -117.15   1.375  \n",
       "996    -117.62   1.036  \n",
       "997    -118.31   3.509  \n",
       "998    -117.96   2.228  \n",
       "999    -122.41   3.500  \n",
       "\n",
       "[1000 rows x 9 columns]"
      ]
     },
     "execution_count": 46,
     "metadata": {},
     "output_type": "execute_result"
    }
   ],
   "source": [
    "df3"
   ]
  },
  {
   "cell_type": "markdown",
   "id": "cdafcbba",
   "metadata": {},
   "source": [
    "train_test_splitした後に標準化  \n",
    "後がいいか前がいいか"
   ]
  },
  {
   "cell_type": "code",
   "execution_count": 47,
   "id": "d58ffbb4",
   "metadata": {},
   "outputs": [
    {
     "data": {
      "text/html": [
       "<div>\n",
       "<style scoped>\n",
       "    .dataframe tbody tr th:only-of-type {\n",
       "        vertical-align: middle;\n",
       "    }\n",
       "\n",
       "    .dataframe tbody tr th {\n",
       "        vertical-align: top;\n",
       "    }\n",
       "\n",
       "    .dataframe thead th {\n",
       "        text-align: right;\n",
       "    }\n",
       "</style>\n",
       "<table border=\"1\" class=\"dataframe\">\n",
       "  <thead>\n",
       "    <tr style=\"text-align: right;\">\n",
       "      <th></th>\n",
       "      <th>MedInc</th>\n",
       "      <th>HouseAge</th>\n",
       "      <th>AveRooms</th>\n",
       "      <th>AveBedrms</th>\n",
       "      <th>Population</th>\n",
       "      <th>AveOccup</th>\n",
       "      <th>Latitude</th>\n",
       "      <th>Longitude</th>\n",
       "    </tr>\n",
       "  </thead>\n",
       "  <tbody>\n",
       "    <tr>\n",
       "      <th>0</th>\n",
       "      <td>2.1797</td>\n",
       "      <td>26.0</td>\n",
       "      <td>5.617284</td>\n",
       "      <td>1.154321</td>\n",
       "      <td>1001.0</td>\n",
       "      <td>3.089506</td>\n",
       "      <td>33.16</td>\n",
       "      <td>-116.68</td>\n",
       "    </tr>\n",
       "    <tr>\n",
       "      <th>1</th>\n",
       "      <td>4.5461</td>\n",
       "      <td>16.0</td>\n",
       "      <td>7.723288</td>\n",
       "      <td>1.312329</td>\n",
       "      <td>1068.0</td>\n",
       "      <td>2.926027</td>\n",
       "      <td>35.10</td>\n",
       "      <td>-120.30</td>\n",
       "    </tr>\n",
       "    <tr>\n",
       "      <th>2</th>\n",
       "      <td>3.6587</td>\n",
       "      <td>32.0</td>\n",
       "      <td>5.524038</td>\n",
       "      <td>0.899038</td>\n",
       "      <td>499.0</td>\n",
       "      <td>2.399038</td>\n",
       "      <td>39.16</td>\n",
       "      <td>-123.22</td>\n",
       "    </tr>\n",
       "    <tr>\n",
       "      <th>3</th>\n",
       "      <td>4.8583</td>\n",
       "      <td>28.0</td>\n",
       "      <td>5.983333</td>\n",
       "      <td>0.970370</td>\n",
       "      <td>1665.0</td>\n",
       "      <td>3.083333</td>\n",
       "      <td>34.28</td>\n",
       "      <td>-119.19</td>\n",
       "    </tr>\n",
       "    <tr>\n",
       "      <th>4</th>\n",
       "      <td>3.6591</td>\n",
       "      <td>36.0</td>\n",
       "      <td>5.207739</td>\n",
       "      <td>1.099796</td>\n",
       "      <td>1556.0</td>\n",
       "      <td>3.169043</td>\n",
       "      <td>34.22</td>\n",
       "      <td>-118.40</td>\n",
       "    </tr>\n",
       "    <tr>\n",
       "      <th>...</th>\n",
       "      <td>...</td>\n",
       "      <td>...</td>\n",
       "      <td>...</td>\n",
       "      <td>...</td>\n",
       "      <td>...</td>\n",
       "      <td>...</td>\n",
       "      <td>...</td>\n",
       "      <td>...</td>\n",
       "    </tr>\n",
       "    <tr>\n",
       "      <th>695</th>\n",
       "      <td>5.5418</td>\n",
       "      <td>36.0</td>\n",
       "      <td>5.847458</td>\n",
       "      <td>0.953995</td>\n",
       "      <td>1215.0</td>\n",
       "      <td>2.941889</td>\n",
       "      <td>34.17</td>\n",
       "      <td>-118.07</td>\n",
       "    </tr>\n",
       "    <tr>\n",
       "      <th>696</th>\n",
       "      <td>6.2030</td>\n",
       "      <td>38.0</td>\n",
       "      <td>6.264317</td>\n",
       "      <td>1.024229</td>\n",
       "      <td>2263.0</td>\n",
       "      <td>2.492291</td>\n",
       "      <td>37.74</td>\n",
       "      <td>-122.45</td>\n",
       "    </tr>\n",
       "    <tr>\n",
       "      <th>697</th>\n",
       "      <td>5.5413</td>\n",
       "      <td>26.0</td>\n",
       "      <td>6.568421</td>\n",
       "      <td>1.071053</td>\n",
       "      <td>1062.0</td>\n",
       "      <td>2.794737</td>\n",
       "      <td>32.81</td>\n",
       "      <td>-117.21</td>\n",
       "    </tr>\n",
       "    <tr>\n",
       "      <th>698</th>\n",
       "      <td>1.2745</td>\n",
       "      <td>15.0</td>\n",
       "      <td>2.738693</td>\n",
       "      <td>0.926298</td>\n",
       "      <td>1347.0</td>\n",
       "      <td>2.256281</td>\n",
       "      <td>32.67</td>\n",
       "      <td>-117.10</td>\n",
       "    </tr>\n",
       "    <tr>\n",
       "      <th>699</th>\n",
       "      <td>5.1478</td>\n",
       "      <td>17.0</td>\n",
       "      <td>5.103448</td>\n",
       "      <td>0.954023</td>\n",
       "      <td>357.0</td>\n",
       "      <td>4.103448</td>\n",
       "      <td>32.57</td>\n",
       "      <td>-117.09</td>\n",
       "    </tr>\n",
       "  </tbody>\n",
       "</table>\n",
       "<p>700 rows × 8 columns</p>\n",
       "</div>"
      ],
      "text/plain": [
       "     MedInc  HouseAge  AveRooms  AveBedrms  Population  AveOccup  Latitude  \\\n",
       "0    2.1797      26.0  5.617284   1.154321      1001.0  3.089506     33.16   \n",
       "1    4.5461      16.0  7.723288   1.312329      1068.0  2.926027     35.10   \n",
       "2    3.6587      32.0  5.524038   0.899038       499.0  2.399038     39.16   \n",
       "3    4.8583      28.0  5.983333   0.970370      1665.0  3.083333     34.28   \n",
       "4    3.6591      36.0  5.207739   1.099796      1556.0  3.169043     34.22   \n",
       "..      ...       ...       ...        ...         ...       ...       ...   \n",
       "695  5.5418      36.0  5.847458   0.953995      1215.0  2.941889     34.17   \n",
       "696  6.2030      38.0  6.264317   1.024229      2263.0  2.492291     37.74   \n",
       "697  5.5413      26.0  6.568421   1.071053      1062.0  2.794737     32.81   \n",
       "698  1.2745      15.0  2.738693   0.926298      1347.0  2.256281     32.67   \n",
       "699  5.1478      17.0  5.103448   0.954023       357.0  4.103448     32.57   \n",
       "\n",
       "     Longitude  \n",
       "0      -116.68  \n",
       "1      -120.30  \n",
       "2      -123.22  \n",
       "3      -119.19  \n",
       "4      -118.40  \n",
       "..         ...  \n",
       "695    -118.07  \n",
       "696    -122.45  \n",
       "697    -117.21  \n",
       "698    -117.10  \n",
       "699    -117.09  \n",
       "\n",
       "[700 rows x 8 columns]"
      ]
     },
     "metadata": {},
     "output_type": "display_data"
    },
    {
     "data": {
      "text/plain": [
       "0      1.563\n",
       "1      2.708\n",
       "2      1.546\n",
       "3      2.242\n",
       "4      1.838\n",
       "       ...  \n",
       "695    3.261\n",
       "696    3.468\n",
       "697    3.021\n",
       "698    0.929\n",
       "699    1.389\n",
       "Name: target, Length: 700, dtype: float64"
      ]
     },
     "metadata": {},
     "output_type": "display_data"
    },
    {
     "data": {
      "text/html": [
       "<div>\n",
       "<style scoped>\n",
       "    .dataframe tbody tr th:only-of-type {\n",
       "        vertical-align: middle;\n",
       "    }\n",
       "\n",
       "    .dataframe tbody tr th {\n",
       "        vertical-align: top;\n",
       "    }\n",
       "\n",
       "    .dataframe thead th {\n",
       "        text-align: right;\n",
       "    }\n",
       "</style>\n",
       "<table border=\"1\" class=\"dataframe\">\n",
       "  <thead>\n",
       "    <tr style=\"text-align: right;\">\n",
       "      <th></th>\n",
       "      <th>MedInc</th>\n",
       "      <th>HouseAge</th>\n",
       "      <th>AveRooms</th>\n",
       "      <th>AveBedrms</th>\n",
       "      <th>Population</th>\n",
       "      <th>AveOccup</th>\n",
       "      <th>Latitude</th>\n",
       "      <th>Longitude</th>\n",
       "    </tr>\n",
       "  </thead>\n",
       "  <tbody>\n",
       "    <tr>\n",
       "      <th>700</th>\n",
       "      <td>7.4542</td>\n",
       "      <td>16.0</td>\n",
       "      <td>6.483333</td>\n",
       "      <td>1.066667</td>\n",
       "      <td>512.0</td>\n",
       "      <td>1.706667</td>\n",
       "      <td>37.42</td>\n",
       "      <td>-122.23</td>\n",
       "    </tr>\n",
       "    <tr>\n",
       "      <th>701</th>\n",
       "      <td>4.6625</td>\n",
       "      <td>14.0</td>\n",
       "      <td>5.554007</td>\n",
       "      <td>1.017422</td>\n",
       "      <td>887.0</td>\n",
       "      <td>3.090592</td>\n",
       "      <td>37.58</td>\n",
       "      <td>-121.47</td>\n",
       "    </tr>\n",
       "    <tr>\n",
       "      <th>702</th>\n",
       "      <td>4.7464</td>\n",
       "      <td>28.0</td>\n",
       "      <td>4.714286</td>\n",
       "      <td>0.925170</td>\n",
       "      <td>901.0</td>\n",
       "      <td>3.064626</td>\n",
       "      <td>33.76</td>\n",
       "      <td>-117.97</td>\n",
       "    </tr>\n",
       "    <tr>\n",
       "      <th>703</th>\n",
       "      <td>2.7125</td>\n",
       "      <td>35.0</td>\n",
       "      <td>4.443038</td>\n",
       "      <td>1.109705</td>\n",
       "      <td>552.0</td>\n",
       "      <td>2.329114</td>\n",
       "      <td>36.98</td>\n",
       "      <td>-122.02</td>\n",
       "    </tr>\n",
       "    <tr>\n",
       "      <th>704</th>\n",
       "      <td>1.5227</td>\n",
       "      <td>39.0</td>\n",
       "      <td>4.205882</td>\n",
       "      <td>1.084967</td>\n",
       "      <td>1386.0</td>\n",
       "      <td>4.529412</td>\n",
       "      <td>36.75</td>\n",
       "      <td>-119.77</td>\n",
       "    </tr>\n",
       "    <tr>\n",
       "      <th>...</th>\n",
       "      <td>...</td>\n",
       "      <td>...</td>\n",
       "      <td>...</td>\n",
       "      <td>...</td>\n",
       "      <td>...</td>\n",
       "      <td>...</td>\n",
       "      <td>...</td>\n",
       "      <td>...</td>\n",
       "    </tr>\n",
       "    <tr>\n",
       "      <th>995</th>\n",
       "      <td>1.2292</td>\n",
       "      <td>52.0</td>\n",
       "      <td>2.340136</td>\n",
       "      <td>1.204082</td>\n",
       "      <td>460.0</td>\n",
       "      <td>3.129252</td>\n",
       "      <td>32.72</td>\n",
       "      <td>-117.15</td>\n",
       "    </tr>\n",
       "    <tr>\n",
       "      <th>996</th>\n",
       "      <td>2.8281</td>\n",
       "      <td>33.0</td>\n",
       "      <td>4.204762</td>\n",
       "      <td>1.004762</td>\n",
       "      <td>1007.0</td>\n",
       "      <td>4.795238</td>\n",
       "      <td>34.05</td>\n",
       "      <td>-117.62</td>\n",
       "    </tr>\n",
       "    <tr>\n",
       "      <th>997</th>\n",
       "      <td>2.6218</td>\n",
       "      <td>49.0</td>\n",
       "      <td>4.291246</td>\n",
       "      <td>1.060606</td>\n",
       "      <td>1539.0</td>\n",
       "      <td>2.590909</td>\n",
       "      <td>34.08</td>\n",
       "      <td>-118.31</td>\n",
       "    </tr>\n",
       "    <tr>\n",
       "      <th>998</th>\n",
       "      <td>4.1321</td>\n",
       "      <td>32.0</td>\n",
       "      <td>4.975113</td>\n",
       "      <td>1.023756</td>\n",
       "      <td>2777.0</td>\n",
       "      <td>3.141403</td>\n",
       "      <td>33.77</td>\n",
       "      <td>-117.96</td>\n",
       "    </tr>\n",
       "    <tr>\n",
       "      <th>999</th>\n",
       "      <td>3.8625</td>\n",
       "      <td>52.0</td>\n",
       "      <td>8.758621</td>\n",
       "      <td>2.482759</td>\n",
       "      <td>153.0</td>\n",
       "      <td>5.275862</td>\n",
       "      <td>37.78</td>\n",
       "      <td>-122.41</td>\n",
       "    </tr>\n",
       "  </tbody>\n",
       "</table>\n",
       "<p>300 rows × 8 columns</p>\n",
       "</div>"
      ],
      "text/plain": [
       "     MedInc  HouseAge  AveRooms  AveBedrms  Population  AveOccup  Latitude  \\\n",
       "700  7.4542      16.0  6.483333   1.066667       512.0  1.706667     37.42   \n",
       "701  4.6625      14.0  5.554007   1.017422       887.0  3.090592     37.58   \n",
       "702  4.7464      28.0  4.714286   0.925170       901.0  3.064626     33.76   \n",
       "703  2.7125      35.0  4.443038   1.109705       552.0  2.329114     36.98   \n",
       "704  1.5227      39.0  4.205882   1.084967      1386.0  4.529412     36.75   \n",
       "..      ...       ...       ...        ...         ...       ...       ...   \n",
       "995  1.2292      52.0  2.340136   1.204082       460.0  3.129252     32.72   \n",
       "996  2.8281      33.0  4.204762   1.004762      1007.0  4.795238     34.05   \n",
       "997  2.6218      49.0  4.291246   1.060606      1539.0  2.590909     34.08   \n",
       "998  4.1321      32.0  4.975113   1.023756      2777.0  3.141403     33.77   \n",
       "999  3.8625      52.0  8.758621   2.482759       153.0  5.275862     37.78   \n",
       "\n",
       "     Longitude  \n",
       "700    -122.23  \n",
       "701    -121.47  \n",
       "702    -117.97  \n",
       "703    -122.02  \n",
       "704    -119.77  \n",
       "..         ...  \n",
       "995    -117.15  \n",
       "996    -117.62  \n",
       "997    -118.31  \n",
       "998    -117.96  \n",
       "999    -122.41  \n",
       "\n",
       "[300 rows x 8 columns]"
      ]
     },
     "metadata": {},
     "output_type": "display_data"
    },
    {
     "data": {
      "text/plain": [
       "700    5.00001\n",
       "701    2.94000\n",
       "702    1.87500\n",
       "703    2.17500\n",
       "704    0.46900\n",
       "        ...   \n",
       "995    1.37500\n",
       "996    1.03600\n",
       "997    3.50900\n",
       "998    2.22800\n",
       "999    3.50000\n",
       "Name: target, Length: 300, dtype: float64"
      ]
     },
     "metadata": {},
     "output_type": "display_data"
    }
   ],
   "source": [
    "#df3(1000件データ)をtrain_test_split 0.7\n",
    "x_train_hold,x_test_hold,y_train_hold,y_test_hold = train_test_split(\n",
    "            df3.loc[:,'MedInc':'Longitude'], df3['target'], train_size=0.7, shuffle=False)\n",
    "display(x_train_hold)\n",
    "display(y_train_hold)\n",
    "display(x_test_hold)\n",
    "display(y_test_hold)"
   ]
  },
  {
   "cell_type": "code",
   "execution_count": 48,
   "id": "332a1dec",
   "metadata": {},
   "outputs": [
    {
     "data": {
      "text/html": [
       "<div>\n",
       "<style scoped>\n",
       "    .dataframe tbody tr th:only-of-type {\n",
       "        vertical-align: middle;\n",
       "    }\n",
       "\n",
       "    .dataframe tbody tr th {\n",
       "        vertical-align: top;\n",
       "    }\n",
       "\n",
       "    .dataframe thead th {\n",
       "        text-align: right;\n",
       "    }\n",
       "</style>\n",
       "<table border=\"1\" class=\"dataframe\">\n",
       "  <thead>\n",
       "    <tr style=\"text-align: right;\">\n",
       "      <th></th>\n",
       "      <th>MedInc</th>\n",
       "      <th>HouseAge</th>\n",
       "      <th>AveRooms</th>\n",
       "      <th>AveBedrms</th>\n",
       "      <th>Population</th>\n",
       "      <th>AveOccup</th>\n",
       "      <th>Latitude</th>\n",
       "      <th>Longitude</th>\n",
       "    </tr>\n",
       "  </thead>\n",
       "  <tbody>\n",
       "    <tr>\n",
       "      <th>0</th>\n",
       "      <td>-0.852203</td>\n",
       "      <td>-0.312243</td>\n",
       "      <td>0.047643</td>\n",
       "      <td>0.111316</td>\n",
       "      <td>-0.386164</td>\n",
       "      <td>0.154795</td>\n",
       "      <td>-1.142885</td>\n",
       "      <td>1.455212</td>\n",
       "    </tr>\n",
       "    <tr>\n",
       "      <th>1</th>\n",
       "      <td>0.323700</td>\n",
       "      <td>-1.100452</td>\n",
       "      <td>0.903505</td>\n",
       "      <td>0.507709</td>\n",
       "      <td>-0.313517</td>\n",
       "      <td>-0.043952</td>\n",
       "      <td>-0.230512</td>\n",
       "      <td>-0.390877</td>\n",
       "    </tr>\n",
       "    <tr>\n",
       "      <th>2</th>\n",
       "      <td>-0.117264</td>\n",
       "      <td>0.160682</td>\n",
       "      <td>0.009749</td>\n",
       "      <td>-0.529110</td>\n",
       "      <td>-0.930476</td>\n",
       "      <td>-0.684629</td>\n",
       "      <td>1.678887</td>\n",
       "      <td>-1.879988</td>\n",
       "    </tr>\n",
       "    <tr>\n",
       "      <th>3</th>\n",
       "      <td>0.478837</td>\n",
       "      <td>-0.154601</td>\n",
       "      <td>0.196403</td>\n",
       "      <td>-0.350160</td>\n",
       "      <td>0.333802</td>\n",
       "      <td>0.147290</td>\n",
       "      <td>-0.616154</td>\n",
       "      <td>0.175189</td>\n",
       "    </tr>\n",
       "    <tr>\n",
       "      <th>4</th>\n",
       "      <td>-0.117065</td>\n",
       "      <td>0.475965</td>\n",
       "      <td>-0.118792</td>\n",
       "      <td>-0.025470</td>\n",
       "      <td>0.215615</td>\n",
       "      <td>0.251490</td>\n",
       "      <td>-0.644372</td>\n",
       "      <td>0.578065</td>\n",
       "    </tr>\n",
       "    <tr>\n",
       "      <th>...</th>\n",
       "      <td>...</td>\n",
       "      <td>...</td>\n",
       "      <td>...</td>\n",
       "      <td>...</td>\n",
       "      <td>...</td>\n",
       "      <td>...</td>\n",
       "      <td>...</td>\n",
       "      <td>...</td>\n",
       "    </tr>\n",
       "    <tr>\n",
       "      <th>695</th>\n",
       "      <td>0.818479</td>\n",
       "      <td>0.475965</td>\n",
       "      <td>0.141184</td>\n",
       "      <td>-0.391240</td>\n",
       "      <td>-0.154127</td>\n",
       "      <td>-0.024669</td>\n",
       "      <td>-0.667886</td>\n",
       "      <td>0.746355</td>\n",
       "    </tr>\n",
       "    <tr>\n",
       "      <th>696</th>\n",
       "      <td>1.147040</td>\n",
       "      <td>0.633607</td>\n",
       "      <td>0.310592</td>\n",
       "      <td>-0.215045</td>\n",
       "      <td>0.982205</td>\n",
       "      <td>-0.571259</td>\n",
       "      <td>1.011068</td>\n",
       "      <td>-1.487311</td>\n",
       "    </tr>\n",
       "    <tr>\n",
       "      <th>697</th>\n",
       "      <td>0.818231</td>\n",
       "      <td>-0.312243</td>\n",
       "      <td>0.434177</td>\n",
       "      <td>-0.097579</td>\n",
       "      <td>-0.320022</td>\n",
       "      <td>-0.203566</td>\n",
       "      <td>-1.307488</td>\n",
       "      <td>1.184929</td>\n",
       "    </tr>\n",
       "    <tr>\n",
       "      <th>698</th>\n",
       "      <td>-1.302012</td>\n",
       "      <td>-1.179272</td>\n",
       "      <td>-1.122191</td>\n",
       "      <td>-0.460723</td>\n",
       "      <td>-0.011001</td>\n",
       "      <td>-0.858184</td>\n",
       "      <td>-1.373329</td>\n",
       "      <td>1.241025</td>\n",
       "    </tr>\n",
       "    <tr>\n",
       "      <th>699</th>\n",
       "      <td>0.622694</td>\n",
       "      <td>-1.021631</td>\n",
       "      <td>-0.161175</td>\n",
       "      <td>-0.391170</td>\n",
       "      <td>-1.084444</td>\n",
       "      <td>1.387477</td>\n",
       "      <td>-1.420359</td>\n",
       "      <td>1.246125</td>\n",
       "    </tr>\n",
       "  </tbody>\n",
       "</table>\n",
       "<p>700 rows × 8 columns</p>\n",
       "</div>"
      ],
      "text/plain": [
       "       MedInc  HouseAge  AveRooms  AveBedrms  Population  AveOccup  Latitude  \\\n",
       "0   -0.852203 -0.312243  0.047643   0.111316   -0.386164  0.154795 -1.142885   \n",
       "1    0.323700 -1.100452  0.903505   0.507709   -0.313517 -0.043952 -0.230512   \n",
       "2   -0.117264  0.160682  0.009749  -0.529110   -0.930476 -0.684629  1.678887   \n",
       "3    0.478837 -0.154601  0.196403  -0.350160    0.333802  0.147290 -0.616154   \n",
       "4   -0.117065  0.475965 -0.118792  -0.025470    0.215615  0.251490 -0.644372   \n",
       "..        ...       ...       ...        ...         ...       ...       ...   \n",
       "695  0.818479  0.475965  0.141184  -0.391240   -0.154127 -0.024669 -0.667886   \n",
       "696  1.147040  0.633607  0.310592  -0.215045    0.982205 -0.571259  1.011068   \n",
       "697  0.818231 -0.312243  0.434177  -0.097579   -0.320022 -0.203566 -1.307488   \n",
       "698 -1.302012 -1.179272 -1.122191  -0.460723   -0.011001 -0.858184 -1.373329   \n",
       "699  0.622694 -1.021631 -0.161175  -0.391170   -1.084444  1.387477 -1.420359   \n",
       "\n",
       "     Longitude  \n",
       "0     1.455212  \n",
       "1    -0.390877  \n",
       "2    -1.879988  \n",
       "3     0.175189  \n",
       "4     0.578065  \n",
       "..         ...  \n",
       "695   0.746355  \n",
       "696  -1.487311  \n",
       "697   1.184929  \n",
       "698   1.241025  \n",
       "699   1.246125  \n",
       "\n",
       "[700 rows x 8 columns]"
      ]
     },
     "metadata": {},
     "output_type": "display_data"
    },
    {
     "data": {
      "text/html": [
       "<div>\n",
       "<style scoped>\n",
       "    .dataframe tbody tr th:only-of-type {\n",
       "        vertical-align: middle;\n",
       "    }\n",
       "\n",
       "    .dataframe tbody tr th {\n",
       "        vertical-align: top;\n",
       "    }\n",
       "\n",
       "    .dataframe thead th {\n",
       "        text-align: right;\n",
       "    }\n",
       "</style>\n",
       "<table border=\"1\" class=\"dataframe\">\n",
       "  <thead>\n",
       "    <tr style=\"text-align: right;\">\n",
       "      <th></th>\n",
       "      <th>MedInc</th>\n",
       "      <th>HouseAge</th>\n",
       "      <th>AveRooms</th>\n",
       "      <th>AveBedrms</th>\n",
       "      <th>Population</th>\n",
       "      <th>AveOccup</th>\n",
       "      <th>Latitude</th>\n",
       "      <th>Longitude</th>\n",
       "    </tr>\n",
       "  </thead>\n",
       "  <tbody>\n",
       "    <tr>\n",
       "      <th>0</th>\n",
       "      <td>1.934024</td>\n",
       "      <td>-0.974375</td>\n",
       "      <td>0.501054</td>\n",
       "      <td>-0.078040</td>\n",
       "      <td>-0.771005</td>\n",
       "      <td>-1.607803</td>\n",
       "      <td>0.951777</td>\n",
       "      <td>-1.386742</td>\n",
       "    </tr>\n",
       "    <tr>\n",
       "      <th>1</th>\n",
       "      <td>0.430613</td>\n",
       "      <td>-1.130566</td>\n",
       "      <td>0.099190</td>\n",
       "      <td>-0.186444</td>\n",
       "      <td>-0.471175</td>\n",
       "      <td>0.194063</td>\n",
       "      <td>1.032798</td>\n",
       "      <td>-0.994234</td>\n",
       "    </tr>\n",
       "    <tr>\n",
       "      <th>2</th>\n",
       "      <td>0.475796</td>\n",
       "      <td>-0.037226</td>\n",
       "      <td>-0.263927</td>\n",
       "      <td>-0.389518</td>\n",
       "      <td>-0.459981</td>\n",
       "      <td>0.160255</td>\n",
       "      <td>-0.901578</td>\n",
       "      <td>0.813370</td>\n",
       "    </tr>\n",
       "    <tr>\n",
       "      <th>3</th>\n",
       "      <td>-0.619518</td>\n",
       "      <td>0.509445</td>\n",
       "      <td>-0.381221</td>\n",
       "      <td>0.016700</td>\n",
       "      <td>-0.739023</td>\n",
       "      <td>-0.797379</td>\n",
       "      <td>0.728969</td>\n",
       "      <td>-1.278286</td>\n",
       "    </tr>\n",
       "    <tr>\n",
       "      <th>4</th>\n",
       "      <td>-1.260259</td>\n",
       "      <td>0.821828</td>\n",
       "      <td>-0.483773</td>\n",
       "      <td>-0.037755</td>\n",
       "      <td>-0.072202</td>\n",
       "      <td>2.067401</td>\n",
       "      <td>0.612502</td>\n",
       "      <td>-0.116255</td>\n",
       "    </tr>\n",
       "    <tr>\n",
       "      <th>...</th>\n",
       "      <td>...</td>\n",
       "      <td>...</td>\n",
       "      <td>...</td>\n",
       "      <td>...</td>\n",
       "      <td>...</td>\n",
       "      <td>...</td>\n",
       "      <td>...</td>\n",
       "      <td>...</td>\n",
       "    </tr>\n",
       "    <tr>\n",
       "      <th>295</th>\n",
       "      <td>-1.418318</td>\n",
       "      <td>1.837072</td>\n",
       "      <td>-1.290569</td>\n",
       "      <td>0.224452</td>\n",
       "      <td>-0.812581</td>\n",
       "      <td>0.244397</td>\n",
       "      <td>-1.428214</td>\n",
       "      <td>1.236866</td>\n",
       "    </tr>\n",
       "    <tr>\n",
       "      <th>296</th>\n",
       "      <td>-0.557264</td>\n",
       "      <td>0.353253</td>\n",
       "      <td>-0.484258</td>\n",
       "      <td>-0.214311</td>\n",
       "      <td>-0.375230</td>\n",
       "      <td>2.413506</td>\n",
       "      <td>-0.754727</td>\n",
       "      <td>0.994130</td>\n",
       "    </tr>\n",
       "    <tr>\n",
       "      <th>297</th>\n",
       "      <td>-0.668362</td>\n",
       "      <td>1.602785</td>\n",
       "      <td>-0.446860</td>\n",
       "      <td>-0.091381</td>\n",
       "      <td>0.050129</td>\n",
       "      <td>-0.456523</td>\n",
       "      <td>-0.739536</td>\n",
       "      <td>0.637774</td>\n",
       "    </tr>\n",
       "    <tr>\n",
       "      <th>298</th>\n",
       "      <td>0.144978</td>\n",
       "      <td>0.275157</td>\n",
       "      <td>-0.151138</td>\n",
       "      <td>-0.172500</td>\n",
       "      <td>1.039967</td>\n",
       "      <td>0.260218</td>\n",
       "      <td>-0.896514</td>\n",
       "      <td>0.818535</td>\n",
       "    </tr>\n",
       "    <tr>\n",
       "      <th>299</th>\n",
       "      <td>-0.000210</td>\n",
       "      <td>1.837072</td>\n",
       "      <td>1.484947</td>\n",
       "      <td>3.039213</td>\n",
       "      <td>-1.058042</td>\n",
       "      <td>3.039276</td>\n",
       "      <td>1.134074</td>\n",
       "      <td>-1.479704</td>\n",
       "    </tr>\n",
       "  </tbody>\n",
       "</table>\n",
       "<p>300 rows × 8 columns</p>\n",
       "</div>"
      ],
      "text/plain": [
       "       MedInc  HouseAge  AveRooms  AveBedrms  Population  AveOccup  Latitude  \\\n",
       "0    1.934024 -0.974375  0.501054  -0.078040   -0.771005 -1.607803  0.951777   \n",
       "1    0.430613 -1.130566  0.099190  -0.186444   -0.471175  0.194063  1.032798   \n",
       "2    0.475796 -0.037226 -0.263927  -0.389518   -0.459981  0.160255 -0.901578   \n",
       "3   -0.619518  0.509445 -0.381221   0.016700   -0.739023 -0.797379  0.728969   \n",
       "4   -1.260259  0.821828 -0.483773  -0.037755   -0.072202  2.067401  0.612502   \n",
       "..        ...       ...       ...        ...         ...       ...       ...   \n",
       "295 -1.418318  1.837072 -1.290569   0.224452   -0.812581  0.244397 -1.428214   \n",
       "296 -0.557264  0.353253 -0.484258  -0.214311   -0.375230  2.413506 -0.754727   \n",
       "297 -0.668362  1.602785 -0.446860  -0.091381    0.050129 -0.456523 -0.739536   \n",
       "298  0.144978  0.275157 -0.151138  -0.172500    1.039967  0.260218 -0.896514   \n",
       "299 -0.000210  1.837072  1.484947   3.039213   -1.058042  3.039276  1.134074   \n",
       "\n",
       "     Longitude  \n",
       "0    -1.386742  \n",
       "1    -0.994234  \n",
       "2     0.813370  \n",
       "3    -1.278286  \n",
       "4    -0.116255  \n",
       "..         ...  \n",
       "295   1.236866  \n",
       "296   0.994130  \n",
       "297   0.637774  \n",
       "298   0.818535  \n",
       "299  -1.479704  \n",
       "\n",
       "[300 rows x 8 columns]"
      ]
     },
     "execution_count": 48,
     "metadata": {},
     "output_type": "execute_result"
    }
   ],
   "source": [
    "#標準化\n",
    "ss_hold=StandardScaler()\n",
    "x_train_hold_std=pd.DataFrame(ss_hold.fit_transform(x_train_hold), columns=x_train_hold.columns)\n",
    "display(x_train_hold_std)\n",
    "ss_hold2=StandardScaler()\n",
    "x_test_hold_std = pd.DataFrame(ss_hold2.fit_transform(x_test_hold), columns=x_test_hold.columns)\n",
    "x_test_hold_std"
   ]
  },
  {
   "cell_type": "code",
   "execution_count": 49,
   "id": "82e40f5e",
   "metadata": {
    "scrolled": true
   },
   "outputs": [],
   "source": [
    "LR_hold=LinearRegression()\n",
    "LR_hold.fit(x_train_hold_std, y_train_hold)\n",
    "y_train_pred_hold=LR_hold.predict(x_train_hold_std)\n",
    "y_test_pred_hold = LR_hold.predict(x_test_hold_std)"
   ]
  },
  {
   "cell_type": "code",
   "execution_count": 50,
   "id": "ce681af4",
   "metadata": {},
   "outputs": [
    {
     "name": "stdout",
     "output_type": "stream",
     "text": [
      "RMSE_train 0.6728207052889676\n",
      "RMSE_test 0.7171482763004988\n"
     ]
    }
   ],
   "source": [
    "print('RMSE_train', mean_squared_error(y_train_hold,y_train_pred_hold, squared=False))\n",
    "print('RMSE_test', mean_squared_error(y_test_hold, y_test_pred_hold, squared=False))"
   ]
  },
  {
   "cell_type": "code",
   "execution_count": 51,
   "id": "5663557e",
   "metadata": {},
   "outputs": [],
   "source": [
    "#x_Testを標準化\n",
    "ss_Test_hold = StandardScaler()\n",
    "x_Test_hold_std =pd.DataFrame(ss_Test_hold.fit_transform(df2.loc[1000:,'MedInc':'Longitude']), columns=df2.loc[1000:,'MedInc':'Longitude'].columns)"
   ]
  },
  {
   "cell_type": "code",
   "execution_count": 52,
   "id": "15be696a",
   "metadata": {},
   "outputs": [
    {
     "data": {
      "text/html": [
       "<div>\n",
       "<style scoped>\n",
       "    .dataframe tbody tr th:only-of-type {\n",
       "        vertical-align: middle;\n",
       "    }\n",
       "\n",
       "    .dataframe tbody tr th {\n",
       "        vertical-align: top;\n",
       "    }\n",
       "\n",
       "    .dataframe thead th {\n",
       "        text-align: right;\n",
       "    }\n",
       "</style>\n",
       "<table border=\"1\" class=\"dataframe\">\n",
       "  <thead>\n",
       "    <tr style=\"text-align: right;\">\n",
       "      <th></th>\n",
       "      <th>MedInc</th>\n",
       "      <th>HouseAge</th>\n",
       "      <th>AveRooms</th>\n",
       "      <th>AveBedrms</th>\n",
       "      <th>Population</th>\n",
       "      <th>AveOccup</th>\n",
       "      <th>Latitude</th>\n",
       "      <th>Longitude</th>\n",
       "    </tr>\n",
       "  </thead>\n",
       "  <tbody>\n",
       "    <tr>\n",
       "      <th>0</th>\n",
       "      <td>1.397824</td>\n",
       "      <td>-1.160564</td>\n",
       "      <td>0.307931</td>\n",
       "      <td>-0.058233</td>\n",
       "      <td>0.055278</td>\n",
       "      <td>-0.066476</td>\n",
       "      <td>-1.012244</td>\n",
       "      <td>0.927913</td>\n",
       "    </tr>\n",
       "    <tr>\n",
       "      <th>1</th>\n",
       "      <td>2.128359</td>\n",
       "      <td>0.747885</td>\n",
       "      <td>0.452130</td>\n",
       "      <td>-0.067538</td>\n",
       "      <td>-0.289420</td>\n",
       "      <td>-0.053511</td>\n",
       "      <td>-0.811174</td>\n",
       "      <td>0.583941</td>\n",
       "    </tr>\n",
       "    <tr>\n",
       "      <th>2</th>\n",
       "      <td>-0.590595</td>\n",
       "      <td>-0.365377</td>\n",
       "      <td>-0.766664</td>\n",
       "      <td>-0.006242</td>\n",
       "      <td>0.523962</td>\n",
       "      <td>-0.043157</td>\n",
       "      <td>-0.801822</td>\n",
       "      <td>0.608866</td>\n",
       "    </tr>\n",
       "    <tr>\n",
       "      <th>3</th>\n",
       "      <td>-0.638531</td>\n",
       "      <td>-0.206340</td>\n",
       "      <td>0.725306</td>\n",
       "      <td>0.180604</td>\n",
       "      <td>-0.690395</td>\n",
       "      <td>-0.033456</td>\n",
       "      <td>0.914285</td>\n",
       "      <td>-0.672304</td>\n",
       "    </tr>\n",
       "    <tr>\n",
       "      <th>4</th>\n",
       "      <td>-0.440354</td>\n",
       "      <td>0.509329</td>\n",
       "      <td>-0.814308</td>\n",
       "      <td>-0.222821</td>\n",
       "      <td>0.086934</td>\n",
       "      <td>-0.108231</td>\n",
       "      <td>-0.722329</td>\n",
       "      <td>0.608866</td>\n",
       "    </tr>\n",
       "    <tr>\n",
       "      <th>...</th>\n",
       "      <td>...</td>\n",
       "      <td>...</td>\n",
       "      <td>...</td>\n",
       "      <td>...</td>\n",
       "      <td>...</td>\n",
       "      <td>...</td>\n",
       "      <td>...</td>\n",
       "      <td>...</td>\n",
       "    </tr>\n",
       "    <tr>\n",
       "      <th>19635</th>\n",
       "      <td>-0.420314</td>\n",
       "      <td>0.668366</td>\n",
       "      <td>-0.012746</td>\n",
       "      <td>-0.105958</td>\n",
       "      <td>-0.492545</td>\n",
       "      <td>-0.003230</td>\n",
       "      <td>-1.409707</td>\n",
       "      <td>1.236989</td>\n",
       "    </tr>\n",
       "    <tr>\n",
       "      <th>19636</th>\n",
       "      <td>-0.313737</td>\n",
       "      <td>0.827404</td>\n",
       "      <td>-0.101742</td>\n",
       "      <td>0.005188</td>\n",
       "      <td>-0.334266</td>\n",
       "      <td>0.057314</td>\n",
       "      <td>-0.666217</td>\n",
       "      <td>0.608866</td>\n",
       "    </tr>\n",
       "    <tr>\n",
       "      <th>19637</th>\n",
       "      <td>-0.490294</td>\n",
       "      <td>0.350291</td>\n",
       "      <td>0.049479</td>\n",
       "      <td>-0.051430</td>\n",
       "      <td>0.029778</td>\n",
       "      <td>0.049873</td>\n",
       "      <td>-0.156528</td>\n",
       "      <td>0.289820</td>\n",
       "    </tr>\n",
       "    <tr>\n",
       "      <th>19638</th>\n",
       "      <td>0.694974</td>\n",
       "      <td>-1.478639</td>\n",
       "      <td>0.553506</td>\n",
       "      <td>-0.251847</td>\n",
       "      <td>-0.677205</td>\n",
       "      <td>0.006298</td>\n",
       "      <td>1.124707</td>\n",
       "      <td>-0.876693</td>\n",
       "    </tr>\n",
       "    <tr>\n",
       "      <th>19639</th>\n",
       "      <td>-0.757606</td>\n",
       "      <td>0.747885</td>\n",
       "      <td>-0.179664</td>\n",
       "      <td>0.053184</td>\n",
       "      <td>-0.387025</td>\n",
       "      <td>-0.027088</td>\n",
       "      <td>0.993778</td>\n",
       "      <td>-1.295442</td>\n",
       "    </tr>\n",
       "  </tbody>\n",
       "</table>\n",
       "<p>19640 rows × 8 columns</p>\n",
       "</div>"
      ],
      "text/plain": [
       "         MedInc  HouseAge  AveRooms  AveBedrms  Population  AveOccup  \\\n",
       "0      1.397824 -1.160564  0.307931  -0.058233    0.055278 -0.066476   \n",
       "1      2.128359  0.747885  0.452130  -0.067538   -0.289420 -0.053511   \n",
       "2     -0.590595 -0.365377 -0.766664  -0.006242    0.523962 -0.043157   \n",
       "3     -0.638531 -0.206340  0.725306   0.180604   -0.690395 -0.033456   \n",
       "4     -0.440354  0.509329 -0.814308  -0.222821    0.086934 -0.108231   \n",
       "...         ...       ...       ...        ...         ...       ...   \n",
       "19635 -0.420314  0.668366 -0.012746  -0.105958   -0.492545 -0.003230   \n",
       "19636 -0.313737  0.827404 -0.101742   0.005188   -0.334266  0.057314   \n",
       "19637 -0.490294  0.350291  0.049479  -0.051430    0.029778  0.049873   \n",
       "19638  0.694974 -1.478639  0.553506  -0.251847   -0.677205  0.006298   \n",
       "19639 -0.757606  0.747885 -0.179664   0.053184   -0.387025 -0.027088   \n",
       "\n",
       "       Latitude  Longitude  \n",
       "0     -1.012244   0.927913  \n",
       "1     -0.811174   0.583941  \n",
       "2     -0.801822   0.608866  \n",
       "3      0.914285  -0.672304  \n",
       "4     -0.722329   0.608866  \n",
       "...         ...        ...  \n",
       "19635 -1.409707   1.236989  \n",
       "19636 -0.666217   0.608866  \n",
       "19637 -0.156528   0.289820  \n",
       "19638  1.124707  -0.876693  \n",
       "19639  0.993778  -1.295442  \n",
       "\n",
       "[19640 rows x 8 columns]"
      ]
     },
     "execution_count": 52,
     "metadata": {},
     "output_type": "execute_result"
    }
   ],
   "source": [
    "x_Test_hold_std"
   ]
  },
  {
   "cell_type": "markdown",
   "id": "987cec05",
   "metadata": {},
   "source": [
    "x_Test_hold_stdはk分割でもTestデータとして使う"
   ]
  },
  {
   "cell_type": "code",
   "execution_count": 53,
   "id": "d90057ee",
   "metadata": {},
   "outputs": [
    {
     "data": {
      "text/html": [
       "<div>\n",
       "<style scoped>\n",
       "    .dataframe tbody tr th:only-of-type {\n",
       "        vertical-align: middle;\n",
       "    }\n",
       "\n",
       "    .dataframe tbody tr th {\n",
       "        vertical-align: top;\n",
       "    }\n",
       "\n",
       "    .dataframe thead th {\n",
       "        text-align: right;\n",
       "    }\n",
       "</style>\n",
       "<table border=\"1\" class=\"dataframe\">\n",
       "  <thead>\n",
       "    <tr style=\"text-align: right;\">\n",
       "      <th></th>\n",
       "      <th>MedInc</th>\n",
       "      <th>HouseAge</th>\n",
       "      <th>AveRooms</th>\n",
       "      <th>AveBedrms</th>\n",
       "      <th>Population</th>\n",
       "      <th>AveOccup</th>\n",
       "      <th>Latitude</th>\n",
       "      <th>Longitude</th>\n",
       "    </tr>\n",
       "  </thead>\n",
       "  <tbody>\n",
       "    <tr>\n",
       "      <th>1000</th>\n",
       "      <td>6.5206</td>\n",
       "      <td>14.0</td>\n",
       "      <td>6.190779</td>\n",
       "      <td>1.068362</td>\n",
       "      <td>1490.0</td>\n",
       "      <td>2.368839</td>\n",
       "      <td>33.47</td>\n",
       "      <td>-117.71</td>\n",
       "    </tr>\n",
       "    <tr>\n",
       "      <th>1001</th>\n",
       "      <td>7.9059</td>\n",
       "      <td>38.0</td>\n",
       "      <td>6.547945</td>\n",
       "      <td>1.063927</td>\n",
       "      <td>1098.0</td>\n",
       "      <td>2.506849</td>\n",
       "      <td>33.90</td>\n",
       "      <td>-118.40</td>\n",
       "    </tr>\n",
       "    <tr>\n",
       "      <th>1002</th>\n",
       "      <td>2.7500</td>\n",
       "      <td>24.0</td>\n",
       "      <td>3.529107</td>\n",
       "      <td>1.093144</td>\n",
       "      <td>2023.0</td>\n",
       "      <td>2.617076</td>\n",
       "      <td>33.92</td>\n",
       "      <td>-118.35</td>\n",
       "    </tr>\n",
       "    <tr>\n",
       "      <th>1003</th>\n",
       "      <td>2.6591</td>\n",
       "      <td>26.0</td>\n",
       "      <td>7.224576</td>\n",
       "      <td>1.182203</td>\n",
       "      <td>642.0</td>\n",
       "      <td>2.720339</td>\n",
       "      <td>37.59</td>\n",
       "      <td>-120.92</td>\n",
       "    </tr>\n",
       "    <tr>\n",
       "      <th>1004</th>\n",
       "      <td>3.0349</td>\n",
       "      <td>35.0</td>\n",
       "      <td>3.411097</td>\n",
       "      <td>0.989912</td>\n",
       "      <td>1526.0</td>\n",
       "      <td>1.924338</td>\n",
       "      <td>34.09</td>\n",
       "      <td>-118.35</td>\n",
       "    </tr>\n",
       "    <tr>\n",
       "      <th>...</th>\n",
       "      <td>...</td>\n",
       "      <td>...</td>\n",
       "      <td>...</td>\n",
       "      <td>...</td>\n",
       "      <td>...</td>\n",
       "      <td>...</td>\n",
       "      <td>...</td>\n",
       "      <td>...</td>\n",
       "    </tr>\n",
       "    <tr>\n",
       "      <th>20635</th>\n",
       "      <td>3.0729</td>\n",
       "      <td>37.0</td>\n",
       "      <td>5.396491</td>\n",
       "      <td>1.045614</td>\n",
       "      <td>867.0</td>\n",
       "      <td>3.042105</td>\n",
       "      <td>32.62</td>\n",
       "      <td>-117.09</td>\n",
       "    </tr>\n",
       "    <tr>\n",
       "      <th>20636</th>\n",
       "      <td>3.2750</td>\n",
       "      <td>39.0</td>\n",
       "      <td>5.176056</td>\n",
       "      <td>1.098592</td>\n",
       "      <td>1047.0</td>\n",
       "      <td>3.686620</td>\n",
       "      <td>34.21</td>\n",
       "      <td>-118.35</td>\n",
       "    </tr>\n",
       "    <tr>\n",
       "      <th>20637</th>\n",
       "      <td>2.9402</td>\n",
       "      <td>33.0</td>\n",
       "      <td>5.550617</td>\n",
       "      <td>1.071605</td>\n",
       "      <td>1461.0</td>\n",
       "      <td>3.607407</td>\n",
       "      <td>35.30</td>\n",
       "      <td>-118.99</td>\n",
       "    </tr>\n",
       "    <tr>\n",
       "      <th>20638</th>\n",
       "      <td>5.1878</td>\n",
       "      <td>10.0</td>\n",
       "      <td>6.799043</td>\n",
       "      <td>0.976077</td>\n",
       "      <td>657.0</td>\n",
       "      <td>3.143541</td>\n",
       "      <td>38.04</td>\n",
       "      <td>-121.33</td>\n",
       "    </tr>\n",
       "    <tr>\n",
       "      <th>20639</th>\n",
       "      <td>2.4333</td>\n",
       "      <td>38.0</td>\n",
       "      <td>4.983051</td>\n",
       "      <td>1.121469</td>\n",
       "      <td>987.0</td>\n",
       "      <td>2.788136</td>\n",
       "      <td>37.76</td>\n",
       "      <td>-122.17</td>\n",
       "    </tr>\n",
       "  </tbody>\n",
       "</table>\n",
       "<p>19640 rows × 8 columns</p>\n",
       "</div>"
      ],
      "text/plain": [
       "       MedInc  HouseAge  AveRooms  AveBedrms  Population  AveOccup  Latitude  \\\n",
       "1000   6.5206      14.0  6.190779   1.068362      1490.0  2.368839     33.47   \n",
       "1001   7.9059      38.0  6.547945   1.063927      1098.0  2.506849     33.90   \n",
       "1002   2.7500      24.0  3.529107   1.093144      2023.0  2.617076     33.92   \n",
       "1003   2.6591      26.0  7.224576   1.182203       642.0  2.720339     37.59   \n",
       "1004   3.0349      35.0  3.411097   0.989912      1526.0  1.924338     34.09   \n",
       "...       ...       ...       ...        ...         ...       ...       ...   \n",
       "20635  3.0729      37.0  5.396491   1.045614       867.0  3.042105     32.62   \n",
       "20636  3.2750      39.0  5.176056   1.098592      1047.0  3.686620     34.21   \n",
       "20637  2.9402      33.0  5.550617   1.071605      1461.0  3.607407     35.30   \n",
       "20638  5.1878      10.0  6.799043   0.976077       657.0  3.143541     38.04   \n",
       "20639  2.4333      38.0  4.983051   1.121469       987.0  2.788136     37.76   \n",
       "\n",
       "       Longitude  \n",
       "1000     -117.71  \n",
       "1001     -118.40  \n",
       "1002     -118.35  \n",
       "1003     -120.92  \n",
       "1004     -118.35  \n",
       "...          ...  \n",
       "20635    -117.09  \n",
       "20636    -118.35  \n",
       "20637    -118.99  \n",
       "20638    -121.33  \n",
       "20639    -122.17  \n",
       "\n",
       "[19640 rows x 8 columns]"
      ]
     },
     "execution_count": 53,
     "metadata": {},
     "output_type": "execute_result"
    }
   ],
   "source": [
    "df2.loc[1000:,'MedInc':'Longitude']"
   ]
  },
  {
   "cell_type": "code",
   "execution_count": 54,
   "id": "dbc55d8b",
   "metadata": {},
   "outputs": [
    {
     "name": "stdout",
     "output_type": "stream",
     "text": [
      "RMSE_Test 0.7869856511524669\n"
     ]
    }
   ],
   "source": [
    "#Test(未知データ)を予測\n",
    "y_Test_pred_hold = LR_hold.predict(x_Test_hold_std)\n",
    "print('RMSE_Test', mean_squared_error(df2.loc[1000:,'target'], y_Test_pred_hold, squared=False))"
   ]
  },
  {
   "cell_type": "markdown",
   "id": "d30d9912",
   "metadata": {},
   "source": [
    "RMSE_test=0.7171482763004988  \n",
    "RMSE_Test=0.7869856511524669  \n",
    "⇒RMSE_train<RMSE_test<RMSE_Test  \n",
    "まだ少しRMSEに差がある"
   ]
  },
  {
   "cell_type": "markdown",
   "id": "81381dba",
   "metadata": {},
   "source": [
    "### k分割交差検証（k＝10, LOO)"
   ]
  },
  {
   "cell_type": "code",
   "execution_count": 55,
   "id": "0fb23c70",
   "metadata": {},
   "outputs": [
    {
     "data": {
      "text/html": [
       "<div>\n",
       "<style scoped>\n",
       "    .dataframe tbody tr th:only-of-type {\n",
       "        vertical-align: middle;\n",
       "    }\n",
       "\n",
       "    .dataframe tbody tr th {\n",
       "        vertical-align: top;\n",
       "    }\n",
       "\n",
       "    .dataframe thead th {\n",
       "        text-align: right;\n",
       "    }\n",
       "</style>\n",
       "<table border=\"1\" class=\"dataframe\">\n",
       "  <thead>\n",
       "    <tr style=\"text-align: right;\">\n",
       "      <th></th>\n",
       "      <th>MedInc</th>\n",
       "      <th>HouseAge</th>\n",
       "      <th>AveRooms</th>\n",
       "      <th>AveBedrms</th>\n",
       "      <th>Population</th>\n",
       "      <th>AveOccup</th>\n",
       "      <th>Latitude</th>\n",
       "      <th>Longitude</th>\n",
       "    </tr>\n",
       "  </thead>\n",
       "  <tbody>\n",
       "    <tr>\n",
       "      <th>0</th>\n",
       "      <td>-0.866981</td>\n",
       "      <td>-0.275967</td>\n",
       "      <td>0.070234</td>\n",
       "      <td>0.112281</td>\n",
       "      <td>-0.379271</td>\n",
       "      <td>0.165523</td>\n",
       "      <td>-1.159970</td>\n",
       "      <td>1.462435</td>\n",
       "    </tr>\n",
       "    <tr>\n",
       "      <th>1</th>\n",
       "      <td>0.336004</td>\n",
       "      <td>-1.060858</td>\n",
       "      <td>0.941013</td>\n",
       "      <td>0.492006</td>\n",
       "      <td>-0.314429</td>\n",
       "      <td>-0.037143</td>\n",
       "      <td>-0.228240</td>\n",
       "      <td>-0.390602</td>\n",
       "    </tr>\n",
       "    <tr>\n",
       "      <th>2</th>\n",
       "      <td>-0.115116</td>\n",
       "      <td>0.194967</td>\n",
       "      <td>0.031679</td>\n",
       "      <td>-0.501216</td>\n",
       "      <td>-0.865103</td>\n",
       "      <td>-0.690455</td>\n",
       "      <td>1.721669</td>\n",
       "      <td>-1.885316</td>\n",
       "    </tr>\n",
       "    <tr>\n",
       "      <th>3</th>\n",
       "      <td>0.494714</td>\n",
       "      <td>-0.118989</td>\n",
       "      <td>0.221586</td>\n",
       "      <td>-0.329791</td>\n",
       "      <td>0.263343</td>\n",
       "      <td>0.157870</td>\n",
       "      <td>-0.622064</td>\n",
       "      <td>0.177595</td>\n",
       "    </tr>\n",
       "    <tr>\n",
       "      <th>4</th>\n",
       "      <td>-0.114912</td>\n",
       "      <td>0.508923</td>\n",
       "      <td>-0.099103</td>\n",
       "      <td>-0.018753</td>\n",
       "      <td>0.157854</td>\n",
       "      <td>0.264125</td>\n",
       "      <td>-0.650881</td>\n",
       "      <td>0.581987</td>\n",
       "    </tr>\n",
       "    <tr>\n",
       "      <th>...</th>\n",
       "      <td>...</td>\n",
       "      <td>...</td>\n",
       "      <td>...</td>\n",
       "      <td>...</td>\n",
       "      <td>...</td>\n",
       "      <td>...</td>\n",
       "      <td>...</td>\n",
       "      <td>...</td>\n",
       "    </tr>\n",
       "    <tr>\n",
       "      <th>995</th>\n",
       "      <td>-1.350179</td>\n",
       "      <td>1.764747</td>\n",
       "      <td>-1.284784</td>\n",
       "      <td>0.231866</td>\n",
       "      <td>-0.902847</td>\n",
       "      <td>0.214796</td>\n",
       "      <td>-1.371290</td>\n",
       "      <td>1.221847</td>\n",
       "    </tr>\n",
       "    <tr>\n",
       "      <th>996</th>\n",
       "      <td>-0.537360</td>\n",
       "      <td>0.273456</td>\n",
       "      <td>-0.513808</td>\n",
       "      <td>-0.247141</td>\n",
       "      <td>-0.373464</td>\n",
       "      <td>2.280131</td>\n",
       "      <td>-0.732527</td>\n",
       "      <td>0.981260</td>\n",
       "    </tr>\n",
       "    <tr>\n",
       "      <th>997</th>\n",
       "      <td>-0.642235</td>\n",
       "      <td>1.529280</td>\n",
       "      <td>-0.478049</td>\n",
       "      <td>-0.112936</td>\n",
       "      <td>0.141401</td>\n",
       "      <td>-0.452591</td>\n",
       "      <td>-0.718119</td>\n",
       "      <td>0.628056</td>\n",
       "    </tr>\n",
       "    <tr>\n",
       "      <th>998</th>\n",
       "      <td>0.125542</td>\n",
       "      <td>0.194967</td>\n",
       "      <td>-0.195288</td>\n",
       "      <td>-0.201495</td>\n",
       "      <td>1.339528</td>\n",
       "      <td>0.229859</td>\n",
       "      <td>-0.867003</td>\n",
       "      <td>0.807217</td>\n",
       "    </tr>\n",
       "    <tr>\n",
       "      <th>999</th>\n",
       "      <td>-0.011512</td>\n",
       "      <td>1.764747</td>\n",
       "      <td>1.369097</td>\n",
       "      <td>3.304793</td>\n",
       "      <td>-1.199959</td>\n",
       "      <td>2.875964</td>\n",
       "      <td>1.058892</td>\n",
       "      <td>-1.470686</td>\n",
       "    </tr>\n",
       "  </tbody>\n",
       "</table>\n",
       "<p>1000 rows × 8 columns</p>\n",
       "</div>"
      ],
      "text/plain": [
       "       MedInc  HouseAge  AveRooms  AveBedrms  Population  AveOccup  Latitude  \\\n",
       "0   -0.866981 -0.275967  0.070234   0.112281   -0.379271  0.165523 -1.159970   \n",
       "1    0.336004 -1.060858  0.941013   0.492006   -0.314429 -0.037143 -0.228240   \n",
       "2   -0.115116  0.194967  0.031679  -0.501216   -0.865103 -0.690455  1.721669   \n",
       "3    0.494714 -0.118989  0.221586  -0.329791    0.263343  0.157870 -0.622064   \n",
       "4   -0.114912  0.508923 -0.099103  -0.018753    0.157854  0.264125 -0.650881   \n",
       "..        ...       ...       ...        ...         ...       ...       ...   \n",
       "995 -1.350179  1.764747 -1.284784   0.231866   -0.902847  0.214796 -1.371290   \n",
       "996 -0.537360  0.273456 -0.513808  -0.247141   -0.373464  2.280131 -0.732527   \n",
       "997 -0.642235  1.529280 -0.478049  -0.112936    0.141401 -0.452591 -0.718119   \n",
       "998  0.125542  0.194967 -0.195288  -0.201495    1.339528  0.229859 -0.867003   \n",
       "999 -0.011512  1.764747  1.369097   3.304793   -1.199959  2.875964  1.058892   \n",
       "\n",
       "     Longitude  \n",
       "0     1.462435  \n",
       "1    -0.390602  \n",
       "2    -1.885316  \n",
       "3     0.177595  \n",
       "4     0.581987  \n",
       "..         ...  \n",
       "995   1.221847  \n",
       "996   0.981260  \n",
       "997   0.628056  \n",
       "998   0.807217  \n",
       "999  -1.470686  \n",
       "\n",
       "[1000 rows x 8 columns]"
      ]
     },
     "execution_count": 55,
     "metadata": {},
     "output_type": "execute_result"
    }
   ],
   "source": [
    "#df3を標準化\n",
    "ss_k=StandardScaler()\n",
    "x_train_k_std = pd.DataFrame(ss_k.fit_transform(df3.loc[:,'MedInc':'Longitude']), columns=df3.loc[:,'MedInc':'Longitude'].columns)\n",
    "x_train_k_std"
   ]
  },
  {
   "cell_type": "code",
   "execution_count": 56,
   "id": "f8bc41c0",
   "metadata": {},
   "outputs": [
    {
     "name": "stdout",
     "output_type": "stream",
     "text": [
      "RMSE_test 0.692195788648241\n"
     ]
    }
   ],
   "source": [
    "#from sklearn.model_selection import cross_val_score\n",
    "LR_k=LinearRegression()\n",
    "scores=cross_val_score(LR_k, x_train_k_std, df3['target'], scoring='neg_mean_squared_error', cv=10)\n",
    "#10回分の結果を出す\n",
    "np.sqrt(-scores)\n",
    "#平均してtestのスコア（RMSE）を出す\n",
    "print('RMSE_test',np.mean(np.sqrt(-scores)))"
   ]
  },
  {
   "cell_type": "markdown",
   "id": "6ab54c9a",
   "metadata": {},
   "source": [
    "ホールドアウトのRMSE_test(0.7171482763004988)より少し良い数値。問題はTestデータに対してどれくらいの数値を出すか"
   ]
  },
  {
   "cell_type": "code",
   "execution_count": 57,
   "id": "94945f57",
   "metadata": {},
   "outputs": [
    {
     "name": "stdout",
     "output_type": "stream",
     "text": [
      "RMSE_Test 0.7774242130846203\n"
     ]
    }
   ],
   "source": [
    "#まずはもう一度LR_kに対してx_train_k_stdとdf3['target']を学習させて真のモデルを作成\n",
    "LR_k.fit(x_train_k_std, df3['target'])\n",
    "y_Test_pred_k = LR_k.predict(x_Test_hold_std)\n",
    "print('RMSE_Test', mean_squared_error(df2.loc[1000:,'target'], y_Test_pred_k, squared=False))"
   ]
  },
  {
   "cell_type": "markdown",
   "id": "11dff9c0",
   "metadata": {},
   "source": [
    "ホールドアウトと同様にRMSE_test<RMSE_Testになった(バリアンスの高さはありそう)が若干RMSEが10分割のほうが下がった。"
   ]
  },
  {
   "cell_type": "code",
   "execution_count": null,
   "id": "58bb92fe",
   "metadata": {},
   "outputs": [],
   "source": []
  },
  {
   "cell_type": "markdown",
   "id": "8cc96b2e",
   "metadata": {},
   "source": [
    "## 決定木回帰（多変量）  \n",
    "・元データからMedInc,HouseAgeを特徴量とし、目的変数をtargetとする(件数は５件)  \n",
    "・手計算  \n",
    "・決定木回帰を行い計算のプロセスを確認  \n",
    "・変数重要度を手計算、feature_importance_と同じか確認  \n",
    "特徴量重要度の計算式は以下参照  \n",
    "https://yolo-kiyoshi.com/2019/09/16/post-1226/  \n",
    "$I(j)=\\sum(N_{parent}(i) \\times MSE_{parent}(i)-(N_{leftchild}(i) \\times MSE_{leftchild}(i)+N_{rightchild}(i) \\times MSE_{rightchild}(i))$  "
   ]
  },
  {
   "cell_type": "code",
   "execution_count": 58,
   "id": "6d873319",
   "metadata": {},
   "outputs": [
    {
     "data": {
      "text/html": [
       "<div>\n",
       "<style scoped>\n",
       "    .dataframe tbody tr th:only-of-type {\n",
       "        vertical-align: middle;\n",
       "    }\n",
       "\n",
       "    .dataframe tbody tr th {\n",
       "        vertical-align: top;\n",
       "    }\n",
       "\n",
       "    .dataframe thead th {\n",
       "        text-align: right;\n",
       "    }\n",
       "</style>\n",
       "<table border=\"1\" class=\"dataframe\">\n",
       "  <thead>\n",
       "    <tr style=\"text-align: right;\">\n",
       "      <th></th>\n",
       "      <th>MedInc</th>\n",
       "      <th>HouseAge</th>\n",
       "      <th>AveRooms</th>\n",
       "      <th>AveBedrms</th>\n",
       "      <th>Population</th>\n",
       "      <th>AveOccup</th>\n",
       "      <th>Latitude</th>\n",
       "      <th>Longitude</th>\n",
       "      <th>target</th>\n",
       "    </tr>\n",
       "  </thead>\n",
       "  <tbody>\n",
       "    <tr>\n",
       "      <th>0</th>\n",
       "      <td>3.1779</td>\n",
       "      <td>41.0</td>\n",
       "      <td>4.394737</td>\n",
       "      <td>1.054825</td>\n",
       "      <td>1658.0</td>\n",
       "      <td>3.635965</td>\n",
       "      <td>33.80</td>\n",
       "      <td>-118.26</td>\n",
       "      <td>1.71100</td>\n",
       "    </tr>\n",
       "    <tr>\n",
       "      <th>1</th>\n",
       "      <td>2.5111</td>\n",
       "      <td>49.0</td>\n",
       "      <td>4.886792</td>\n",
       "      <td>0.964361</td>\n",
       "      <td>1290.0</td>\n",
       "      <td>2.704403</td>\n",
       "      <td>36.75</td>\n",
       "      <td>-119.75</td>\n",
       "      <td>0.55400</td>\n",
       "    </tr>\n",
       "    <tr>\n",
       "      <th>2</th>\n",
       "      <td>2.5405</td>\n",
       "      <td>15.0</td>\n",
       "      <td>6.444651</td>\n",
       "      <td>1.422326</td>\n",
       "      <td>2568.0</td>\n",
       "      <td>2.388837</td>\n",
       "      <td>34.06</td>\n",
       "      <td>-116.56</td>\n",
       "      <td>0.69600</td>\n",
       "    </tr>\n",
       "    <tr>\n",
       "      <th>3</th>\n",
       "      <td>4.5033</td>\n",
       "      <td>7.0</td>\n",
       "      <td>5.291789</td>\n",
       "      <td>1.101173</td>\n",
       "      <td>1739.0</td>\n",
       "      <td>2.549853</td>\n",
       "      <td>37.26</td>\n",
       "      <td>-121.83</td>\n",
       "      <td>2.13100</td>\n",
       "    </tr>\n",
       "    <tr>\n",
       "      <th>4</th>\n",
       "      <td>2.9196</td>\n",
       "      <td>33.0</td>\n",
       "      <td>4.824528</td>\n",
       "      <td>1.090566</td>\n",
       "      <td>1715.0</td>\n",
       "      <td>3.235849</td>\n",
       "      <td>34.09</td>\n",
       "      <td>-118.08</td>\n",
       "      <td>2.08800</td>\n",
       "    </tr>\n",
       "    <tr>\n",
       "      <th>...</th>\n",
       "      <td>...</td>\n",
       "      <td>...</td>\n",
       "      <td>...</td>\n",
       "      <td>...</td>\n",
       "      <td>...</td>\n",
       "      <td>...</td>\n",
       "      <td>...</td>\n",
       "      <td>...</td>\n",
       "      <td>...</td>\n",
       "    </tr>\n",
       "    <tr>\n",
       "      <th>14442</th>\n",
       "      <td>1.7823</td>\n",
       "      <td>17.0</td>\n",
       "      <td>4.055046</td>\n",
       "      <td>1.087156</td>\n",
       "      <td>1079.0</td>\n",
       "      <td>2.474771</td>\n",
       "      <td>33.76</td>\n",
       "      <td>-117.88</td>\n",
       "      <td>2.05300</td>\n",
       "    </tr>\n",
       "    <tr>\n",
       "      <th>14443</th>\n",
       "      <td>8.5608</td>\n",
       "      <td>42.0</td>\n",
       "      <td>6.788462</td>\n",
       "      <td>1.011538</td>\n",
       "      <td>753.0</td>\n",
       "      <td>2.896154</td>\n",
       "      <td>34.42</td>\n",
       "      <td>-119.63</td>\n",
       "      <td>5.00001</td>\n",
       "    </tr>\n",
       "    <tr>\n",
       "      <th>14444</th>\n",
       "      <td>1.1326</td>\n",
       "      <td>42.0</td>\n",
       "      <td>4.890785</td>\n",
       "      <td>1.006826</td>\n",
       "      <td>775.0</td>\n",
       "      <td>2.645051</td>\n",
       "      <td>33.93</td>\n",
       "      <td>-118.26</td>\n",
       "      <td>1.04800</td>\n",
       "    </tr>\n",
       "    <tr>\n",
       "      <th>14445</th>\n",
       "      <td>2.6322</td>\n",
       "      <td>10.0</td>\n",
       "      <td>4.991614</td>\n",
       "      <td>0.951782</td>\n",
       "      <td>1323.0</td>\n",
       "      <td>2.773585</td>\n",
       "      <td>33.73</td>\n",
       "      <td>-117.16</td>\n",
       "      <td>1.40700</td>\n",
       "    </tr>\n",
       "    <tr>\n",
       "      <th>14446</th>\n",
       "      <td>2.3036</td>\n",
       "      <td>35.0</td>\n",
       "      <td>4.620513</td>\n",
       "      <td>1.176923</td>\n",
       "      <td>1009.0</td>\n",
       "      <td>2.587179</td>\n",
       "      <td>37.79</td>\n",
       "      <td>-122.20</td>\n",
       "      <td>1.26000</td>\n",
       "    </tr>\n",
       "  </tbody>\n",
       "</table>\n",
       "<p>14447 rows × 9 columns</p>\n",
       "</div>"
      ],
      "text/plain": [
       "       MedInc  HouseAge  AveRooms  AveBedrms  Population  AveOccup  Latitude  \\\n",
       "0      3.1779      41.0  4.394737   1.054825      1658.0  3.635965     33.80   \n",
       "1      2.5111      49.0  4.886792   0.964361      1290.0  2.704403     36.75   \n",
       "2      2.5405      15.0  6.444651   1.422326      2568.0  2.388837     34.06   \n",
       "3      4.5033       7.0  5.291789   1.101173      1739.0  2.549853     37.26   \n",
       "4      2.9196      33.0  4.824528   1.090566      1715.0  3.235849     34.09   \n",
       "...       ...       ...       ...        ...         ...       ...       ...   \n",
       "14442  1.7823      17.0  4.055046   1.087156      1079.0  2.474771     33.76   \n",
       "14443  8.5608      42.0  6.788462   1.011538       753.0  2.896154     34.42   \n",
       "14444  1.1326      42.0  4.890785   1.006826       775.0  2.645051     33.93   \n",
       "14445  2.6322      10.0  4.991614   0.951782      1323.0  2.773585     33.73   \n",
       "14446  2.3036      35.0  4.620513   1.176923      1009.0  2.587179     37.79   \n",
       "\n",
       "       Longitude   target  \n",
       "0        -118.26  1.71100  \n",
       "1        -119.75  0.55400  \n",
       "2        -116.56  0.69600  \n",
       "3        -121.83  2.13100  \n",
       "4        -118.08  2.08800  \n",
       "...          ...      ...  \n",
       "14442    -117.88  2.05300  \n",
       "14443    -119.63  5.00001  \n",
       "14444    -118.26  1.04800  \n",
       "14445    -117.16  1.40700  \n",
       "14446    -122.20  1.26000  \n",
       "\n",
       "[14447 rows x 9 columns]"
      ]
     },
     "execution_count": 58,
     "metadata": {},
     "output_type": "execute_result"
    }
   ],
   "source": [
    "df_train"
   ]
  },
  {
   "cell_type": "markdown",
   "id": "85bcceb8",
   "metadata": {},
   "source": [
    "※targetでsortする必要はない  \n",
    "sortはX1,X2それぞれでする必要がある（2パターンそれぞれのMSEを計算し最小を探す）"
   ]
  },
  {
   "cell_type": "code",
   "execution_count": 59,
   "id": "f4942255",
   "metadata": {},
   "outputs": [
    {
     "data": {
      "text/html": [
       "<div>\n",
       "<style scoped>\n",
       "    .dataframe tbody tr th:only-of-type {\n",
       "        vertical-align: middle;\n",
       "    }\n",
       "\n",
       "    .dataframe tbody tr th {\n",
       "        vertical-align: top;\n",
       "    }\n",
       "\n",
       "    .dataframe thead th {\n",
       "        text-align: right;\n",
       "    }\n",
       "</style>\n",
       "<table border=\"1\" class=\"dataframe\">\n",
       "  <thead>\n",
       "    <tr style=\"text-align: right;\">\n",
       "      <th></th>\n",
       "      <th>MedInc</th>\n",
       "      <th>HouseAge</th>\n",
       "    </tr>\n",
       "  </thead>\n",
       "  <tbody>\n",
       "    <tr>\n",
       "      <th>0</th>\n",
       "      <td>3.1779</td>\n",
       "      <td>41.0</td>\n",
       "    </tr>\n",
       "    <tr>\n",
       "      <th>1</th>\n",
       "      <td>2.5111</td>\n",
       "      <td>49.0</td>\n",
       "    </tr>\n",
       "    <tr>\n",
       "      <th>2</th>\n",
       "      <td>2.5405</td>\n",
       "      <td>15.0</td>\n",
       "    </tr>\n",
       "    <tr>\n",
       "      <th>3</th>\n",
       "      <td>4.5033</td>\n",
       "      <td>7.0</td>\n",
       "    </tr>\n",
       "    <tr>\n",
       "      <th>4</th>\n",
       "      <td>2.9196</td>\n",
       "      <td>33.0</td>\n",
       "    </tr>\n",
       "  </tbody>\n",
       "</table>\n",
       "</div>"
      ],
      "text/plain": [
       "   MedInc  HouseAge\n",
       "0  3.1779      41.0\n",
       "1  2.5111      49.0\n",
       "2  2.5405      15.0\n",
       "3  4.5033       7.0\n",
       "4  2.9196      33.0"
      ]
     },
     "metadata": {},
     "output_type": "display_data"
    },
    {
     "data": {
      "text/plain": [
       "0    1.711\n",
       "1    0.554\n",
       "2    0.696\n",
       "3    2.131\n",
       "4    2.088\n",
       "Name: target, dtype: float64"
      ]
     },
     "metadata": {},
     "output_type": "display_data"
    }
   ],
   "source": [
    "#x,yをそれぞれ作成\n",
    "train_dtr=df_train.loc[:4,['MedInc','HouseAge','target']]\n",
    "x_dtr=train_dtr.loc[:,['MedInc','HouseAge']]\n",
    "y_dtr=train_dtr['target']\n",
    "display(x_dtr)\n",
    "display(y_dtr)"
   ]
  },
  {
   "cell_type": "code",
   "execution_count": 60,
   "id": "3b0ec3b7",
   "metadata": {},
   "outputs": [
    {
     "data": {
      "text/html": [
       "<div>\n",
       "<style scoped>\n",
       "    .dataframe tbody tr th:only-of-type {\n",
       "        vertical-align: middle;\n",
       "    }\n",
       "\n",
       "    .dataframe tbody tr th {\n",
       "        vertical-align: top;\n",
       "    }\n",
       "\n",
       "    .dataframe thead th {\n",
       "        text-align: right;\n",
       "    }\n",
       "</style>\n",
       "<table border=\"1\" class=\"dataframe\">\n",
       "  <thead>\n",
       "    <tr style=\"text-align: right;\">\n",
       "      <th></th>\n",
       "      <th>MedInc</th>\n",
       "      <th>HouseAge</th>\n",
       "      <th>target</th>\n",
       "    </tr>\n",
       "  </thead>\n",
       "  <tbody>\n",
       "    <tr>\n",
       "      <th>1</th>\n",
       "      <td>2.5111</td>\n",
       "      <td>49.0</td>\n",
       "      <td>0.554</td>\n",
       "    </tr>\n",
       "    <tr>\n",
       "      <th>2</th>\n",
       "      <td>2.5405</td>\n",
       "      <td>15.0</td>\n",
       "      <td>0.696</td>\n",
       "    </tr>\n",
       "    <tr>\n",
       "      <th>4</th>\n",
       "      <td>2.9196</td>\n",
       "      <td>33.0</td>\n",
       "      <td>2.088</td>\n",
       "    </tr>\n",
       "    <tr>\n",
       "      <th>0</th>\n",
       "      <td>3.1779</td>\n",
       "      <td>41.0</td>\n",
       "      <td>1.711</td>\n",
       "    </tr>\n",
       "    <tr>\n",
       "      <th>3</th>\n",
       "      <td>4.5033</td>\n",
       "      <td>7.0</td>\n",
       "      <td>2.131</td>\n",
       "    </tr>\n",
       "  </tbody>\n",
       "</table>\n",
       "</div>"
      ],
      "text/plain": [
       "   MedInc  HouseAge  target\n",
       "1  2.5111      49.0   0.554\n",
       "2  2.5405      15.0   0.696\n",
       "4  2.9196      33.0   2.088\n",
       "0  3.1779      41.0   1.711\n",
       "3  4.5033       7.0   2.131"
      ]
     },
     "execution_count": 60,
     "metadata": {},
     "output_type": "execute_result"
    }
   ],
   "source": [
    "#MedIncでsort\n",
    "train_dtr_xM=df_train.loc[:4,['MedInc','HouseAge','target']].sort_values('MedInc')\n",
    "train_dtr_xM"
   ]
  },
  {
   "cell_type": "code",
   "execution_count": 61,
   "id": "92504e9f",
   "metadata": {},
   "outputs": [
    {
     "data": {
      "text/html": [
       "<div>\n",
       "<style scoped>\n",
       "    .dataframe tbody tr th:only-of-type {\n",
       "        vertical-align: middle;\n",
       "    }\n",
       "\n",
       "    .dataframe tbody tr th {\n",
       "        vertical-align: top;\n",
       "    }\n",
       "\n",
       "    .dataframe thead th {\n",
       "        text-align: right;\n",
       "    }\n",
       "</style>\n",
       "<table border=\"1\" class=\"dataframe\">\n",
       "  <thead>\n",
       "    <tr style=\"text-align: right;\">\n",
       "      <th></th>\n",
       "      <th>MedInc</th>\n",
       "      <th>HouseAge</th>\n",
       "      <th>target</th>\n",
       "    </tr>\n",
       "  </thead>\n",
       "  <tbody>\n",
       "    <tr>\n",
       "      <th>3</th>\n",
       "      <td>4.5033</td>\n",
       "      <td>7.0</td>\n",
       "      <td>2.131</td>\n",
       "    </tr>\n",
       "    <tr>\n",
       "      <th>2</th>\n",
       "      <td>2.5405</td>\n",
       "      <td>15.0</td>\n",
       "      <td>0.696</td>\n",
       "    </tr>\n",
       "    <tr>\n",
       "      <th>4</th>\n",
       "      <td>2.9196</td>\n",
       "      <td>33.0</td>\n",
       "      <td>2.088</td>\n",
       "    </tr>\n",
       "    <tr>\n",
       "      <th>0</th>\n",
       "      <td>3.1779</td>\n",
       "      <td>41.0</td>\n",
       "      <td>1.711</td>\n",
       "    </tr>\n",
       "    <tr>\n",
       "      <th>1</th>\n",
       "      <td>2.5111</td>\n",
       "      <td>49.0</td>\n",
       "      <td>0.554</td>\n",
       "    </tr>\n",
       "  </tbody>\n",
       "</table>\n",
       "</div>"
      ],
      "text/plain": [
       "   MedInc  HouseAge  target\n",
       "3  4.5033       7.0   2.131\n",
       "2  2.5405      15.0   0.696\n",
       "4  2.9196      33.0   2.088\n",
       "0  3.1779      41.0   1.711\n",
       "1  2.5111      49.0   0.554"
      ]
     },
     "execution_count": 61,
     "metadata": {},
     "output_type": "execute_result"
    }
   ],
   "source": [
    "#HouseAgeでsort\n",
    "train_dtr_xH = df_train.loc[:4,['MedInc','HouseAge','target']].sort_values('HouseAge')\n",
    "train_dtr_xH"
   ]
  },
  {
   "cell_type": "code",
   "execution_count": 62,
   "id": "27dea234",
   "metadata": {},
   "outputs": [
    {
     "data": {
      "text/plain": [
       "<matplotlib.colorbar.Colorbar at 0x1c8da4c39a0>"
      ]
     },
     "execution_count": 62,
     "metadata": {},
     "output_type": "execute_result"
    },
    {
     "data": {
      "image/png": "[encoded data removed]",
      "text/plain": [
       "<Figure size 432x288 with 2 Axes>"
      ]
     },
     "metadata": {
      "needs_background": "light"
     },
     "output_type": "display_data"
    }
   ],
   "source": [
    "plt.scatter(x_dtr['MedInc'], x_dtr['HouseAge'], c=y_dtr)\n",
    "plt.colorbar()"
   ]
  },
  {
   "cell_type": "code",
   "execution_count": 63,
   "id": "30b354b4",
   "metadata": {},
   "outputs": [
    {
     "data": {
      "text/plain": [
       "<AxesSubplot:xlabel='target', ylabel='Count'>"
      ]
     },
     "execution_count": 63,
     "metadata": {},
     "output_type": "execute_result"
    },
    {
     "data": {
      "image/png": "[encoded data removed]",
      "text/plain": [
       "<Figure size 432x288 with 1 Axes>"
      ]
     },
     "metadata": {
      "needs_background": "light"
     },
     "output_type": "display_data"
    }
   ],
   "source": [
    "sns.histplot(x=y_dtr, data=df_train)"
   ]
  },
  {
   "cell_type": "code",
   "execution_count": 64,
   "id": "d62ef8af",
   "metadata": {},
   "outputs": [
    {
     "data": {
      "text/plain": [
       "DecisionTreeRegressor()"
      ]
     },
     "execution_count": 64,
     "metadata": {},
     "output_type": "execute_result"
    }
   ],
   "source": [
    "#決定木回帰、引数なし\n",
    "dtr=DecisionTreeRegressor()\n",
    "dtr.fit(x_dtr, y_dtr)"
   ]
  },
  {
   "cell_type": "code",
   "execution_count": 65,
   "id": "fe1c3725",
   "metadata": {},
   "outputs": [
    {
     "data": {
      "image/png": "[encoded data removed]",
      "text/plain": [
       "<Figure size 432x288 with 1 Axes>"
      ]
     },
     "metadata": {
      "needs_background": "light"
     },
     "output_type": "display_data"
    }
   ],
   "source": [
    "plot_tree(dtr, filled=True)\n",
    "plt.show()"
   ]
  },
  {
   "cell_type": "code",
   "execution_count": 66,
   "id": "1ce2dd5a",
   "metadata": {},
   "outputs": [],
   "source": [
    "#listからMSEを算出する関数\n",
    "def mse(a,b):\n",
    "    m_left=np.mean(a)  #m_left:予測値\n",
    "    m_right=np.mean(b)  #m_right:予測値\n",
    "    left2=[]\n",
    "    for i in a:\n",
    "        left=np.mean(np.sum((i-m_left)**2))\n",
    "        left2.append(left)\n",
    "    right2=[]\n",
    "    for j in b:\n",
    "        right=np.mean(np.sum((j-m_right)**2))\n",
    "        right2.append(right)\n",
    "    return left2, np.mean(left2), right2, np.mean(right2), np.mean(left2)+ np.mean(right2)"
   ]
  },
  {
   "cell_type": "code",
   "execution_count": 67,
   "id": "9313676d",
   "metadata": {},
   "outputs": [
    {
     "name": "stderr",
     "output_type": "stream",
     "text": [
      "C:\\Users\\macch\\anaconda3\\lib\\site-packages\\numpy\\core\\fromnumeric.py:3419: RuntimeWarning: Mean of empty slice.\n",
      "  return _methods._mean(a, axis=axis, dtype=dtype,\n",
      "C:\\Users\\macch\\anaconda3\\lib\\site-packages\\numpy\\core\\_methods.py:188: RuntimeWarning: invalid value encountered in double_scalars\n",
      "  ret = ret.dtype.type(ret / rcount)\n"
     ]
    },
    {
     "data": {
      "text/plain": [
       "([0.7779239999999998,\n",
       "  0.5476,\n",
       "  0.42510400000000015,\n",
       "  0.07562500000000007,\n",
       "  0.48302499999999976],\n",
       " 0.4618555999999999,\n",
       " [],\n",
       " nan,\n",
       " nan)"
      ]
     },
     "execution_count": 67,
     "metadata": {},
     "output_type": "execute_result"
    }
   ],
   "source": [
    "#１番上のノードでのMSEの計算はxM,xHで場合分けする必要なし\n",
    "#予測値もyの平均\n",
    "a=[0.554,0.696,2.088,1.711,2.131]\n",
    "b=[]\n",
    "mse(a,b)"
   ]
  },
  {
   "cell_type": "code",
   "execution_count": 68,
   "id": "cbed3234",
   "metadata": {},
   "outputs": [
    {
     "data": {
      "text/plain": [
       "([0.03553224999999996, 0.03553225000000004],\n",
       " 0.03553225,\n",
       " [0.0],\n",
       " 0.0,\n",
       " 0.03553225)"
      ]
     },
     "execution_count": 68,
     "metadata": {},
     "output_type": "execute_result"
    }
   ],
   "source": [
    "#xM=x[0]でソートしたときのMSE\n",
    "a=[2.088,1.711]\n",
    "b=[2.131]\n",
    "mse(a,b)"
   ]
  },
  {
   "cell_type": "code",
   "execution_count": 69,
   "id": "3b4a344c",
   "metadata": {},
   "outputs": [
    {
     "data": {
      "text/plain": [
       "([0.0004622500000000032, 0.0004622499999999841],\n",
       " 0.00046224999999999364,\n",
       " [0.0],\n",
       " 0.0,\n",
       " 0.00046224999999999364)"
      ]
     },
     "execution_count": 69,
     "metadata": {},
     "output_type": "execute_result"
    }
   ],
   "source": [
    "#xH=x[1]でソートしたときのMSE\n",
    "a=[2.131,2.088]\n",
    "b=[1.711]\n",
    "mse(a,b)"
   ]
  },
  {
   "cell_type": "markdown",
   "id": "5b5cdadc",
   "metadata": {},
   "source": [
    "### 結果\n",
    "・多変量の場合はx[0],x[1]でsortして個別にyのMSEを計算する。  \n",
    "・全ての分割パターンでMSEを計算し、一番値が小さくなるものをそのノードでの分割パターンとする  \n",
    "・計算結果は一致した"
   ]
  },
  {
   "cell_type": "markdown",
   "id": "f7bf7915",
   "metadata": {},
   "source": [
    "#### 特徴量重要度"
   ]
  },
  {
   "cell_type": "code",
   "execution_count": 70,
   "id": "1c404b4a",
   "metadata": {},
   "outputs": [],
   "source": [
    "#x['MedInc']の重要度\n",
    "fi1=0.462*5-(0.005*2 + 0.036*3 + 0.005*2)"
   ]
  },
  {
   "cell_type": "code",
   "execution_count": 71,
   "id": "dc948898",
   "metadata": {},
   "outputs": [],
   "source": [
    "#x['HouseAge']の重要度\n",
    "fi2=0.036*3-(0.000462*2)"
   ]
  },
  {
   "cell_type": "code",
   "execution_count": 72,
   "id": "58983373",
   "metadata": {},
   "outputs": [
    {
     "data": {
      "text/plain": [
       "0.9532230472033256"
      ]
     },
     "execution_count": 72,
     "metadata": {},
     "output_type": "execute_result"
    }
   ],
   "source": [
    "#x['MedInc']の重要度\n",
    "fi1/(fi1+fi2)"
   ]
  },
  {
   "cell_type": "code",
   "execution_count": 73,
   "id": "25f89e67",
   "metadata": {},
   "outputs": [
    {
     "data": {
      "text/plain": [
       "0.046776952796674286"
      ]
     },
     "execution_count": 73,
     "metadata": {},
     "output_type": "execute_result"
    }
   ],
   "source": [
    "#x['HouseAge']の重要度\n",
    "fi2/(fi1+fi2)"
   ]
  },
  {
   "cell_type": "code",
   "execution_count": 74,
   "id": "b4a55554",
   "metadata": {},
   "outputs": [
    {
     "data": {
      "text/plain": [
       "array([0.95375495, 0.04624505])"
      ]
     },
     "execution_count": 74,
     "metadata": {},
     "output_type": "execute_result"
    }
   ],
   "source": [
    "#特徴量重要度\n",
    "dtr.feature_importances_"
   ]
  },
  {
   "cell_type": "markdown",
   "id": "8e68306f",
   "metadata": {},
   "source": [
    "#### 結果 : 計算結果は完全には一致しなかったがほとんど同じ"
   ]
  },
  {
   "cell_type": "markdown",
   "id": "64d4d8b4",
   "metadata": {},
   "source": [
    "## Q MedIncと住宅価格の相関係数は0.69ともともと高く、HouseAgeの相関係数は0.11と高くないが、相関係数が高い特徴量のほうが特徴量重要度も高くなる？偏相関係数？"
   ]
  },
  {
   "cell_type": "code",
   "execution_count": 75,
   "id": "99abe00c",
   "metadata": {},
   "outputs": [
    {
     "data": {
      "text/html": [
       "<div>\n",
       "<style scoped>\n",
       "    .dataframe tbody tr th:only-of-type {\n",
       "        vertical-align: middle;\n",
       "    }\n",
       "\n",
       "    .dataframe tbody tr th {\n",
       "        vertical-align: top;\n",
       "    }\n",
       "\n",
       "    .dataframe thead th {\n",
       "        text-align: right;\n",
       "    }\n",
       "</style>\n",
       "<table border=\"1\" class=\"dataframe\">\n",
       "  <thead>\n",
       "    <tr style=\"text-align: right;\">\n",
       "      <th></th>\n",
       "      <th>MedInc</th>\n",
       "      <th>HouseAge</th>\n",
       "      <th>AveRooms</th>\n",
       "      <th>AveBedrms</th>\n",
       "      <th>Population</th>\n",
       "      <th>AveOccup</th>\n",
       "      <th>Latitude</th>\n",
       "      <th>Longitude</th>\n",
       "      <th>target</th>\n",
       "    </tr>\n",
       "  </thead>\n",
       "  <tbody>\n",
       "    <tr>\n",
       "      <th>MedInc</th>\n",
       "      <td>1.000000</td>\n",
       "      <td>-0.123116</td>\n",
       "      <td>0.318783</td>\n",
       "      <td>-0.057660</td>\n",
       "      <td>0.007757</td>\n",
       "      <td>0.024782</td>\n",
       "      <td>-0.075872</td>\n",
       "      <td>-0.018906</td>\n",
       "      <td>0.689709</td>\n",
       "    </tr>\n",
       "    <tr>\n",
       "      <th>AveRooms</th>\n",
       "      <td>0.318783</td>\n",
       "      <td>-0.147396</td>\n",
       "      <td>1.000000</td>\n",
       "      <td>0.855762</td>\n",
       "      <td>-0.072663</td>\n",
       "      <td>-0.003754</td>\n",
       "      <td>0.107317</td>\n",
       "      <td>-0.030133</td>\n",
       "      <td>0.151725</td>\n",
       "    </tr>\n",
       "    <tr>\n",
       "      <th>HouseAge</th>\n",
       "      <td>-0.123116</td>\n",
       "      <td>1.000000</td>\n",
       "      <td>-0.147396</td>\n",
       "      <td>-0.071153</td>\n",
       "      <td>-0.294908</td>\n",
       "      <td>0.015650</td>\n",
       "      <td>0.014164</td>\n",
       "      <td>-0.111221</td>\n",
       "      <td>0.106343</td>\n",
       "    </tr>\n",
       "    <tr>\n",
       "      <th>AveOccup</th>\n",
       "      <td>0.024782</td>\n",
       "      <td>0.015650</td>\n",
       "      <td>-0.003754</td>\n",
       "      <td>-0.005119</td>\n",
       "      <td>0.078874</td>\n",
       "      <td>1.000000</td>\n",
       "      <td>0.006550</td>\n",
       "      <td>-0.000712</td>\n",
       "      <td>-0.021252</td>\n",
       "    </tr>\n",
       "    <tr>\n",
       "      <th>Population</th>\n",
       "      <td>0.007757</td>\n",
       "      <td>-0.294908</td>\n",
       "      <td>-0.072663</td>\n",
       "      <td>-0.065841</td>\n",
       "      <td>1.000000</td>\n",
       "      <td>0.078874</td>\n",
       "      <td>-0.109246</td>\n",
       "      <td>0.101457</td>\n",
       "      <td>-0.026394</td>\n",
       "    </tr>\n",
       "    <tr>\n",
       "      <th>AveBedrms</th>\n",
       "      <td>-0.057660</td>\n",
       "      <td>-0.071153</td>\n",
       "      <td>0.855762</td>\n",
       "      <td>1.000000</td>\n",
       "      <td>-0.065841</td>\n",
       "      <td>-0.005119</td>\n",
       "      <td>0.069543</td>\n",
       "      <td>0.010735</td>\n",
       "      <td>-0.040228</td>\n",
       "    </tr>\n",
       "    <tr>\n",
       "      <th>Longitude</th>\n",
       "      <td>-0.018906</td>\n",
       "      <td>-0.111221</td>\n",
       "      <td>-0.030133</td>\n",
       "      <td>0.010735</td>\n",
       "      <td>0.101457</td>\n",
       "      <td>-0.000712</td>\n",
       "      <td>-0.925159</td>\n",
       "      <td>1.000000</td>\n",
       "      <td>-0.052883</td>\n",
       "    </tr>\n",
       "    <tr>\n",
       "      <th>Latitude</th>\n",
       "      <td>-0.075872</td>\n",
       "      <td>0.014164</td>\n",
       "      <td>0.107317</td>\n",
       "      <td>0.069543</td>\n",
       "      <td>-0.109246</td>\n",
       "      <td>0.006550</td>\n",
       "      <td>1.000000</td>\n",
       "      <td>-0.925159</td>\n",
       "      <td>-0.137310</td>\n",
       "    </tr>\n",
       "  </tbody>\n",
       "</table>\n",
       "</div>"
      ],
      "text/plain": [
       "              MedInc  HouseAge  AveRooms  AveBedrms  Population  AveOccup  \\\n",
       "MedInc      1.000000 -0.123116  0.318783  -0.057660    0.007757  0.024782   \n",
       "AveRooms    0.318783 -0.147396  1.000000   0.855762   -0.072663 -0.003754   \n",
       "HouseAge   -0.123116  1.000000 -0.147396  -0.071153   -0.294908  0.015650   \n",
       "AveOccup    0.024782  0.015650 -0.003754  -0.005119    0.078874  1.000000   \n",
       "Population  0.007757 -0.294908 -0.072663  -0.065841    1.000000  0.078874   \n",
       "AveBedrms  -0.057660 -0.071153  0.855762   1.000000   -0.065841 -0.005119   \n",
       "Longitude  -0.018906 -0.111221 -0.030133   0.010735    0.101457 -0.000712   \n",
       "Latitude   -0.075872  0.014164  0.107317   0.069543   -0.109246  0.006550   \n",
       "\n",
       "            Latitude  Longitude    target  \n",
       "MedInc     -0.075872  -0.018906  0.689709  \n",
       "AveRooms    0.107317  -0.030133  0.151725  \n",
       "HouseAge    0.014164  -0.111221  0.106343  \n",
       "AveOccup    0.006550  -0.000712 -0.021252  \n",
       "Population -0.109246   0.101457 -0.026394  \n",
       "AveBedrms   0.069543   0.010735 -0.040228  \n",
       "Longitude  -0.925159   1.000000 -0.052883  \n",
       "Latitude    1.000000  -0.925159 -0.137310  "
      ]
     },
     "execution_count": 75,
     "metadata": {},
     "output_type": "execute_result"
    }
   ],
   "source": [
    "cor=df_train.corr()\n",
    "cor=cor.sort_values('target',ascending=False)\n",
    "cor=cor.drop('target', axis=0)\n",
    "cor"
   ]
  },
  {
   "cell_type": "code",
   "execution_count": 76,
   "id": "c76d1a06",
   "metadata": {},
   "outputs": [
    {
     "data": {
      "text/plain": [
       "DecisionTreeRegressor()"
      ]
     },
     "execution_count": 76,
     "metadata": {},
     "output_type": "execute_result"
    }
   ],
   "source": [
    "dtr_2=DecisionTreeRegressor()\n",
    "dtr_2.fit(df_train.loc[:,'MedInc':'Longitude'], df_train['target'])"
   ]
  },
  {
   "cell_type": "code",
   "execution_count": 77,
   "id": "a7fcb25c",
   "metadata": {},
   "outputs": [
    {
     "data": {
      "text/plain": [
       "array([0.51118907, 0.05092238, 0.02822501, 0.027072  , 0.02785829,\n",
       "       0.13988423, 0.1078395 , 0.10700951])"
      ]
     },
     "execution_count": 77,
     "metadata": {},
     "output_type": "execute_result"
    }
   ],
   "source": [
    "dtr_2.feature_importances_"
   ]
  },
  {
   "cell_type": "code",
   "execution_count": 78,
   "id": "b7f9bfbe",
   "metadata": {},
   "outputs": [
    {
     "data": {
      "image/png": "[encoded data removed]",
      "text/plain": [
       "<Figure size 1080x504 with 1 Axes>"
      ]
     },
     "metadata": {
      "needs_background": "light"
     },
     "output_type": "display_data"
    }
   ],
   "source": [
    "plt.figure(figsize=(15,7))\n",
    "plt.bar(range(8), dtr_2.feature_importances_, tick_label=df_train.loc[:,'MedInc':'Longitude'].columns)\n",
    "plt.show()"
   ]
  },
  {
   "cell_type": "markdown",
   "id": "950cf5f6",
   "metadata": {},
   "source": [
    "### AveOccupの相関係数は-0.021(最小値)に対して特徴量重要度は0.141(2番目)なのはなぜ？"
   ]
  },
  {
   "cell_type": "markdown",
   "id": "c6f9810b",
   "metadata": {},
   "source": [
    "\n",
    "    \n",
    "      "
   ]
  },
  {
   "cell_type": "markdown",
   "id": "602c8d30",
   "metadata": {},
   "source": [
    "  "
   ]
  },
  {
   "cell_type": "markdown",
   "id": "01dae73b",
   "metadata": {},
   "source": [
    "### LongitudeとLatitudeが負の相関（ρ＝-0.93）だったのでどちらか片一方を排除して線形回帰  \n",
    "評価指標はRMSE  \n",
    "10分割交差検証"
   ]
  },
  {
   "cell_type": "code",
   "execution_count": 79,
   "id": "2144b07b",
   "metadata": {},
   "outputs": [],
   "source": [
    "#Longitudeを削除して新しいdf2を作成\n",
    "df2_lati = df2.drop(['Longitude','target'], axis=1)"
   ]
  },
  {
   "cell_type": "code",
   "execution_count": 80,
   "id": "8242999a",
   "metadata": {},
   "outputs": [],
   "source": [
    "#標準化\n",
    "ss3=StandardScaler()\n",
    "df2_lati_std = ss3.fit_transform(df2_lati)"
   ]
  },
  {
   "cell_type": "code",
   "execution_count": 81,
   "id": "61d6981c",
   "metadata": {},
   "outputs": [
    {
     "name": "stdout",
     "output_type": "stream",
     "text": [
      "RMSE_Longitudeを削除 0.7834347496811289\n"
     ]
    }
   ],
   "source": [
    "LR5=LinearRegression()\n",
    "scores2=cross_val_score(LR5, df2_lati_std, df2['target'], scoring='neg_mean_squared_error', cv=10)\n",
    "print('RMSE_Longitudeを削除',np.mean(np.sqrt(-scores2)))"
   ]
  },
  {
   "cell_type": "markdown",
   "id": "a2909626",
   "metadata": {},
   "source": [
    "　　　　"
   ]
  },
  {
   "cell_type": "markdown",
   "id": "9d5c87b8",
   "metadata": {},
   "source": [
    "#### 全特徴量はそのままでクロスバリデーション"
   ]
  },
  {
   "cell_type": "code",
   "execution_count": 82,
   "id": "2d691988",
   "metadata": {},
   "outputs": [
    {
     "data": {
      "text/plain": [
       "(20640, 8)"
      ]
     },
     "execution_count": 82,
     "metadata": {},
     "output_type": "execute_result"
    }
   ],
   "source": [
    "ss=StandardScaler()\n",
    "df2_std = ss.fit_transform(df2.drop('target', axis=1))\n",
    "df2_std.shape"
   ]
  },
  {
   "cell_type": "code",
   "execution_count": 83,
   "id": "fd99435a",
   "metadata": {},
   "outputs": [
    {
     "name": "stdout",
     "output_type": "stream",
     "text": [
      "Wall time: 152 ms\n"
     ]
    },
    {
     "data": {
      "text/plain": [
       "0.726980512661084"
      ]
     },
     "execution_count": 83,
     "metadata": {},
     "output_type": "execute_result"
    }
   ],
   "source": [
    "%%time\n",
    "LR6=LinearRegression()\n",
    "scores3=cross_val_score(LR6, df2_std, df2['target'], scoring='neg_mean_squared_error', cv=10)\n",
    "np.mean(np.sqrt(-scores3))"
   ]
  },
  {
   "cell_type": "markdown",
   "id": "f9e3526d",
   "metadata": {},
   "source": [
    "　　　　"
   ]
  },
  {
   "cell_type": "code",
   "execution_count": 84,
   "id": "952ed18b",
   "metadata": {},
   "outputs": [
    {
     "data": {
      "text/html": [
       "<div>\n",
       "<style scoped>\n",
       "    .dataframe tbody tr th:only-of-type {\n",
       "        vertical-align: middle;\n",
       "    }\n",
       "\n",
       "    .dataframe tbody tr th {\n",
       "        vertical-align: top;\n",
       "    }\n",
       "\n",
       "    .dataframe thead th {\n",
       "        text-align: right;\n",
       "    }\n",
       "</style>\n",
       "<table border=\"1\" class=\"dataframe\">\n",
       "  <thead>\n",
       "    <tr style=\"text-align: right;\">\n",
       "      <th></th>\n",
       "      <th>MedInc</th>\n",
       "      <th>HouseAge</th>\n",
       "      <th>AveRooms</th>\n",
       "      <th>AveBedrms</th>\n",
       "      <th>Population</th>\n",
       "      <th>AveOccup</th>\n",
       "      <th>Longitude</th>\n",
       "    </tr>\n",
       "  </thead>\n",
       "  <tbody>\n",
       "    <tr>\n",
       "      <th>0</th>\n",
       "      <td>2.1797</td>\n",
       "      <td>26.0</td>\n",
       "      <td>5.617284</td>\n",
       "      <td>1.154321</td>\n",
       "      <td>1001.0</td>\n",
       "      <td>3.089506</td>\n",
       "      <td>-116.68</td>\n",
       "    </tr>\n",
       "    <tr>\n",
       "      <th>1</th>\n",
       "      <td>4.5461</td>\n",
       "      <td>16.0</td>\n",
       "      <td>7.723288</td>\n",
       "      <td>1.312329</td>\n",
       "      <td>1068.0</td>\n",
       "      <td>2.926027</td>\n",
       "      <td>-120.30</td>\n",
       "    </tr>\n",
       "    <tr>\n",
       "      <th>2</th>\n",
       "      <td>3.6587</td>\n",
       "      <td>32.0</td>\n",
       "      <td>5.524038</td>\n",
       "      <td>0.899038</td>\n",
       "      <td>499.0</td>\n",
       "      <td>2.399038</td>\n",
       "      <td>-123.22</td>\n",
       "    </tr>\n",
       "    <tr>\n",
       "      <th>3</th>\n",
       "      <td>4.8583</td>\n",
       "      <td>28.0</td>\n",
       "      <td>5.983333</td>\n",
       "      <td>0.970370</td>\n",
       "      <td>1665.0</td>\n",
       "      <td>3.083333</td>\n",
       "      <td>-119.19</td>\n",
       "    </tr>\n",
       "    <tr>\n",
       "      <th>4</th>\n",
       "      <td>3.6591</td>\n",
       "      <td>36.0</td>\n",
       "      <td>5.207739</td>\n",
       "      <td>1.099796</td>\n",
       "      <td>1556.0</td>\n",
       "      <td>3.169043</td>\n",
       "      <td>-118.40</td>\n",
       "    </tr>\n",
       "    <tr>\n",
       "      <th>...</th>\n",
       "      <td>...</td>\n",
       "      <td>...</td>\n",
       "      <td>...</td>\n",
       "      <td>...</td>\n",
       "      <td>...</td>\n",
       "      <td>...</td>\n",
       "      <td>...</td>\n",
       "    </tr>\n",
       "    <tr>\n",
       "      <th>20635</th>\n",
       "      <td>3.0729</td>\n",
       "      <td>37.0</td>\n",
       "      <td>5.396491</td>\n",
       "      <td>1.045614</td>\n",
       "      <td>867.0</td>\n",
       "      <td>3.042105</td>\n",
       "      <td>-117.09</td>\n",
       "    </tr>\n",
       "    <tr>\n",
       "      <th>20636</th>\n",
       "      <td>3.2750</td>\n",
       "      <td>39.0</td>\n",
       "      <td>5.176056</td>\n",
       "      <td>1.098592</td>\n",
       "      <td>1047.0</td>\n",
       "      <td>3.686620</td>\n",
       "      <td>-118.35</td>\n",
       "    </tr>\n",
       "    <tr>\n",
       "      <th>20637</th>\n",
       "      <td>2.9402</td>\n",
       "      <td>33.0</td>\n",
       "      <td>5.550617</td>\n",
       "      <td>1.071605</td>\n",
       "      <td>1461.0</td>\n",
       "      <td>3.607407</td>\n",
       "      <td>-118.99</td>\n",
       "    </tr>\n",
       "    <tr>\n",
       "      <th>20638</th>\n",
       "      <td>5.1878</td>\n",
       "      <td>10.0</td>\n",
       "      <td>6.799043</td>\n",
       "      <td>0.976077</td>\n",
       "      <td>657.0</td>\n",
       "      <td>3.143541</td>\n",
       "      <td>-121.33</td>\n",
       "    </tr>\n",
       "    <tr>\n",
       "      <th>20639</th>\n",
       "      <td>2.4333</td>\n",
       "      <td>38.0</td>\n",
       "      <td>4.983051</td>\n",
       "      <td>1.121469</td>\n",
       "      <td>987.0</td>\n",
       "      <td>2.788136</td>\n",
       "      <td>-122.17</td>\n",
       "    </tr>\n",
       "  </tbody>\n",
       "</table>\n",
       "<p>20640 rows × 7 columns</p>\n",
       "</div>"
      ],
      "text/plain": [
       "       MedInc  HouseAge  AveRooms  AveBedrms  Population  AveOccup  Longitude\n",
       "0      2.1797      26.0  5.617284   1.154321      1001.0  3.089506    -116.68\n",
       "1      4.5461      16.0  7.723288   1.312329      1068.0  2.926027    -120.30\n",
       "2      3.6587      32.0  5.524038   0.899038       499.0  2.399038    -123.22\n",
       "3      4.8583      28.0  5.983333   0.970370      1665.0  3.083333    -119.19\n",
       "4      3.6591      36.0  5.207739   1.099796      1556.0  3.169043    -118.40\n",
       "...       ...       ...       ...        ...         ...       ...        ...\n",
       "20635  3.0729      37.0  5.396491   1.045614       867.0  3.042105    -117.09\n",
       "20636  3.2750      39.0  5.176056   1.098592      1047.0  3.686620    -118.35\n",
       "20637  2.9402      33.0  5.550617   1.071605      1461.0  3.607407    -118.99\n",
       "20638  5.1878      10.0  6.799043   0.976077       657.0  3.143541    -121.33\n",
       "20639  2.4333      38.0  4.983051   1.121469       987.0  2.788136    -122.17\n",
       "\n",
       "[20640 rows x 7 columns]"
      ]
     },
     "execution_count": 84,
     "metadata": {},
     "output_type": "execute_result"
    }
   ],
   "source": [
    "#Latitudeを削除して新しいdf2を作成\n",
    "df2_long = df2.drop(['Latitude','target'],  axis=1)\n",
    "df2_long"
   ]
  },
  {
   "cell_type": "code",
   "execution_count": 85,
   "id": "c04cb964",
   "metadata": {},
   "outputs": [],
   "source": [
    "ss4=StandardScaler()\n",
    "df2_long_std = ss4.fit_transform(df2_long)"
   ]
  },
  {
   "cell_type": "code",
   "execution_count": 86,
   "id": "1bbcc556",
   "metadata": {},
   "outputs": [
    {
     "name": "stdout",
     "output_type": "stream",
     "text": [
      "RMSE_Latitudeを削除 0.7852698301261432\n",
      "Wall time: 158 ms\n"
     ]
    }
   ],
   "source": [
    "%%time\n",
    "LR7=LinearRegression()\n",
    "scores4=cross_val_score(LR7, df2_long_std, df2['target'], scoring='neg_mean_squared_error', cv=10)\n",
    "print('RMSE_Latitudeを削除',np.mean(np.sqrt(-scores4)))"
   ]
  },
  {
   "cell_type": "markdown",
   "id": "336f722e",
   "metadata": {},
   "source": [
    "### 結果\n",
    "特徴量はそのままの時のRMSE：0.726980512661084  \n",
    "Longitudeを削除： 0.7834347496811289  \n",
    "Latitudeを削除 ：0.7852698301261432  \n",
    "⇒相関が高い２変数のうちどちらか一方を減らしてもRMSEが改善するわけではなさそう"
   ]
  },
  {
   "cell_type": "code",
   "execution_count": 87,
   "id": "2bb9f0d7",
   "metadata": {},
   "outputs": [],
   "source": []
  }
 ],
 "metadata": {
  "kernelspec": {
   "display_name": "Python 3 (ipykernel)",
   "language": "python",
   "name": "python3"
  },
  "language_info": {
   "codemirror_mode": {
    "name": "ipython",
    "version": 3
   },
   "file_extension": ".py",
   "mimetype": "text/x-python",
   "name": "python",
   "nbconvert_exporter": "python",
   "pygments_lexer": "ipython3",
   "version": "3.9.7"
  }
 },
 "nbformat": 4,
 "nbformat_minor": 5
}
