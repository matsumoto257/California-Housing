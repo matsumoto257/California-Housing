{
 "cells": [
  {
   "cell_type": "markdown",
   "id": "c94b3691",
   "metadata": {},
   "source": [
    "## RandomForest"
   ]
  },
  {
   "cell_type": "code",
   "execution_count": 18,
   "id": "36a0fb48",
   "metadata": {},
   "outputs": [],
   "source": [
    "import sklearn.datasets\n",
    "import pandas as pd\n",
    "import numpy as np\n",
    "from sklearn.model_selection import train_test_split\n",
    "import matplotlib.pyplot as plt\n",
    "from sklearn.metrics import r2_score\n",
    "from sklearn.metrics import mean_absolute_error\n",
    "from sklearn.metrics import mean_squared_error\n",
    "from sklearn.model_selection import cross_val_score\n",
    "from sklearn.tree import plot_tree\n",
    "from sklearn.model_selection import GridSearchCV\n",
    "from sklearn.ensemble import RandomForestRegressor\n",
    "from sklearn.model_selection import RandomizedSearchCV"
   ]
  },
  {
   "cell_type": "code",
   "execution_count": 3,
   "id": "7ad0678d",
   "metadata": {},
   "outputs": [],
   "source": [
    "data=sklearn.datasets.fetch_california_housing()\n",
    "feature=data.data\n",
    "target=data.target"
   ]
  },
  {
   "cell_type": "code",
   "execution_count": 4,
   "id": "927f1185",
   "metadata": {},
   "outputs": [],
   "source": [
    "x_train, x_test, y_train, y_test = train_test_split(feature, target, train_size=0.7, shuffle=True, random_state=0)"
   ]
  },
  {
   "cell_type": "code",
   "execution_count": 5,
   "id": "5d04a352",
   "metadata": {},
   "outputs": [],
   "source": [
    "df_train=pd.DataFrame(x_train, columns=data.feature_names)\n",
    "df_train['target']=y_train\n",
    "df_test=pd.DataFrame(x_test, columns=data.feature_names)\n",
    "df_test['target']=y_test"
   ]
  },
  {
   "cell_type": "markdown",
   "id": "4f1694f9",
   "metadata": {},
   "source": [
    "### ランダムフォレストで回帰（グリッドサーチなし）"
   ]
  },
  {
   "cell_type": "code",
   "execution_count": 6,
   "id": "de4359b5",
   "metadata": {},
   "outputs": [
    {
     "data": {
      "text/plain": [
       "RandomForestRegressor(random_state=1)"
      ]
     },
     "execution_count": 6,
     "metadata": {},
     "output_type": "execute_result"
    }
   ],
   "source": [
    "rfr=RandomForestRegressor(random_state=1)\n",
    "rfr.fit(x_train, y_train)"
   ]
  },
  {
   "cell_type": "code",
   "execution_count": 7,
   "id": "96545621",
   "metadata": {},
   "outputs": [],
   "source": [
    "test_pred=rfr.predict(x_test)"
   ]
  },
  {
   "cell_type": "code",
   "execution_count": 8,
   "id": "88d0d8f9",
   "metadata": {},
   "outputs": [
    {
     "name": "stdout",
     "output_type": "stream",
     "text": [
      "RMSE_Test_notpara 0.5247389266794545\n"
     ]
    }
   ],
   "source": [
    "print('RMSE_Test_notpara', mean_squared_error(y_test, test_pred, squared=False))"
   ]
  },
  {
   "cell_type": "markdown",
   "id": "1440242c",
   "metadata": {},
   "source": [
    "グリッドサーチなし状態でもRMSEは結構高い"
   ]
  },
  {
   "cell_type": "markdown",
   "id": "204f325d",
   "metadata": {},
   "source": [
    "### ランダムフォレスト（グリッドサーチによるハイパラ探索）  \n",
    "https://di-acc2.com/programming/python/8465/  \n",
    "parameters = {  \n",
    "    'n_estimators': [10, 20, 30, 50, 100, 300],     # 用意する決定木モデルの数  \n",
    "    'max_features': ('sqrt', 'log2','auto', None),  # ランダムに指定する特徴量の数  \n",
    "    'max_depth':    (10, 20, 30, 40, 50, None),     # 決定木のノード深さの制限値  \n",
    "}"
   ]
  },
  {
   "cell_type": "code",
   "execution_count": 9,
   "id": "759da0b7",
   "metadata": {
    "scrolled": true
   },
   "outputs": [
    {
     "data": {
      "text/plain": [
       "GridSearchCV(cv=5, estimator=RandomForestRegressor(random_state=1),\n",
       "             param_grid={'max_depth': (50, None),\n",
       "                         'max_features': ('log2', None),\n",
       "                         'n_estimators': [100, 150]})"
      ]
     },
     "execution_count": 9,
     "metadata": {},
     "output_type": "execute_result"
    }
   ],
   "source": [
    "param={'n_estimators':[100, 150],\n",
    "       'max_features': ('log2', None),  #'auto'はいらない\n",
    "       'max_depth':    (50, None)}\n",
    "\n",
    "grid_search=GridSearchCV(RandomForestRegressor(random_state=1), param_grid=param, cv=5)\n",
    "grid_search.fit(x_train, y_train)"
   ]
  },
  {
   "cell_type": "code",
   "execution_count": 10,
   "id": "edd71206",
   "metadata": {},
   "outputs": [
    {
     "data": {
      "text/plain": [
       "{'max_depth': 50, 'max_features': 'log2', 'n_estimators': 150}"
      ]
     },
     "execution_count": 10,
     "metadata": {},
     "output_type": "execute_result"
    }
   ],
   "source": [
    "grid_search.best_params_"
   ]
  },
  {
   "cell_type": "markdown",
   "id": "c66ac9ee",
   "metadata": {},
   "source": [
    "現状これがベスト\n",
    "{'max_depth': 50, 'max_features': 'log2', 'n_estimators': 150}\n"
   ]
  },
  {
   "cell_type": "code",
   "execution_count": 17,
   "id": "a5eec1a9",
   "metadata": {},
   "outputs": [
    {
     "name": "stdout",
     "output_type": "stream",
     "text": [
      "RMSE_Test_para 0.4943376233182124\n"
     ]
    }
   ],
   "source": [
    "pred_test_grid=grid_search.predict(x_test)\n",
    "print('RMSE_Test_para', mean_squared_error(y_test, pred_test_grid, squared=False))"
   ]
  },
  {
   "cell_type": "markdown",
   "id": "37640489",
   "metadata": {},
   "source": [
    "#### グリッドサーチが長いのでランダムサーチで探索してみる  \n",
    "https://free.kikagaku.ai/tutorial/basic_of_machine_learning/learn/machine_learning_hyperparameters  \n",
    "https://ailog.site/2022/01/12/2022/0112/"
   ]
  },
  {
   "cell_type": "code",
   "execution_count": 56,
   "id": "edec9dbd",
   "metadata": {},
   "outputs": [],
   "source": [
    "#評価指標はRMSE\n",
    "scoring = 'neg_root_mean_squared_error'\n",
    "#探索するパラメータをここで辞書型で定義しておく\n",
    "#こいつは長い\n",
    "param2={'n_estimators':[150, 160, 170, 180, 190],\n",
    "       'max_features': ('log2', None),  #'auto'はいらない\n",
    "       'max_depth':    (50, None)}\n",
    "#こいつはそこそこ長い\n",
    "param3={'n_estimators':[150, 160, 170, 180, 190]}\n",
    "\n",
    "param4={'n_estimators':[190,200]}"
   ]
  },
  {
   "cell_type": "code",
   "execution_count": 55,
   "id": "66b8178a",
   "metadata": {},
   "outputs": [
    {
     "data": {
      "text/plain": [
       "RandomizedSearchCV(cv=5,\n",
       "                   estimator=RandomForestRegressor(max_depth=50,\n",
       "                                                   max_features='log2',\n",
       "                                                   random_state=1),\n",
       "                   n_iter=2, param_distributions={'n_estimators': [190, 200]},\n",
       "                   random_state=1, scoring='neg_root_mean_squared_error')"
      ]
     },
     "execution_count": 55,
     "metadata": {},
     "output_type": "execute_result"
    }
   ],
   "source": [
    "rscv=RandomizedSearchCV(RandomForestRegressor(max_features='log2', max_depth=50, random_state=1), \n",
    "                        param_distributions=param4, cv=5, scoring=scoring,\n",
    "                        n_iter=2, random_state=1)\n",
    "rscv.fit(x_train, y_train)"
   ]
  },
  {
   "cell_type": "code",
   "execution_count": 57,
   "id": "6ab9879c",
   "metadata": {},
   "outputs": [
    {
     "data": {
      "text/plain": [
       "{'n_estimators': 190}"
      ]
     },
     "execution_count": 57,
     "metadata": {},
     "output_type": "execute_result"
    }
   ],
   "source": [
    "rscv.best_params_"
   ]
  },
  {
   "cell_type": "markdown",
   "id": "fbe0d3a5",
   "metadata": {},
   "source": [
    "'n_estimators': 190がだいたい最適の可能性が高い"
   ]
  },
  {
   "cell_type": "code",
   "execution_count": 58,
   "id": "0cfe70a3",
   "metadata": {},
   "outputs": [
    {
     "data": {
      "text/plain": [
       "-0.4953312603280091"
      ]
     },
     "execution_count": 58,
     "metadata": {},
     "output_type": "execute_result"
    }
   ],
   "source": [
    "rscv.best_score_"
   ]
  },
  {
   "cell_type": "code",
   "execution_count": 59,
   "id": "55dbfd7f",
   "metadata": {},
   "outputs": [],
   "source": [
    "#ランダムサーチで求めたハイパーパラメータで学習、testデータを予測\n",
    "rfr_randomsearch=rscv.best_estimator_.fit(x_train, y_train)\n",
    "test_pred_ramdom=rfr_randomsearch.predict(x_test)"
   ]
  },
  {
   "cell_type": "code",
   "execution_count": 60,
   "id": "3fa6ab47",
   "metadata": {},
   "outputs": [
    {
     "name": "stdout",
     "output_type": "stream",
     "text": [
      "RMSE_Test_randomsearch 0.4943454487059083\n"
     ]
    }
   ],
   "source": [
    "print('RMSE_Test_randomsearch', mean_squared_error(y_test, test_pred_ramdom, squared=False))"
   ]
  },
  {
   "cell_type": "markdown",
   "id": "1040afe4",
   "metadata": {},
   "source": [
    "### 特徴量重要度を算出(グリッドサーチ)"
   ]
  },
  {
   "cell_type": "code",
   "execution_count": 47,
   "id": "4ed14563",
   "metadata": {},
   "outputs": [],
   "source": [
    "#best_estimator_に改めてtrainをfit\n",
    "rfr_gridsearch=grid_search.best_estimator_.fit(x_train, y_train)"
   ]
  },
  {
   "cell_type": "code",
   "execution_count": 48,
   "id": "ace39a4f",
   "metadata": {},
   "outputs": [
    {
     "data": {
      "text/plain": [
       "array([0.39372189, 0.05423957, 0.10675807, 0.03875188, 0.03059975,\n",
       "       0.12277775, 0.12952607, 0.12362503])"
      ]
     },
     "execution_count": 48,
     "metadata": {},
     "output_type": "execute_result"
    }
   ],
   "source": [
    "rfr_best.feature_importances_"
   ]
  },
  {
   "cell_type": "code",
   "execution_count": 49,
   "id": "1b96cc8b",
   "metadata": {},
   "outputs": [
    {
     "data": {
      "image/png": "[encoded data removed]",
      "text/plain": [
       "<Figure size 1080x504 with 1 Axes>"
      ]
     },
     "metadata": {
      "needs_background": "light"
     },
     "output_type": "display_data"
    }
   ],
   "source": [
    "plt.figure(figsize=(15,7))\n",
    "plt.barh(range(8), rfr_best.feature_importances_, tick_label=df_train.loc[:,'MedInc':'Longitude'].columns)\n",
    "plt.show()"
   ]
  }
 ],
 "metadata": {
  "kernelspec": {
   "display_name": "Python 3 (ipykernel)",
   "language": "python",
   "name": "python3"
  },
  "language_info": {
   "codemirror_mode": {
    "name": "ipython",
    "version": 3
   },
   "file_extension": ".py",
   "mimetype": "text/x-python",
   "name": "python",
   "nbconvert_exporter": "python",
   "pygments_lexer": "ipython3",
   "version": "3.9.7"
  }
 },
 "nbformat": 4,
 "nbformat_minor": 5
}
