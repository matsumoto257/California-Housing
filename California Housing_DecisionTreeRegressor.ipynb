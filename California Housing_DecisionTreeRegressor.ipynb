{
 "cells": [
  {
   "cell_type": "markdown",
   "id": "0e9e5442",
   "metadata": {},
   "source": [
    "## 決定木回帰"
   ]
  },
  {
   "cell_type": "markdown",
   "id": "7a219315",
   "metadata": {},
   "source": [
    "・ (MedInc)median income in block-収入の中央値  \n",
    "・(HouseAge)median house age in block-ブロック内の家の中央年齢  \n",
    "・(AveRooms)average number of rooms-平均部屋数  \n",
    "・(AveBedrms)average number of bedrooms-ベッドルームの平均数  \n",
    "・(Population)block population-ブロック人口  \n",
    "・(AveOccup)average house occupancy-平均住宅占有率  \n",
    "・(Latitude)house block latitude-ハウスブロックの緯度  \n",
    "・(Longitude)house block longitude-ハウスブロックの経度  \n",
    "・MedHouseVal（median house value）：「住宅価格」（100,000ドル＝10万ドル単位）の中央値。通常はこの数値が目的変数として使われる"
   ]
  },
  {
   "cell_type": "code",
   "execution_count": 1,
   "id": "5f144fb5",
   "metadata": {},
   "outputs": [],
   "source": [
    "import sklearn.datasets\n",
    "import pandas as pd\n",
    "import numpy as np\n",
    "from sklearn.model_selection import train_test_split\n",
    "import matplotlib.pyplot as plt\n",
    "from sklearn.metrics import r2_score\n",
    "from sklearn.metrics import mean_absolute_error\n",
    "from sklearn.metrics import mean_squared_error\n",
    "from sklearn.tree import DecisionTreeRegressor\n",
    "from sklearn.model_selection import cross_val_score\n",
    "from sklearn.tree import plot_tree\n",
    "from sklearn.model_selection import GridSearchCV"
   ]
  },
  {
   "cell_type": "code",
   "execution_count": 2,
   "id": "6283c8fb",
   "metadata": {},
   "outputs": [],
   "source": [
    "data=sklearn.datasets.fetch_california_housing()\n",
    "feature=data.data\n",
    "target=data.target"
   ]
  },
  {
   "cell_type": "code",
   "execution_count": 3,
   "id": "8fb12c55",
   "metadata": {},
   "outputs": [
    {
     "data": {
      "text/html": [
       "<div>\n",
       "<style scoped>\n",
       "    .dataframe tbody tr th:only-of-type {\n",
       "        vertical-align: middle;\n",
       "    }\n",
       "\n",
       "    .dataframe tbody tr th {\n",
       "        vertical-align: top;\n",
       "    }\n",
       "\n",
       "    .dataframe thead th {\n",
       "        text-align: right;\n",
       "    }\n",
       "</style>\n",
       "<table border=\"1\" class=\"dataframe\">\n",
       "  <thead>\n",
       "    <tr style=\"text-align: right;\">\n",
       "      <th></th>\n",
       "      <th>MedInc</th>\n",
       "      <th>HouseAge</th>\n",
       "      <th>AveRooms</th>\n",
       "      <th>AveBedrms</th>\n",
       "      <th>Population</th>\n",
       "      <th>AveOccup</th>\n",
       "      <th>Latitude</th>\n",
       "      <th>Longitude</th>\n",
       "      <th>target</th>\n",
       "    </tr>\n",
       "  </thead>\n",
       "  <tbody>\n",
       "    <tr>\n",
       "      <th>0</th>\n",
       "      <td>3.2500</td>\n",
       "      <td>39.0</td>\n",
       "      <td>4.503205</td>\n",
       "      <td>1.073718</td>\n",
       "      <td>1109.0</td>\n",
       "      <td>1.777244</td>\n",
       "      <td>34.06</td>\n",
       "      <td>-118.36</td>\n",
       "      <td>3.55000</td>\n",
       "    </tr>\n",
       "    <tr>\n",
       "      <th>1</th>\n",
       "      <td>1.9784</td>\n",
       "      <td>37.0</td>\n",
       "      <td>4.988584</td>\n",
       "      <td>1.038813</td>\n",
       "      <td>1143.0</td>\n",
       "      <td>2.609589</td>\n",
       "      <td>36.78</td>\n",
       "      <td>-119.78</td>\n",
       "      <td>0.70700</td>\n",
       "    </tr>\n",
       "    <tr>\n",
       "      <th>2</th>\n",
       "      <td>4.0132</td>\n",
       "      <td>46.0</td>\n",
       "      <td>4.480296</td>\n",
       "      <td>1.012315</td>\n",
       "      <td>1534.0</td>\n",
       "      <td>3.778325</td>\n",
       "      <td>37.73</td>\n",
       "      <td>-122.42</td>\n",
       "      <td>2.29400</td>\n",
       "    </tr>\n",
       "    <tr>\n",
       "      <th>3</th>\n",
       "      <td>1.5208</td>\n",
       "      <td>52.0</td>\n",
       "      <td>3.908046</td>\n",
       "      <td>1.114943</td>\n",
       "      <td>200.0</td>\n",
       "      <td>2.298851</td>\n",
       "      <td>37.81</td>\n",
       "      <td>-122.28</td>\n",
       "      <td>1.12500</td>\n",
       "    </tr>\n",
       "    <tr>\n",
       "      <th>4</th>\n",
       "      <td>5.1795</td>\n",
       "      <td>37.0</td>\n",
       "      <td>5.406360</td>\n",
       "      <td>1.024735</td>\n",
       "      <td>711.0</td>\n",
       "      <td>2.512367</td>\n",
       "      <td>33.82</td>\n",
       "      <td>-118.13</td>\n",
       "      <td>2.25400</td>\n",
       "    </tr>\n",
       "    <tr>\n",
       "      <th>...</th>\n",
       "      <td>...</td>\n",
       "      <td>...</td>\n",
       "      <td>...</td>\n",
       "      <td>...</td>\n",
       "      <td>...</td>\n",
       "      <td>...</td>\n",
       "      <td>...</td>\n",
       "      <td>...</td>\n",
       "      <td>...</td>\n",
       "    </tr>\n",
       "    <tr>\n",
       "      <th>20635</th>\n",
       "      <td>1.7823</td>\n",
       "      <td>17.0</td>\n",
       "      <td>4.055046</td>\n",
       "      <td>1.087156</td>\n",
       "      <td>1079.0</td>\n",
       "      <td>2.474771</td>\n",
       "      <td>33.76</td>\n",
       "      <td>-117.88</td>\n",
       "      <td>2.05300</td>\n",
       "    </tr>\n",
       "    <tr>\n",
       "      <th>20636</th>\n",
       "      <td>8.5608</td>\n",
       "      <td>42.0</td>\n",
       "      <td>6.788462</td>\n",
       "      <td>1.011538</td>\n",
       "      <td>753.0</td>\n",
       "      <td>2.896154</td>\n",
       "      <td>34.42</td>\n",
       "      <td>-119.63</td>\n",
       "      <td>5.00001</td>\n",
       "    </tr>\n",
       "    <tr>\n",
       "      <th>20637</th>\n",
       "      <td>1.1326</td>\n",
       "      <td>42.0</td>\n",
       "      <td>4.890785</td>\n",
       "      <td>1.006826</td>\n",
       "      <td>775.0</td>\n",
       "      <td>2.645051</td>\n",
       "      <td>33.93</td>\n",
       "      <td>-118.26</td>\n",
       "      <td>1.04800</td>\n",
       "    </tr>\n",
       "    <tr>\n",
       "      <th>20638</th>\n",
       "      <td>2.6322</td>\n",
       "      <td>10.0</td>\n",
       "      <td>4.991614</td>\n",
       "      <td>0.951782</td>\n",
       "      <td>1323.0</td>\n",
       "      <td>2.773585</td>\n",
       "      <td>33.73</td>\n",
       "      <td>-117.16</td>\n",
       "      <td>1.40700</td>\n",
       "    </tr>\n",
       "    <tr>\n",
       "      <th>20639</th>\n",
       "      <td>2.3036</td>\n",
       "      <td>35.0</td>\n",
       "      <td>4.620513</td>\n",
       "      <td>1.176923</td>\n",
       "      <td>1009.0</td>\n",
       "      <td>2.587179</td>\n",
       "      <td>37.79</td>\n",
       "      <td>-122.20</td>\n",
       "      <td>1.26000</td>\n",
       "    </tr>\n",
       "  </tbody>\n",
       "</table>\n",
       "<p>20640 rows × 9 columns</p>\n",
       "</div>"
      ],
      "text/plain": [
       "       MedInc  HouseAge  AveRooms  AveBedrms  Population  AveOccup  Latitude  \\\n",
       "0      3.2500      39.0  4.503205   1.073718      1109.0  1.777244     34.06   \n",
       "1      1.9784      37.0  4.988584   1.038813      1143.0  2.609589     36.78   \n",
       "2      4.0132      46.0  4.480296   1.012315      1534.0  3.778325     37.73   \n",
       "3      1.5208      52.0  3.908046   1.114943       200.0  2.298851     37.81   \n",
       "4      5.1795      37.0  5.406360   1.024735       711.0  2.512367     33.82   \n",
       "...       ...       ...       ...        ...         ...       ...       ...   \n",
       "20635  1.7823      17.0  4.055046   1.087156      1079.0  2.474771     33.76   \n",
       "20636  8.5608      42.0  6.788462   1.011538       753.0  2.896154     34.42   \n",
       "20637  1.1326      42.0  4.890785   1.006826       775.0  2.645051     33.93   \n",
       "20638  2.6322      10.0  4.991614   0.951782      1323.0  2.773585     33.73   \n",
       "20639  2.3036      35.0  4.620513   1.176923      1009.0  2.587179     37.79   \n",
       "\n",
       "       Longitude   target  \n",
       "0        -118.36  3.55000  \n",
       "1        -119.78  0.70700  \n",
       "2        -122.42  2.29400  \n",
       "3        -122.28  1.12500  \n",
       "4        -118.13  2.25400  \n",
       "...          ...      ...  \n",
       "20635    -117.88  2.05300  \n",
       "20636    -119.63  5.00001  \n",
       "20637    -118.26  1.04800  \n",
       "20638    -117.16  1.40700  \n",
       "20639    -122.20  1.26000  \n",
       "\n",
       "[20640 rows x 9 columns]"
      ]
     },
     "execution_count": 3,
     "metadata": {},
     "output_type": "execute_result"
    }
   ],
   "source": [
    "df=pd.DataFrame(feature, columns=data.feature_names)\n",
    "df['target']=target\n",
    "df=df.sample(frac=1, random_state=1).reset_index().drop('index', axis=1)\n",
    "df"
   ]
  },
  {
   "cell_type": "code",
   "execution_count": 4,
   "id": "ce54e55d",
   "metadata": {},
   "outputs": [],
   "source": [
    "dtr=DecisionTreeRegressor()\n",
    "dtr.fit(df.loc[:,'MedInc':'Longitude'], df['target'])\n",
    "train_pred=dtr.predict(df.loc[:,'MedInc':'Longitude'])"
   ]
  },
  {
   "cell_type": "code",
   "execution_count": 5,
   "id": "f71901bc",
   "metadata": {},
   "outputs": [
    {
     "data": {
      "text/plain": [
       "3.223072662167874e-16"
      ]
     },
     "execution_count": 5,
     "metadata": {},
     "output_type": "execute_result"
    }
   ],
   "source": [
    "mean_squared_error(df['target'], train_pred, squared=False)"
   ]
  },
  {
   "cell_type": "code",
   "execution_count": 6,
   "id": "7a799fee",
   "metadata": {},
   "outputs": [
    {
     "data": {
      "text/plain": [
       "array([0.52497146, 0.05005491, 0.05314145, 0.02771405, 0.03246372,\n",
       "       0.13173282, 0.09384823, 0.08607335])"
      ]
     },
     "execution_count": 6,
     "metadata": {},
     "output_type": "execute_result"
    }
   ],
   "source": [
    "dtr.feature_importances_"
   ]
  },
  {
   "cell_type": "markdown",
   "id": "464da0bf",
   "metadata": {},
   "source": [
    "10分割交差検証にてRMSEを算出  \n",
    "今回のデータは20640件で学習"
   ]
  },
  {
   "cell_type": "code",
   "execution_count": 7,
   "id": "07c7e6ef",
   "metadata": {},
   "outputs": [
    {
     "data": {
      "text/plain": [
       "array([-0.51762764, -0.49942021, -0.53935571, -0.52519742, -0.48637843,\n",
       "       -0.56241855, -0.52326932, -0.49538599, -0.59171303, -0.50232805])"
      ]
     },
     "execution_count": 7,
     "metadata": {},
     "output_type": "execute_result"
    }
   ],
   "source": [
    "scores=cross_val_score(dtr, df.loc[:,'MedInc':'Longitude'] ,df['target'] , scoring='neg_mean_squared_error', cv=10)\n",
    "scores"
   ]
  },
  {
   "cell_type": "code",
   "execution_count": 8,
   "id": "c9fa665e",
   "metadata": {},
   "outputs": [
    {
     "data": {
      "text/plain": [
       "array([0.71946344, 0.70669669, 0.73440841, 0.72470506, 0.69740837,\n",
       "       0.7499457 , 0.72337357, 0.70383662, 0.76922885, 0.70875105])"
      ]
     },
     "execution_count": 8,
     "metadata": {},
     "output_type": "execute_result"
    }
   ],
   "source": [
    "#RMSEをそれぞれ算出\n",
    "np.sqrt(-scores)"
   ]
  },
  {
   "cell_type": "code",
   "execution_count": 9,
   "id": "d2c83abb",
   "metadata": {},
   "outputs": [
    {
     "name": "stdout",
     "output_type": "stream",
     "text": [
      "RMSE 0.7237817763487977\n"
     ]
    }
   ],
   "source": [
    "#平均して交差検証による正式なRMSEを出す\n",
    "print('RMSE',np.mean(np.sqrt(-scores)))"
   ]
  },
  {
   "cell_type": "code",
   "execution_count": 10,
   "id": "ea95c2ef",
   "metadata": {},
   "outputs": [],
   "source": [
    "#plot_tree(dtr, filled=True)は長いからやらないほうがよい"
   ]
  },
  {
   "cell_type": "markdown",
   "id": "0a5ea25b",
   "metadata": {},
   "source": [
    "ホールドアウト法（7：3に分割）"
   ]
  },
  {
   "cell_type": "code",
   "execution_count": 11,
   "id": "269bd342",
   "metadata": {},
   "outputs": [
    {
     "data": {
      "text/html": [
       "<div>\n",
       "<style scoped>\n",
       "    .dataframe tbody tr th:only-of-type {\n",
       "        vertical-align: middle;\n",
       "    }\n",
       "\n",
       "    .dataframe tbody tr th {\n",
       "        vertical-align: top;\n",
       "    }\n",
       "\n",
       "    .dataframe thead th {\n",
       "        text-align: right;\n",
       "    }\n",
       "</style>\n",
       "<table border=\"1\" class=\"dataframe\">\n",
       "  <thead>\n",
       "    <tr style=\"text-align: right;\">\n",
       "      <th></th>\n",
       "      <th>MedInc</th>\n",
       "      <th>HouseAge</th>\n",
       "      <th>AveRooms</th>\n",
       "      <th>AveBedrms</th>\n",
       "      <th>Population</th>\n",
       "      <th>AveOccup</th>\n",
       "      <th>Latitude</th>\n",
       "      <th>Longitude</th>\n",
       "      <th>target</th>\n",
       "    </tr>\n",
       "  </thead>\n",
       "  <tbody>\n",
       "    <tr>\n",
       "      <th>14447</th>\n",
       "      <td>5.0462</td>\n",
       "      <td>34.0</td>\n",
       "      <td>6.370492</td>\n",
       "      <td>1.049180</td>\n",
       "      <td>895.0</td>\n",
       "      <td>2.934426</td>\n",
       "      <td>34.21</td>\n",
       "      <td>-118.59</td>\n",
       "      <td>2.27700</td>\n",
       "    </tr>\n",
       "    <tr>\n",
       "      <th>14448</th>\n",
       "      <td>4.2902</td>\n",
       "      <td>39.0</td>\n",
       "      <td>5.673040</td>\n",
       "      <td>0.956023</td>\n",
       "      <td>1243.0</td>\n",
       "      <td>2.376673</td>\n",
       "      <td>38.12</td>\n",
       "      <td>-122.24</td>\n",
       "      <td>1.52400</td>\n",
       "    </tr>\n",
       "    <tr>\n",
       "      <th>14449</th>\n",
       "      <td>2.1771</td>\n",
       "      <td>18.0</td>\n",
       "      <td>5.127273</td>\n",
       "      <td>1.077273</td>\n",
       "      <td>772.0</td>\n",
       "      <td>3.509091</td>\n",
       "      <td>36.44</td>\n",
       "      <td>-119.97</td>\n",
       "      <td>0.39200</td>\n",
       "    </tr>\n",
       "    <tr>\n",
       "      <th>14450</th>\n",
       "      <td>4.4615</td>\n",
       "      <td>20.0</td>\n",
       "      <td>4.357006</td>\n",
       "      <td>0.955854</td>\n",
       "      <td>1070.0</td>\n",
       "      <td>2.053743</td>\n",
       "      <td>33.83</td>\n",
       "      <td>-118.38</td>\n",
       "      <td>3.84800</td>\n",
       "    </tr>\n",
       "    <tr>\n",
       "      <th>14451</th>\n",
       "      <td>3.7500</td>\n",
       "      <td>19.0</td>\n",
       "      <td>4.473146</td>\n",
       "      <td>1.038363</td>\n",
       "      <td>969.0</td>\n",
       "      <td>2.478261</td>\n",
       "      <td>33.84</td>\n",
       "      <td>-117.95</td>\n",
       "      <td>1.73400</td>\n",
       "    </tr>\n",
       "    <tr>\n",
       "      <th>...</th>\n",
       "      <td>...</td>\n",
       "      <td>...</td>\n",
       "      <td>...</td>\n",
       "      <td>...</td>\n",
       "      <td>...</td>\n",
       "      <td>...</td>\n",
       "      <td>...</td>\n",
       "      <td>...</td>\n",
       "      <td>...</td>\n",
       "    </tr>\n",
       "    <tr>\n",
       "      <th>20635</th>\n",
       "      <td>1.7823</td>\n",
       "      <td>17.0</td>\n",
       "      <td>4.055046</td>\n",
       "      <td>1.087156</td>\n",
       "      <td>1079.0</td>\n",
       "      <td>2.474771</td>\n",
       "      <td>33.76</td>\n",
       "      <td>-117.88</td>\n",
       "      <td>2.05300</td>\n",
       "    </tr>\n",
       "    <tr>\n",
       "      <th>20636</th>\n",
       "      <td>8.5608</td>\n",
       "      <td>42.0</td>\n",
       "      <td>6.788462</td>\n",
       "      <td>1.011538</td>\n",
       "      <td>753.0</td>\n",
       "      <td>2.896154</td>\n",
       "      <td>34.42</td>\n",
       "      <td>-119.63</td>\n",
       "      <td>5.00001</td>\n",
       "    </tr>\n",
       "    <tr>\n",
       "      <th>20637</th>\n",
       "      <td>1.1326</td>\n",
       "      <td>42.0</td>\n",
       "      <td>4.890785</td>\n",
       "      <td>1.006826</td>\n",
       "      <td>775.0</td>\n",
       "      <td>2.645051</td>\n",
       "      <td>33.93</td>\n",
       "      <td>-118.26</td>\n",
       "      <td>1.04800</td>\n",
       "    </tr>\n",
       "    <tr>\n",
       "      <th>20638</th>\n",
       "      <td>2.6322</td>\n",
       "      <td>10.0</td>\n",
       "      <td>4.991614</td>\n",
       "      <td>0.951782</td>\n",
       "      <td>1323.0</td>\n",
       "      <td>2.773585</td>\n",
       "      <td>33.73</td>\n",
       "      <td>-117.16</td>\n",
       "      <td>1.40700</td>\n",
       "    </tr>\n",
       "    <tr>\n",
       "      <th>20639</th>\n",
       "      <td>2.3036</td>\n",
       "      <td>35.0</td>\n",
       "      <td>4.620513</td>\n",
       "      <td>1.176923</td>\n",
       "      <td>1009.0</td>\n",
       "      <td>2.587179</td>\n",
       "      <td>37.79</td>\n",
       "      <td>-122.20</td>\n",
       "      <td>1.26000</td>\n",
       "    </tr>\n",
       "  </tbody>\n",
       "</table>\n",
       "<p>6193 rows × 9 columns</p>\n",
       "</div>"
      ],
      "text/plain": [
       "       MedInc  HouseAge  AveRooms  AveBedrms  Population  AveOccup  Latitude  \\\n",
       "14447  5.0462      34.0  6.370492   1.049180       895.0  2.934426     34.21   \n",
       "14448  4.2902      39.0  5.673040   0.956023      1243.0  2.376673     38.12   \n",
       "14449  2.1771      18.0  5.127273   1.077273       772.0  3.509091     36.44   \n",
       "14450  4.4615      20.0  4.357006   0.955854      1070.0  2.053743     33.83   \n",
       "14451  3.7500      19.0  4.473146   1.038363       969.0  2.478261     33.84   \n",
       "...       ...       ...       ...        ...         ...       ...       ...   \n",
       "20635  1.7823      17.0  4.055046   1.087156      1079.0  2.474771     33.76   \n",
       "20636  8.5608      42.0  6.788462   1.011538       753.0  2.896154     34.42   \n",
       "20637  1.1326      42.0  4.890785   1.006826       775.0  2.645051     33.93   \n",
       "20638  2.6322      10.0  4.991614   0.951782      1323.0  2.773585     33.73   \n",
       "20639  2.3036      35.0  4.620513   1.176923      1009.0  2.587179     37.79   \n",
       "\n",
       "       Longitude   target  \n",
       "14447    -118.59  2.27700  \n",
       "14448    -122.24  1.52400  \n",
       "14449    -119.97  0.39200  \n",
       "14450    -118.38  3.84800  \n",
       "14451    -117.95  1.73400  \n",
       "...          ...      ...  \n",
       "20635    -117.88  2.05300  \n",
       "20636    -119.63  5.00001  \n",
       "20637    -118.26  1.04800  \n",
       "20638    -117.16  1.40700  \n",
       "20639    -122.20  1.26000  \n",
       "\n",
       "[6193 rows x 9 columns]"
      ]
     },
     "execution_count": 11,
     "metadata": {},
     "output_type": "execute_result"
    }
   ],
   "source": [
    "df_train=df.loc[:14446,:]\n",
    "df_test=df.loc[14447:,:]\n",
    "df_test"
   ]
  },
  {
   "cell_type": "code",
   "execution_count": 12,
   "id": "7e95c4c6",
   "metadata": {},
   "outputs": [],
   "source": [
    "x_train=df_train.loc[:,'MedInc':'Longitude']\n",
    "y_train=df_train['target']\n",
    "x_test=df_test.loc[:,'MedInc':'Longitude']\n",
    "y_test=df_test['target']"
   ]
  },
  {
   "cell_type": "markdown",
   "id": "9682b817",
   "metadata": {},
   "source": [
    "trainデータを決定木回帰で学習"
   ]
  },
  {
   "cell_type": "code",
   "execution_count": 13,
   "id": "41972d25",
   "metadata": {},
   "outputs": [
    {
     "data": {
      "text/plain": [
       "DecisionTreeRegressor()"
      ]
     },
     "execution_count": 13,
     "metadata": {},
     "output_type": "execute_result"
    }
   ],
   "source": [
    "dtr_2=DecisionTreeRegressor()\n",
    "dtr_2.fit(x_train, y_train)"
   ]
  },
  {
   "cell_type": "code",
   "execution_count": 14,
   "id": "c54a3f81",
   "metadata": {},
   "outputs": [],
   "source": [
    "#testデータに対して予測\n",
    "test_pred=dtr_2.predict(x_test)"
   ]
  },
  {
   "cell_type": "code",
   "execution_count": 15,
   "id": "9be8a27f",
   "metadata": {},
   "outputs": [
    {
     "name": "stdout",
     "output_type": "stream",
     "text": [
      "RMSE_Test_notpare 0.7344106210608491\n"
     ]
    }
   ],
   "source": [
    "print('RMSE_Test_notpare', mean_squared_error(y_test, test_pred, squared=False))"
   ]
  },
  {
   "cell_type": "markdown",
   "id": "78ceb5f6",
   "metadata": {},
   "source": [
    "### グリッドサーチによるハイパーパラメータ探索  \n",
    "決定木のハイパーパラメータ：'max_depth'、'min_samples_leaf'、'min_samples_split'"
   ]
  },
  {
   "cell_type": "code",
   "execution_count": 28,
   "id": "7e5c55e1",
   "metadata": {},
   "outputs": [
    {
     "data": {
      "text/plain": [
       "GridSearchCV(cv=10, estimator=DecisionTreeRegressor(),\n",
       "             param_grid={'max_depth': [13], 'min_samples_leaf': [10],\n",
       "                         'min_samples_split': [3, 4, 5, 6, 7, 8, 9, 10]})"
      ]
     },
     "execution_count": 28,
     "metadata": {},
     "output_type": "execute_result"
    }
   ],
   "source": [
    "param = {'max_depth':[13],\n",
    "         'min_samples_leaf':[10],\n",
    "         'min_samples_split':[3, 4, 5, 6, 7, 8, 9, 10]}\n",
    "grid_seach = GridSearchCV(DecisionTreeRegressor(), param_grid=param, cv=10)\n",
    "grid_seach.fit(x_train, y_train)"
   ]
  },
  {
   "cell_type": "code",
   "execution_count": 29,
   "id": "8ea30f8d",
   "metadata": {},
   "outputs": [
    {
     "data": {
      "text/plain": [
       "{'max_depth': 13, 'min_samples_leaf': 10, 'min_samples_split': 4}"
      ]
     },
     "execution_count": 29,
     "metadata": {},
     "output_type": "execute_result"
    }
   ],
   "source": [
    "#グリッドサーチのベストスコア\n",
    "grid_seach.best_params_"
   ]
  },
  {
   "cell_type": "code",
   "execution_count": 30,
   "id": "9f6d06bb",
   "metadata": {},
   "outputs": [
    {
     "name": "stdout",
     "output_type": "stream",
     "text": [
      "RMSE_Test_para 0.638412480001396\n"
     ]
    }
   ],
   "source": [
    "#上記学習済みモデルを使ってx_testでy_testを予測\n",
    "test_pred_grid=grid_seach.predict(x_test)\n",
    "print('RMSE_Test_para', mean_squared_error(y_test, test_pred_grid, squared=False))"
   ]
  },
  {
   "cell_type": "markdown",
   "id": "071d30a8",
   "metadata": {},
   "source": [
    "### 結果（決定木回帰）\n",
    "y_testを予測  \n",
    "ハイパラ探索前：RMSE_Test_notpare 0.7357381359778418  \n",
    "ハイパラ探索後：RMSE_Test_para 0.6384285481252693  \n",
    "注意：min_samples_splitはグリッドサーチによって値が変わってくる"
   ]
  },
  {
   "cell_type": "code",
   "execution_count": 31,
   "id": "9d8d20b2",
   "metadata": {},
   "outputs": [
    {
     "data": {
      "text/plain": [
       "GridSearchCV(cv=10, estimator=DecisionTreeRegressor(),\n",
       "             param_grid={'max_depth': [10, 11, 12, 13, 14, 15]})"
      ]
     },
     "execution_count": 31,
     "metadata": {},
     "output_type": "execute_result"
    }
   ],
   "source": [
    "#念のためmax_depthだけもう一度ハイパラ探索⇒RMSE算出\n",
    "param2={'max_depth':[10,11,12,13,14]}\n",
    "grid_search=GridSearchCV(DecisionTreeRegressor(), param_grid=param2, cv=10)\n",
    "grid_search.fit(x_train, y_train)"
   ]
  },
  {
   "cell_type": "code",
   "execution_count": 33,
   "id": "341d1d2c",
   "metadata": {},
   "outputs": [
    {
     "data": {
      "text/plain": [
       "{'max_depth': 10}"
      ]
     },
     "execution_count": 33,
     "metadata": {},
     "output_type": "execute_result"
    }
   ],
   "source": [
    "grid_search.best_params_"
   ]
  },
  {
   "cell_type": "code",
   "execution_count": 34,
   "id": "b4e3b0a2",
   "metadata": {},
   "outputs": [
    {
     "name": "stdout",
     "output_type": "stream",
     "text": [
      "RMSE_Test_1para 0.6580971351953847\n"
     ]
    }
   ],
   "source": [
    "print('RMSE_Test_1para',mean_squared_error(y_test, grid_search.predict(x_test), squared=False))"
   ]
  },
  {
   "cell_type": "markdown",
   "id": "ec056787",
   "metadata": {},
   "source": [
    "グリッドサーチ済みのモデルで特徴量重要度を算出"
   ]
  },
  {
   "cell_type": "code",
   "execution_count": 35,
   "id": "cd386389",
   "metadata": {
    "scrolled": true
   },
   "outputs": [
    {
     "name": "stdout",
     "output_type": "stream",
     "text": [
      "0.6384254174952494\n"
     ]
    }
   ],
   "source": [
    "#グリッドサーチにて算出したハイパーパラメータを入れて決定木のインスタンスを作成＆予測＆RMSE算出\n",
    "dtr_3=DecisionTreeRegressor(max_depth=13, min_samples_leaf=10, min_samples_split=4).fit(x_train, y_train)\n",
    "test_pred_grid_2 = dtr_3.predict(x_test)\n",
    "print(mean_squared_error(y_test, test_pred_grid_2, squared=False))"
   ]
  },
  {
   "cell_type": "code",
   "execution_count": 36,
   "id": "585821d5",
   "metadata": {},
   "outputs": [
    {
     "data": {
      "text/plain": [
       "array([0.59390673, 0.05101942, 0.03922907, 0.01181933, 0.01226927,\n",
       "       0.13788303, 0.07591784, 0.0779553 ])"
      ]
     },
     "execution_count": 36,
     "metadata": {},
     "output_type": "execute_result"
    }
   ],
   "source": [
    "#特徴量重要度算出\n",
    "dtr_3.feature_importances_"
   ]
  },
  {
   "cell_type": "code",
   "execution_count": 39,
   "id": "dc01d46e",
   "metadata": {},
   "outputs": [
    {
     "data": {
      "image/png": "[encoded data removed]",
      "text/plain": [
       "<Figure size 1080x504 with 1 Axes>"
      ]
     },
     "metadata": {
      "needs_background": "light"
     },
     "output_type": "display_data"
    }
   ],
   "source": [
    "plt.figure(figsize=(15,7))\n",
    "plt.barh(range(8), dtr_3.feature_importances_, tick_label=x_train.columns)\n",
    "plt.show()"
   ]
  },
  {
   "cell_type": "markdown",
   "id": "acd87591",
   "metadata": {},
   "source": [
    "あまりハイパラ探索する前と変わらない"
   ]
  },
  {
   "cell_type": "code",
   "execution_count": null,
   "id": "1d8b7df2",
   "metadata": {},
   "outputs": [],
   "source": []
  }
 ],
 "metadata": {
  "kernelspec": {
   "display_name": "Python 3 (ipykernel)",
   "language": "python",
   "name": "python3"
  },
  "language_info": {
   "codemirror_mode": {
    "name": "ipython",
    "version": 3
   },
   "file_extension": ".py",
   "mimetype": "text/x-python",
   "name": "python",
   "nbconvert_exporter": "python",
   "pygments_lexer": "ipython3",
   "version": "3.9.7"
  }
 },
 "nbformat": 4,
 "nbformat_minor": 5
}
