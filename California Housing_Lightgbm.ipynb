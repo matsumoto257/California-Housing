{
 "cells": [
  {
   "cell_type": "markdown",
   "id": "4619c764",
   "metadata": {},
   "source": [
    "## LightGBM"
   ]
  },
  {
   "cell_type": "markdown",
   "id": "4586a818",
   "metadata": {},
   "source": [
    "## 結果  \n",
    "Ⅰ.  \n",
    "①まずMedIncのみを特徴量としてtargetを線形回帰予測⇒モデル１を作成  \n",
    "②その後targetから.predict(x_train_MedInc)を引いて残差を算出  \n",
    "③残差を目的変数、MedInc以外の特徴量を特徴量として残差を予測⇒モデル２を作成  \n",
    "④テストデータのMedIncをモデル１に入れて.predict(x_test_MedInc)を算出⇒pred1  \n",
    "⑤テストデータのMedInc以外の特徴量を特徴量として残差を予測⇒pred2  \n",
    "⑥pred1とpred2を足して真の予測とする  \n",
    "RMSE:0.5231193804756671  \n",
    "そんなに指標は改善してない\n",
    "  \n",
    "  \n",
    "Ⅱ.  \n",
    "特徴量重要度の一番低いHouseAgeを除いてハイパラ探索後の結果：RMSE_Test_remove 0.4616476242743506  \n",
    "⇒あまり改善しない"
   ]
  },
  {
   "cell_type": "code",
   "execution_count": 1,
   "id": "c0626417",
   "metadata": {},
   "outputs": [],
   "source": [
    "import sklearn.datasets\n",
    "import pandas as pd\n",
    "import seaborn as sns\n",
    "import numpy as np\n",
    "from sklearn.model_selection import train_test_split\n",
    "import matplotlib.pyplot as plt\n",
    "from sklearn.metrics import r2_score\n",
    "from sklearn.metrics import mean_absolute_error\n",
    "from sklearn.metrics import mean_squared_error\n",
    "from sklearn.model_selection import KFold\n",
    "from sklearn.model_selection import cross_val_score\n",
    "from sklearn.linear_model import LinearRegression\n",
    "from sklearn.tree import plot_tree\n",
    "from sklearn.model_selection import GridSearchCV\n",
    "from sklearn.ensemble import RandomForestRegressor\n",
    "from sklearn.model_selection import RandomizedSearchCV\n",
    "import lightgbm as gbm"
   ]
  },
  {
   "cell_type": "code",
   "execution_count": 2,
   "id": "423051f5",
   "metadata": {},
   "outputs": [],
   "source": [
    "data=sklearn.datasets.fetch_california_housing()\n",
    "feature=data.data\n",
    "target=data.target"
   ]
  },
  {
   "cell_type": "code",
   "execution_count": 3,
   "id": "027aca97",
   "metadata": {},
   "outputs": [],
   "source": [
    "x_train, x_test, y_train, y_test = train_test_split(feature, target, train_size=0.7, shuffle=True, random_state=0)"
   ]
  },
  {
   "cell_type": "code",
   "execution_count": 4,
   "id": "7f21ccda",
   "metadata": {},
   "outputs": [],
   "source": [
    "df_train=pd.DataFrame(x_train, columns=data.feature_names)\n",
    "df_train['target']=y_train\n",
    "df_test=pd.DataFrame(x_test, columns=data.feature_names)\n",
    "df_test['target']=y_test"
   ]
  },
  {
   "cell_type": "markdown",
   "id": "7f4e277b",
   "metadata": {},
   "source": [
    "### LightGBMで回帰（ハイパラ探索なし）"
   ]
  },
  {
   "cell_type": "code",
   "execution_count": 5,
   "id": "9402ccd6",
   "metadata": {},
   "outputs": [
    {
     "data": {
      "text/plain": [
       "LGBMRegressor()"
      ]
     },
     "execution_count": 5,
     "metadata": {},
     "output_type": "execute_result"
    }
   ],
   "source": [
    "lgbm=gbm.LGBMRegressor()\n",
    "lgbm.fit(x_train, y_train)"
   ]
  },
  {
   "cell_type": "code",
   "execution_count": 6,
   "id": "62181e94",
   "metadata": {},
   "outputs": [],
   "source": [
    "pred_test=lgbm.predict(x_test)"
   ]
  },
  {
   "cell_type": "code",
   "execution_count": 7,
   "id": "90391c70",
   "metadata": {},
   "outputs": [
    {
     "name": "stdout",
     "output_type": "stream",
     "text": [
      "RMSE_Test_notpara 0.4717400172761787\n"
     ]
    }
   ],
   "source": [
    "print('RMSE_Test_notpara', mean_squared_error(y_test, pred_test, squared=False))"
   ]
  },
  {
   "cell_type": "markdown",
   "id": "a658da6e",
   "metadata": {},
   "source": [
    "### LightGBM(ランダムサーチによるハイパラ探索）  \n",
    "https://qiita.com/c60evaporator/items/351188110f328ff921b9  "
   ]
  },
  {
   "cell_type": "code",
   "execution_count": 8,
   "id": "3b7b3649",
   "metadata": {},
   "outputs": [],
   "source": [
    "scoring = 'neg_root_mean_squared_error'\n",
    "params = {'reg_alpha': [0.0001, 0.003, 0.1],\n",
    "          'reg_lambda': [0.0001, 0.1],\n",
    "             'num_leaves': [2, 3, 4, 6],\n",
    "             'colsample_bytree': [0.4, 0.7, 1.0],\n",
    "             'subsample': [0.4, 1.0],\n",
    "             'subsample_freq': [0, 7],\n",
    "             'min_child_samples': [0, 2, 5, 10],\n",
    "             'n_estimators':[5000,10000]\n",
    "             }\n",
    "\n",
    "params2 = {'reg_alpha': [0.0001, 0.0002, 0.003],\n",
    "          'reg_lambda': [0.0001, 0.0002],\n",
    "          'num_leaves': [4, 5],\n",
    "          'colsample_bytree': [0.5, 0.7, 0.8],\n",
    "          'subsample': [0.9, 1.0],\n",
    "          'min_child_samples': [3, 5, 7],\n",
    "          'n_estimators':[4000,5000,6000]\n",
    "             }\n",
    "\n",
    "params3 = {'reg_alpha': [0.003, 0.004],\n",
    "          'reg_lambda': [0.0001],\n",
    "          'num_leaves': [5],\n",
    "          'colsample_bytree': [0.5, 0.7, 0.8],\n",
    "          'subsample': [0.9],\n",
    "          'min_child_samples': [5, 7, 8],\n",
    "          'n_estimators':[4000, 4500]\n",
    "             }"
   ]
  },
  {
   "cell_type": "code",
   "execution_count": 9,
   "id": "e3fb459d",
   "metadata": {},
   "outputs": [
    {
     "data": {
      "text/plain": [
       "RandomizedSearchCV(cv=5, estimator=LGBMRegressor(random_state=0),\n",
       "                   param_distributions={'colsample_bytree': [0.5, 0.7, 0.8],\n",
       "                                        'min_child_samples': [5, 7, 8],\n",
       "                                        'n_estimators': [4000, 4500],\n",
       "                                        'num_leaves': [5],\n",
       "                                        'reg_alpha': [0.003, 0.004],\n",
       "                                        'reg_lambda': [0.0001],\n",
       "                                        'subsample': [0.9]},\n",
       "                   random_state=1, scoring='neg_root_mean_squared_error')"
      ]
     },
     "execution_count": 9,
     "metadata": {},
     "output_type": "execute_result"
    }
   ],
   "source": [
    "rscv=RandomizedSearchCV(gbm.LGBMRegressor(boosting_type='gbdt',random_state=0), \n",
    "                        param_distributions=params3, cv=5, scoring=scoring, random_state=1)\n",
    "rscv.fit(x_train, y_train)"
   ]
  },
  {
   "cell_type": "code",
   "execution_count": 10,
   "id": "89b5fc6c",
   "metadata": {},
   "outputs": [
    {
     "data": {
      "text/plain": [
       "{'subsample': 0.9,\n",
       " 'reg_lambda': 0.0001,\n",
       " 'reg_alpha': 0.004,\n",
       " 'num_leaves': 5,\n",
       " 'n_estimators': 4500,\n",
       " 'min_child_samples': 8,\n",
       " 'colsample_bytree': 0.7}"
      ]
     },
     "execution_count": 10,
     "metadata": {},
     "output_type": "execute_result"
    }
   ],
   "source": [
    "rscv.best_params_"
   ]
  },
  {
   "cell_type": "code",
   "execution_count": 11,
   "id": "2788f067",
   "metadata": {},
   "outputs": [
    {
     "name": "stdout",
     "output_type": "stream",
     "text": [
      "0.4616058415771237\n"
     ]
    }
   ],
   "source": [
    "print(-(rscv.best_score_))"
   ]
  },
  {
   "cell_type": "code",
   "execution_count": 12,
   "id": "51e74886",
   "metadata": {},
   "outputs": [
    {
     "name": "stdout",
     "output_type": "stream",
     "text": [
      "RMSE_Test_para 0.4503468880159287\n"
     ]
    }
   ],
   "source": [
    "lgbm_best=rscv.best_estimator_.fit(x_train, y_train)\n",
    "pred_Test_bestpara=lgbm_best.predict(x_test)\n",
    "print('RMSE_Test_para', mean_squared_error(y_test, pred_Test_bestpara, squared=False))"
   ]
  },
  {
   "cell_type": "markdown",
   "id": "cec83c91",
   "metadata": {},
   "source": [
    "### 特徴量重要度  \n",
    "https://mathmatical22.xyz/2020/04/12/%E3%80%90%E5%88%9D%E5%BF%83%E8%80%85%E5%90%91%E3%81%91%E3%80%91%E7%89%B9%E5%BE%B4%E9%87%8F%E9%87%8D%E8%A6%81%E5%BA%A6%E3%81%AE%E7%AE%97%E5%87%BA-lightgbm-%E3%80%90python%E3%80%91%E3%80%90%E6%A9%9F/"
   ]
  },
  {
   "cell_type": "code",
   "execution_count": 13,
   "id": "d8298477",
   "metadata": {},
   "outputs": [
    {
     "data": {
      "text/plain": [
       "array([2516, 1417, 2174, 1812, 1666, 2201, 3219, 2995])"
      ]
     },
     "execution_count": 13,
     "metadata": {},
     "output_type": "execute_result"
    }
   ],
   "source": [
    "lgbm_best.feature_importances_"
   ]
  },
  {
   "cell_type": "code",
   "execution_count": 14,
   "id": "58a81e1a",
   "metadata": {},
   "outputs": [
    {
     "data": {
      "image/png": "[encoded data removed]",
      "text/plain": [
       "<Figure size 1080x504 with 1 Axes>"
      ]
     },
     "metadata": {
      "needs_background": "light"
     },
     "output_type": "display_data"
    }
   ],
   "source": [
    "plt.figure(figsize=(15,7))\n",
    "plt.barh(range(8), lgbm_best.feature_importances_, tick_label=df_train.loc[:,'MedInc':'Longitude'].columns)\n",
    "plt.show()"
   ]
  },
  {
   "cell_type": "markdown",
   "id": "4f1e0d69",
   "metadata": {},
   "source": [
    "### 結果：特徴量重要度を見ると決定木やランダムフォレストの特徴量重要度と値の大きさが違う"
   ]
  },
  {
   "cell_type": "markdown",
   "id": "e7e77120",
   "metadata": {},
   "source": [
    "　　"
   ]
  },
  {
   "cell_type": "markdown",
   "id": "3a070600",
   "metadata": {},
   "source": [
    "## Ⅰ.残差に対してLightGBM  "
   ]
  },
  {
   "cell_type": "markdown",
   "id": "0279ce83",
   "metadata": {},
   "source": [
    "①まずMedIncのみを特徴量としてtargetを線形回帰予測⇒モデル１を作成  \n",
    "df_train['MedInc']とdf_train['target']で線形予測"
   ]
  },
  {
   "cell_type": "code",
   "execution_count": 15,
   "id": "19fc915c",
   "metadata": {},
   "outputs": [],
   "source": [
    "#線形回帰モデルでモデル１を作成\n",
    "lr=LinearRegression()\n",
    "lr.fit(df_train['MedInc'].values.reshape(-1,1), df_train['target'])\n",
    "pred_train_lin=lr.predict(df_train['MedInc'].values.reshape(-1,1))"
   ]
  },
  {
   "cell_type": "markdown",
   "id": "e088ffb6",
   "metadata": {},
   "source": [
    "②その後targetから.predict(x_train_MedInc)を引いて残差を算出  "
   ]
  },
  {
   "cell_type": "code",
   "execution_count": 16,
   "id": "1155c58e",
   "metadata": {},
   "outputs": [],
   "source": [
    "#yから線形予測の値を引いたy残差を出す\n",
    "y_residual = df_train['target'] - pred_train_lin"
   ]
  },
  {
   "cell_type": "code",
   "execution_count": 36,
   "id": "f687a32e",
   "metadata": {},
   "outputs": [
    {
     "data": {
      "text/html": [
       "<div>\n",
       "<style scoped>\n",
       "    .dataframe tbody tr th:only-of-type {\n",
       "        vertical-align: middle;\n",
       "    }\n",
       "\n",
       "    .dataframe tbody tr th {\n",
       "        vertical-align: top;\n",
       "    }\n",
       "\n",
       "    .dataframe thead th {\n",
       "        text-align: right;\n",
       "    }\n",
       "</style>\n",
       "<table border=\"1\" class=\"dataframe\">\n",
       "  <thead>\n",
       "    <tr style=\"text-align: right;\">\n",
       "      <th></th>\n",
       "      <th>MedInc</th>\n",
       "      <th>HouseAge</th>\n",
       "      <th>AveRooms</th>\n",
       "      <th>AveBedrms</th>\n",
       "      <th>Population</th>\n",
       "      <th>AveOccup</th>\n",
       "      <th>Latitude</th>\n",
       "      <th>Longitude</th>\n",
       "      <th>target</th>\n",
       "      <th>y_residual</th>\n",
       "    </tr>\n",
       "  </thead>\n",
       "  <tbody>\n",
       "    <tr>\n",
       "      <th>MedInc</th>\n",
       "      <td>1.000000e+00</td>\n",
       "      <td>-0.120286</td>\n",
       "      <td>0.358696</td>\n",
       "      <td>-0.059447</td>\n",
       "      <td>0.006211</td>\n",
       "      <td>0.002061</td>\n",
       "      <td>-0.085144</td>\n",
       "      <td>-0.010101</td>\n",
       "      <td>0.693247</td>\n",
       "      <td>6.237877e-16</td>\n",
       "    </tr>\n",
       "    <tr>\n",
       "      <th>HouseAge</th>\n",
       "      <td>-1.202858e-01</td>\n",
       "      <td>1.000000</td>\n",
       "      <td>-0.162228</td>\n",
       "      <td>-0.077118</td>\n",
       "      <td>-0.299646</td>\n",
       "      <td>0.013599</td>\n",
       "      <td>0.020766</td>\n",
       "      <td>-0.117501</td>\n",
       "      <td>0.104060</td>\n",
       "      <td>2.600908e-01</td>\n",
       "    </tr>\n",
       "    <tr>\n",
       "      <th>AveRooms</th>\n",
       "      <td>3.586960e-01</td>\n",
       "      <td>-0.162228</td>\n",
       "      <td>1.000000</td>\n",
       "      <td>0.825315</td>\n",
       "      <td>-0.068875</td>\n",
       "      <td>0.005141</td>\n",
       "      <td>0.105426</td>\n",
       "      <td>-0.025020</td>\n",
       "      <td>0.159166</td>\n",
       "      <td>-1.241831e-01</td>\n",
       "    </tr>\n",
       "    <tr>\n",
       "      <th>AveBedrms</th>\n",
       "      <td>-5.944687e-02</td>\n",
       "      <td>-0.077118</td>\n",
       "      <td>0.825315</td>\n",
       "      <td>1.000000</td>\n",
       "      <td>-0.060913</td>\n",
       "      <td>-0.002721</td>\n",
       "      <td>0.068477</td>\n",
       "      <td>0.013276</td>\n",
       "      <td>-0.053642</td>\n",
       "      <td>-1.724732e-02</td>\n",
       "    </tr>\n",
       "    <tr>\n",
       "      <th>Population</th>\n",
       "      <td>6.210605e-03</td>\n",
       "      <td>-0.299646</td>\n",
       "      <td>-0.068875</td>\n",
       "      <td>-0.060913</td>\n",
       "      <td>1.000000</td>\n",
       "      <td>0.074756</td>\n",
       "      <td>-0.117672</td>\n",
       "      <td>0.108157</td>\n",
       "      <td>-0.026288</td>\n",
       "      <td>-4.244980e-02</td>\n",
       "    </tr>\n",
       "    <tr>\n",
       "      <th>AveOccup</th>\n",
       "      <td>2.060989e-03</td>\n",
       "      <td>0.013599</td>\n",
       "      <td>0.005141</td>\n",
       "      <td>-0.002721</td>\n",
       "      <td>0.074756</td>\n",
       "      <td>1.000000</td>\n",
       "      <td>-0.003685</td>\n",
       "      <td>0.012908</td>\n",
       "      <td>-0.030739</td>\n",
       "      <td>-4.463377e-02</td>\n",
       "    </tr>\n",
       "    <tr>\n",
       "      <th>Latitude</th>\n",
       "      <td>-8.514441e-02</td>\n",
       "      <td>0.020766</td>\n",
       "      <td>0.105426</td>\n",
       "      <td>0.068477</td>\n",
       "      <td>-0.117672</td>\n",
       "      <td>-0.003685</td>\n",
       "      <td>1.000000</td>\n",
       "      <td>-0.925163</td>\n",
       "      <td>-0.143918</td>\n",
       "      <td>-1.177914e-01</td>\n",
       "    </tr>\n",
       "    <tr>\n",
       "      <th>Longitude</th>\n",
       "      <td>-1.010084e-02</td>\n",
       "      <td>-0.117501</td>\n",
       "      <td>-0.025020</td>\n",
       "      <td>0.013276</td>\n",
       "      <td>0.108157</td>\n",
       "      <td>0.012908</td>\n",
       "      <td>-0.925163</td>\n",
       "      <td>1.000000</td>\n",
       "      <td>-0.045790</td>\n",
       "      <td>-5.381977e-02</td>\n",
       "    </tr>\n",
       "    <tr>\n",
       "      <th>target</th>\n",
       "      <td>6.932470e-01</td>\n",
       "      <td>0.104060</td>\n",
       "      <td>0.159166</td>\n",
       "      <td>-0.053642</td>\n",
       "      <td>-0.026288</td>\n",
       "      <td>-0.030739</td>\n",
       "      <td>-0.143918</td>\n",
       "      <td>-0.045790</td>\n",
       "      <td>1.000000</td>\n",
       "      <td>7.207001e-01</td>\n",
       "    </tr>\n",
       "    <tr>\n",
       "      <th>y_residual</th>\n",
       "      <td>6.237877e-16</td>\n",
       "      <td>0.260091</td>\n",
       "      <td>-0.124183</td>\n",
       "      <td>-0.017247</td>\n",
       "      <td>-0.042450</td>\n",
       "      <td>-0.044634</td>\n",
       "      <td>-0.117791</td>\n",
       "      <td>-0.053820</td>\n",
       "      <td>0.720700</td>\n",
       "      <td>1.000000e+00</td>\n",
       "    </tr>\n",
       "  </tbody>\n",
       "</table>\n",
       "</div>"
      ],
      "text/plain": [
       "                  MedInc  HouseAge  AveRooms  AveBedrms  Population  AveOccup  \\\n",
       "MedInc      1.000000e+00 -0.120286  0.358696  -0.059447    0.006211  0.002061   \n",
       "HouseAge   -1.202858e-01  1.000000 -0.162228  -0.077118   -0.299646  0.013599   \n",
       "AveRooms    3.586960e-01 -0.162228  1.000000   0.825315   -0.068875  0.005141   \n",
       "AveBedrms  -5.944687e-02 -0.077118  0.825315   1.000000   -0.060913 -0.002721   \n",
       "Population  6.210605e-03 -0.299646 -0.068875  -0.060913    1.000000  0.074756   \n",
       "AveOccup    2.060989e-03  0.013599  0.005141  -0.002721    0.074756  1.000000   \n",
       "Latitude   -8.514441e-02  0.020766  0.105426   0.068477   -0.117672 -0.003685   \n",
       "Longitude  -1.010084e-02 -0.117501 -0.025020   0.013276    0.108157  0.012908   \n",
       "target      6.932470e-01  0.104060  0.159166  -0.053642   -0.026288 -0.030739   \n",
       "y_residual  6.237877e-16  0.260091 -0.124183  -0.017247   -0.042450 -0.044634   \n",
       "\n",
       "            Latitude  Longitude    target    y_residual  \n",
       "MedInc     -0.085144  -0.010101  0.693247  6.237877e-16  \n",
       "HouseAge    0.020766  -0.117501  0.104060  2.600908e-01  \n",
       "AveRooms    0.105426  -0.025020  0.159166 -1.241831e-01  \n",
       "AveBedrms   0.068477   0.013276 -0.053642 -1.724732e-02  \n",
       "Population -0.117672   0.108157 -0.026288 -4.244980e-02  \n",
       "AveOccup   -0.003685   0.012908 -0.030739 -4.463377e-02  \n",
       "Latitude    1.000000  -0.925163 -0.143918 -1.177914e-01  \n",
       "Longitude  -0.925163   1.000000 -0.045790 -5.381977e-02  \n",
       "target     -0.143918  -0.045790  1.000000  7.207001e-01  \n",
       "y_residual -0.117791  -0.053820  0.720700  1.000000e+00  "
      ]
     },
     "execution_count": 36,
     "metadata": {},
     "output_type": "execute_result"
    }
   ],
   "source": [
    "df_train['y_residual'] = y_residual\n",
    "df_train.corr()"
   ]
  },
  {
   "cell_type": "code",
   "execution_count": 38,
   "id": "a06db4a3",
   "metadata": {},
   "outputs": [
    {
     "data": {
      "text/html": [
       "<div>\n",
       "<style scoped>\n",
       "    .dataframe tbody tr th:only-of-type {\n",
       "        vertical-align: middle;\n",
       "    }\n",
       "\n",
       "    .dataframe tbody tr th {\n",
       "        vertical-align: top;\n",
       "    }\n",
       "\n",
       "    .dataframe thead th {\n",
       "        text-align: right;\n",
       "    }\n",
       "</style>\n",
       "<table border=\"1\" class=\"dataframe\">\n",
       "  <thead>\n",
       "    <tr style=\"text-align: right;\">\n",
       "      <th></th>\n",
       "      <th>HouseAge</th>\n",
       "      <th>AveRooms</th>\n",
       "      <th>AveBedrms</th>\n",
       "      <th>Population</th>\n",
       "      <th>AveOccup</th>\n",
       "      <th>Latitude</th>\n",
       "      <th>Longitude</th>\n",
       "    </tr>\n",
       "  </thead>\n",
       "  <tbody>\n",
       "    <tr>\n",
       "      <th>0</th>\n",
       "      <td>43.0</td>\n",
       "      <td>3.671480</td>\n",
       "      <td>1.184116</td>\n",
       "      <td>836.0</td>\n",
       "      <td>3.018051</td>\n",
       "      <td>37.77</td>\n",
       "      <td>-122.21</td>\n",
       "    </tr>\n",
       "    <tr>\n",
       "      <th>1</th>\n",
       "      <td>17.0</td>\n",
       "      <td>6.478022</td>\n",
       "      <td>1.087912</td>\n",
       "      <td>1387.0</td>\n",
       "      <td>3.810440</td>\n",
       "      <td>33.87</td>\n",
       "      <td>-118.04</td>\n",
       "    </tr>\n",
       "    <tr>\n",
       "      <th>2</th>\n",
       "      <td>17.0</td>\n",
       "      <td>2.518000</td>\n",
       "      <td>1.196000</td>\n",
       "      <td>3051.0</td>\n",
       "      <td>3.051000</td>\n",
       "      <td>34.06</td>\n",
       "      <td>-118.28</td>\n",
       "    </tr>\n",
       "    <tr>\n",
       "      <th>3</th>\n",
       "      <td>50.0</td>\n",
       "      <td>4.622754</td>\n",
       "      <td>1.161677</td>\n",
       "      <td>606.0</td>\n",
       "      <td>3.628743</td>\n",
       "      <td>36.73</td>\n",
       "      <td>-119.81</td>\n",
       "    </tr>\n",
       "    <tr>\n",
       "      <th>4</th>\n",
       "      <td>11.0</td>\n",
       "      <td>6.495068</td>\n",
       "      <td>0.998767</td>\n",
       "      <td>4409.0</td>\n",
       "      <td>2.718249</td>\n",
       "      <td>33.80</td>\n",
       "      <td>-117.79</td>\n",
       "    </tr>\n",
       "    <tr>\n",
       "      <th>...</th>\n",
       "      <td>...</td>\n",
       "      <td>...</td>\n",
       "      <td>...</td>\n",
       "      <td>...</td>\n",
       "      <td>...</td>\n",
       "      <td>...</td>\n",
       "      <td>...</td>\n",
       "    </tr>\n",
       "    <tr>\n",
       "      <th>14442</th>\n",
       "      <td>20.0</td>\n",
       "      <td>6.000000</td>\n",
       "      <td>1.045662</td>\n",
       "      <td>712.0</td>\n",
       "      <td>3.251142</td>\n",
       "      <td>38.27</td>\n",
       "      <td>-121.26</td>\n",
       "    </tr>\n",
       "    <tr>\n",
       "      <th>14443</th>\n",
       "      <td>27.0</td>\n",
       "      <td>5.349282</td>\n",
       "      <td>0.933014</td>\n",
       "      <td>647.0</td>\n",
       "      <td>3.095694</td>\n",
       "      <td>37.48</td>\n",
       "      <td>-120.89</td>\n",
       "    </tr>\n",
       "    <tr>\n",
       "      <th>14444</th>\n",
       "      <td>31.0</td>\n",
       "      <td>3.641221</td>\n",
       "      <td>0.941476</td>\n",
       "      <td>704.0</td>\n",
       "      <td>1.791349</td>\n",
       "      <td>36.58</td>\n",
       "      <td>-121.90</td>\n",
       "    </tr>\n",
       "    <tr>\n",
       "      <th>14445</th>\n",
       "      <td>34.0</td>\n",
       "      <td>4.540598</td>\n",
       "      <td>1.064103</td>\n",
       "      <td>1052.0</td>\n",
       "      <td>2.247863</td>\n",
       "      <td>33.62</td>\n",
       "      <td>-117.93</td>\n",
       "    </tr>\n",
       "    <tr>\n",
       "      <th>14446</th>\n",
       "      <td>15.0</td>\n",
       "      <td>3.929530</td>\n",
       "      <td>1.100671</td>\n",
       "      <td>1024.0</td>\n",
       "      <td>3.436242</td>\n",
       "      <td>32.80</td>\n",
       "      <td>-115.56</td>\n",
       "    </tr>\n",
       "  </tbody>\n",
       "</table>\n",
       "<p>14447 rows × 7 columns</p>\n",
       "</div>"
      ],
      "text/plain": [
       "       HouseAge  AveRooms  AveBedrms  Population  AveOccup  Latitude  \\\n",
       "0          43.0  3.671480   1.184116       836.0  3.018051     37.77   \n",
       "1          17.0  6.478022   1.087912      1387.0  3.810440     33.87   \n",
       "2          17.0  2.518000   1.196000      3051.0  3.051000     34.06   \n",
       "3          50.0  4.622754   1.161677       606.0  3.628743     36.73   \n",
       "4          11.0  6.495068   0.998767      4409.0  2.718249     33.80   \n",
       "...         ...       ...        ...         ...       ...       ...   \n",
       "14442      20.0  6.000000   1.045662       712.0  3.251142     38.27   \n",
       "14443      27.0  5.349282   0.933014       647.0  3.095694     37.48   \n",
       "14444      31.0  3.641221   0.941476       704.0  1.791349     36.58   \n",
       "14445      34.0  4.540598   1.064103      1052.0  2.247863     33.62   \n",
       "14446      15.0  3.929530   1.100671      1024.0  3.436242     32.80   \n",
       "\n",
       "       Longitude  \n",
       "0        -122.21  \n",
       "1        -118.04  \n",
       "2        -118.28  \n",
       "3        -119.81  \n",
       "4        -117.79  \n",
       "...          ...  \n",
       "14442    -121.26  \n",
       "14443    -120.89  \n",
       "14444    -121.90  \n",
       "14445    -117.93  \n",
       "14446    -115.56  \n",
       "\n",
       "[14447 rows x 7 columns]"
      ]
     },
     "execution_count": 38,
     "metadata": {},
     "output_type": "execute_result"
    }
   ],
   "source": [
    "df_train_residual=df_train.drop(['MedInc', 'target','y_residual'], axis=1)\n",
    "df_train_residual"
   ]
  },
  {
   "cell_type": "code",
   "execution_count": 41,
   "id": "893f0cd7",
   "metadata": {},
   "outputs": [],
   "source": [
    "lgbm_2 = gbm.LGBMRegressor()\n",
    "\n",
    "params4 = {'reg_alpha': [0.0001, 0.003, 0.1],\n",
    "          'reg_lambda': [0.0001, 0.1],\n",
    "             'num_leaves': [2, 3, 4, 6],\n",
    "             'colsample_bytree': [0.7, 1.0],\n",
    "             'subsample': [0.4, 1.0],\n",
    "             'subsample_freq': [0, 7],\n",
    "             'min_child_samples': [0, 2, 5],\n",
    "             'n_estimators':[4500,5000,6000]\n",
    "             }"
   ]
  },
  {
   "cell_type": "code",
   "execution_count": 42,
   "id": "caec4f7a",
   "metadata": {},
   "outputs": [
    {
     "name": "stdout",
     "output_type": "stream",
     "text": [
      "Wall time: 1min 3s\n"
     ]
    },
    {
     "data": {
      "text/plain": [
       "RandomizedSearchCV(cv=5, estimator=LGBMRegressor(random_state=0),\n",
       "                   param_distributions={'colsample_bytree': [0.7, 1.0],\n",
       "                                        'min_child_samples': [0, 2, 5],\n",
       "                                        'n_estimators': [4500, 5000, 6000],\n",
       "                                        'num_leaves': [2, 3, 4, 6],\n",
       "                                        'reg_alpha': [0.0001, 0.003, 0.1],\n",
       "                                        'reg_lambda': [0.0001, 0.1],\n",
       "                                        'subsample': [0.4, 1.0],\n",
       "                                        'subsample_freq': [0, 7]},\n",
       "                   random_state=2, scoring='neg_root_mean_squared_error')"
      ]
     },
     "execution_count": 42,
     "metadata": {},
     "output_type": "execute_result"
    }
   ],
   "source": [
    "%%time\n",
    "rscv=RandomizedSearchCV(gbm.LGBMRegressor(boosting_type='gbdt',random_state=0),\n",
    "                        param_distributions=params4, cv=5, scoring='neg_root_mean_squared_error', random_state=2)\n",
    "rscv.fit(df_train_residual,y_residual)"
   ]
  },
  {
   "cell_type": "code",
   "execution_count": 43,
   "id": "19b21e60",
   "metadata": {},
   "outputs": [
    {
     "data": {
      "text/plain": [
       "{'subsample_freq': 0,\n",
       " 'subsample': 0.4,\n",
       " 'reg_lambda': 0.0001,\n",
       " 'reg_alpha': 0.0001,\n",
       " 'num_leaves': 6,\n",
       " 'n_estimators': 4500,\n",
       " 'min_child_samples': 2,\n",
       " 'colsample_bytree': 0.7}"
      ]
     },
     "execution_count": 43,
     "metadata": {},
     "output_type": "execute_result"
    }
   ],
   "source": [
    "rscv.best_params_"
   ]
  },
  {
   "cell_type": "code",
   "execution_count": 44,
   "id": "fbbcf7ed",
   "metadata": {},
   "outputs": [
    {
     "data": {
      "text/plain": [
       "0.5213043513892806"
      ]
     },
     "execution_count": 44,
     "metadata": {},
     "output_type": "execute_result"
    }
   ],
   "source": [
    "-rscv.best_score_"
   ]
  },
  {
   "cell_type": "markdown",
   "id": "d142849a",
   "metadata": {},
   "source": [
    "相関係数が高いMedIncを除く残りの特徴量でy-y線形予測=y_residualを予測しても  \n",
    "スコアはRMSE:0.5218921459470307 そんなに高くない"
   ]
  },
  {
   "cell_type": "code",
   "execution_count": 45,
   "id": "7de64576",
   "metadata": {},
   "outputs": [
    {
     "data": {
      "text/html": [
       "<div>\n",
       "<style scoped>\n",
       "    .dataframe tbody tr th:only-of-type {\n",
       "        vertical-align: middle;\n",
       "    }\n",
       "\n",
       "    .dataframe tbody tr th {\n",
       "        vertical-align: top;\n",
       "    }\n",
       "\n",
       "    .dataframe thead th {\n",
       "        text-align: right;\n",
       "    }\n",
       "</style>\n",
       "<table border=\"1\" class=\"dataframe\">\n",
       "  <thead>\n",
       "    <tr style=\"text-align: right;\">\n",
       "      <th></th>\n",
       "      <th>HouseAge</th>\n",
       "      <th>AveRooms</th>\n",
       "      <th>AveBedrms</th>\n",
       "      <th>Population</th>\n",
       "      <th>AveOccup</th>\n",
       "      <th>Latitude</th>\n",
       "      <th>Longitude</th>\n",
       "    </tr>\n",
       "  </thead>\n",
       "  <tbody>\n",
       "    <tr>\n",
       "      <th>0</th>\n",
       "      <td>43.0</td>\n",
       "      <td>3.671480</td>\n",
       "      <td>1.184116</td>\n",
       "      <td>836.0</td>\n",
       "      <td>3.018051</td>\n",
       "      <td>37.77</td>\n",
       "      <td>-122.21</td>\n",
       "    </tr>\n",
       "    <tr>\n",
       "      <th>1</th>\n",
       "      <td>17.0</td>\n",
       "      <td>6.478022</td>\n",
       "      <td>1.087912</td>\n",
       "      <td>1387.0</td>\n",
       "      <td>3.810440</td>\n",
       "      <td>33.87</td>\n",
       "      <td>-118.04</td>\n",
       "    </tr>\n",
       "    <tr>\n",
       "      <th>2</th>\n",
       "      <td>17.0</td>\n",
       "      <td>2.518000</td>\n",
       "      <td>1.196000</td>\n",
       "      <td>3051.0</td>\n",
       "      <td>3.051000</td>\n",
       "      <td>34.06</td>\n",
       "      <td>-118.28</td>\n",
       "    </tr>\n",
       "    <tr>\n",
       "      <th>3</th>\n",
       "      <td>50.0</td>\n",
       "      <td>4.622754</td>\n",
       "      <td>1.161677</td>\n",
       "      <td>606.0</td>\n",
       "      <td>3.628743</td>\n",
       "      <td>36.73</td>\n",
       "      <td>-119.81</td>\n",
       "    </tr>\n",
       "    <tr>\n",
       "      <th>4</th>\n",
       "      <td>11.0</td>\n",
       "      <td>6.495068</td>\n",
       "      <td>0.998767</td>\n",
       "      <td>4409.0</td>\n",
       "      <td>2.718249</td>\n",
       "      <td>33.80</td>\n",
       "      <td>-117.79</td>\n",
       "    </tr>\n",
       "    <tr>\n",
       "      <th>...</th>\n",
       "      <td>...</td>\n",
       "      <td>...</td>\n",
       "      <td>...</td>\n",
       "      <td>...</td>\n",
       "      <td>...</td>\n",
       "      <td>...</td>\n",
       "      <td>...</td>\n",
       "    </tr>\n",
       "    <tr>\n",
       "      <th>14442</th>\n",
       "      <td>20.0</td>\n",
       "      <td>6.000000</td>\n",
       "      <td>1.045662</td>\n",
       "      <td>712.0</td>\n",
       "      <td>3.251142</td>\n",
       "      <td>38.27</td>\n",
       "      <td>-121.26</td>\n",
       "    </tr>\n",
       "    <tr>\n",
       "      <th>14443</th>\n",
       "      <td>27.0</td>\n",
       "      <td>5.349282</td>\n",
       "      <td>0.933014</td>\n",
       "      <td>647.0</td>\n",
       "      <td>3.095694</td>\n",
       "      <td>37.48</td>\n",
       "      <td>-120.89</td>\n",
       "    </tr>\n",
       "    <tr>\n",
       "      <th>14444</th>\n",
       "      <td>31.0</td>\n",
       "      <td>3.641221</td>\n",
       "      <td>0.941476</td>\n",
       "      <td>704.0</td>\n",
       "      <td>1.791349</td>\n",
       "      <td>36.58</td>\n",
       "      <td>-121.90</td>\n",
       "    </tr>\n",
       "    <tr>\n",
       "      <th>14445</th>\n",
       "      <td>34.0</td>\n",
       "      <td>4.540598</td>\n",
       "      <td>1.064103</td>\n",
       "      <td>1052.0</td>\n",
       "      <td>2.247863</td>\n",
       "      <td>33.62</td>\n",
       "      <td>-117.93</td>\n",
       "    </tr>\n",
       "    <tr>\n",
       "      <th>14446</th>\n",
       "      <td>15.0</td>\n",
       "      <td>3.929530</td>\n",
       "      <td>1.100671</td>\n",
       "      <td>1024.0</td>\n",
       "      <td>3.436242</td>\n",
       "      <td>32.80</td>\n",
       "      <td>-115.56</td>\n",
       "    </tr>\n",
       "  </tbody>\n",
       "</table>\n",
       "<p>14447 rows × 7 columns</p>\n",
       "</div>"
      ],
      "text/plain": [
       "       HouseAge  AveRooms  AveBedrms  Population  AveOccup  Latitude  \\\n",
       "0          43.0  3.671480   1.184116       836.0  3.018051     37.77   \n",
       "1          17.0  6.478022   1.087912      1387.0  3.810440     33.87   \n",
       "2          17.0  2.518000   1.196000      3051.0  3.051000     34.06   \n",
       "3          50.0  4.622754   1.161677       606.0  3.628743     36.73   \n",
       "4          11.0  6.495068   0.998767      4409.0  2.718249     33.80   \n",
       "...         ...       ...        ...         ...       ...       ...   \n",
       "14442      20.0  6.000000   1.045662       712.0  3.251142     38.27   \n",
       "14443      27.0  5.349282   0.933014       647.0  3.095694     37.48   \n",
       "14444      31.0  3.641221   0.941476       704.0  1.791349     36.58   \n",
       "14445      34.0  4.540598   1.064103      1052.0  2.247863     33.62   \n",
       "14446      15.0  3.929530   1.100671      1024.0  3.436242     32.80   \n",
       "\n",
       "       Longitude  \n",
       "0        -122.21  \n",
       "1        -118.04  \n",
       "2        -118.28  \n",
       "3        -119.81  \n",
       "4        -117.79  \n",
       "...          ...  \n",
       "14442    -121.26  \n",
       "14443    -120.89  \n",
       "14444    -121.90  \n",
       "14445    -117.93  \n",
       "14446    -115.56  \n",
       "\n",
       "[14447 rows x 7 columns]"
      ]
     },
     "execution_count": 45,
     "metadata": {},
     "output_type": "execute_result"
    }
   ],
   "source": [
    "df_train_residual"
   ]
  },
  {
   "cell_type": "code",
   "execution_count": 46,
   "id": "21026b69",
   "metadata": {},
   "outputs": [],
   "source": [
    "#LigthGBMの学習。残差に対する\n",
    "lgbm_residual = rscv.best_estimator_.fit(df_train_residual, y_residual)"
   ]
  },
  {
   "cell_type": "markdown",
   "id": "cf0c6906",
   "metadata": {},
   "source": [
    "testデータを予測"
   ]
  },
  {
   "cell_type": "code",
   "execution_count": 47,
   "id": "bca002f1",
   "metadata": {},
   "outputs": [
    {
     "data": {
      "text/html": [
       "<div>\n",
       "<style scoped>\n",
       "    .dataframe tbody tr th:only-of-type {\n",
       "        vertical-align: middle;\n",
       "    }\n",
       "\n",
       "    .dataframe tbody tr th {\n",
       "        vertical-align: top;\n",
       "    }\n",
       "\n",
       "    .dataframe thead th {\n",
       "        text-align: right;\n",
       "    }\n",
       "</style>\n",
       "<table border=\"1\" class=\"dataframe\">\n",
       "  <thead>\n",
       "    <tr style=\"text-align: right;\">\n",
       "      <th></th>\n",
       "      <th>MedInc</th>\n",
       "      <th>HouseAge</th>\n",
       "      <th>AveRooms</th>\n",
       "      <th>AveBedrms</th>\n",
       "      <th>Population</th>\n",
       "      <th>AveOccup</th>\n",
       "      <th>Latitude</th>\n",
       "      <th>Longitude</th>\n",
       "      <th>target</th>\n",
       "    </tr>\n",
       "  </thead>\n",
       "  <tbody>\n",
       "    <tr>\n",
       "      <th>0</th>\n",
       "      <td>4.1518</td>\n",
       "      <td>22.0</td>\n",
       "      <td>5.663073</td>\n",
       "      <td>1.075472</td>\n",
       "      <td>1551.0</td>\n",
       "      <td>4.180593</td>\n",
       "      <td>32.58</td>\n",
       "      <td>-117.05</td>\n",
       "      <td>1.369</td>\n",
       "    </tr>\n",
       "    <tr>\n",
       "      <th>1</th>\n",
       "      <td>5.7796</td>\n",
       "      <td>32.0</td>\n",
       "      <td>6.107226</td>\n",
       "      <td>0.927739</td>\n",
       "      <td>1296.0</td>\n",
       "      <td>3.020979</td>\n",
       "      <td>33.92</td>\n",
       "      <td>-117.97</td>\n",
       "      <td>2.413</td>\n",
       "    </tr>\n",
       "    <tr>\n",
       "      <th>2</th>\n",
       "      <td>4.3487</td>\n",
       "      <td>29.0</td>\n",
       "      <td>5.930712</td>\n",
       "      <td>1.026217</td>\n",
       "      <td>1554.0</td>\n",
       "      <td>2.910112</td>\n",
       "      <td>38.65</td>\n",
       "      <td>-121.84</td>\n",
       "      <td>2.007</td>\n",
       "    </tr>\n",
       "    <tr>\n",
       "      <th>3</th>\n",
       "      <td>2.4511</td>\n",
       "      <td>37.0</td>\n",
       "      <td>4.992958</td>\n",
       "      <td>1.316901</td>\n",
       "      <td>390.0</td>\n",
       "      <td>2.746479</td>\n",
       "      <td>33.20</td>\n",
       "      <td>-115.60</td>\n",
       "      <td>0.725</td>\n",
       "    </tr>\n",
       "    <tr>\n",
       "      <th>4</th>\n",
       "      <td>5.0049</td>\n",
       "      <td>25.0</td>\n",
       "      <td>4.319261</td>\n",
       "      <td>1.039578</td>\n",
       "      <td>649.0</td>\n",
       "      <td>1.712401</td>\n",
       "      <td>37.79</td>\n",
       "      <td>-122.43</td>\n",
       "      <td>4.600</td>\n",
       "    </tr>\n",
       "    <tr>\n",
       "      <th>...</th>\n",
       "      <td>...</td>\n",
       "      <td>...</td>\n",
       "      <td>...</td>\n",
       "      <td>...</td>\n",
       "      <td>...</td>\n",
       "      <td>...</td>\n",
       "      <td>...</td>\n",
       "      <td>...</td>\n",
       "      <td>...</td>\n",
       "    </tr>\n",
       "    <tr>\n",
       "      <th>6188</th>\n",
       "      <td>4.1386</td>\n",
       "      <td>2.0</td>\n",
       "      <td>8.821216</td>\n",
       "      <td>1.414779</td>\n",
       "      <td>2826.0</td>\n",
       "      <td>3.368296</td>\n",
       "      <td>33.66</td>\n",
       "      <td>-117.17</td>\n",
       "      <td>1.773</td>\n",
       "    </tr>\n",
       "    <tr>\n",
       "      <th>6189</th>\n",
       "      <td>7.8750</td>\n",
       "      <td>30.0</td>\n",
       "      <td>7.550926</td>\n",
       "      <td>0.981481</td>\n",
       "      <td>523.0</td>\n",
       "      <td>2.421296</td>\n",
       "      <td>33.89</td>\n",
       "      <td>-117.91</td>\n",
       "      <td>3.519</td>\n",
       "    </tr>\n",
       "    <tr>\n",
       "      <th>6190</th>\n",
       "      <td>2.0658</td>\n",
       "      <td>34.0</td>\n",
       "      <td>5.938144</td>\n",
       "      <td>1.206186</td>\n",
       "      <td>363.0</td>\n",
       "      <td>3.742268</td>\n",
       "      <td>36.56</td>\n",
       "      <td>-119.64</td>\n",
       "      <td>0.925</td>\n",
       "    </tr>\n",
       "    <tr>\n",
       "      <th>6191</th>\n",
       "      <td>4.6761</td>\n",
       "      <td>32.0</td>\n",
       "      <td>5.315152</td>\n",
       "      <td>0.981818</td>\n",
       "      <td>917.0</td>\n",
       "      <td>2.778788</td>\n",
       "      <td>37.36</td>\n",
       "      <td>-121.99</td>\n",
       "      <td>2.983</td>\n",
       "    </tr>\n",
       "    <tr>\n",
       "      <th>6192</th>\n",
       "      <td>1.9750</td>\n",
       "      <td>52.0</td>\n",
       "      <td>2.800000</td>\n",
       "      <td>0.700000</td>\n",
       "      <td>193.0</td>\n",
       "      <td>4.825000</td>\n",
       "      <td>36.73</td>\n",
       "      <td>-119.79</td>\n",
       "      <td>0.475</td>\n",
       "    </tr>\n",
       "  </tbody>\n",
       "</table>\n",
       "<p>6193 rows × 9 columns</p>\n",
       "</div>"
      ],
      "text/plain": [
       "      MedInc  HouseAge  AveRooms  AveBedrms  Population  AveOccup  Latitude  \\\n",
       "0     4.1518      22.0  5.663073   1.075472      1551.0  4.180593     32.58   \n",
       "1     5.7796      32.0  6.107226   0.927739      1296.0  3.020979     33.92   \n",
       "2     4.3487      29.0  5.930712   1.026217      1554.0  2.910112     38.65   \n",
       "3     2.4511      37.0  4.992958   1.316901       390.0  2.746479     33.20   \n",
       "4     5.0049      25.0  4.319261   1.039578       649.0  1.712401     37.79   \n",
       "...      ...       ...       ...        ...         ...       ...       ...   \n",
       "6188  4.1386       2.0  8.821216   1.414779      2826.0  3.368296     33.66   \n",
       "6189  7.8750      30.0  7.550926   0.981481       523.0  2.421296     33.89   \n",
       "6190  2.0658      34.0  5.938144   1.206186       363.0  3.742268     36.56   \n",
       "6191  4.6761      32.0  5.315152   0.981818       917.0  2.778788     37.36   \n",
       "6192  1.9750      52.0  2.800000   0.700000       193.0  4.825000     36.73   \n",
       "\n",
       "      Longitude  target  \n",
       "0       -117.05   1.369  \n",
       "1       -117.97   2.413  \n",
       "2       -121.84   2.007  \n",
       "3       -115.60   0.725  \n",
       "4       -122.43   4.600  \n",
       "...         ...     ...  \n",
       "6188    -117.17   1.773  \n",
       "6189    -117.91   3.519  \n",
       "6190    -119.64   0.925  \n",
       "6191    -121.99   2.983  \n",
       "6192    -119.79   0.475  \n",
       "\n",
       "[6193 rows x 9 columns]"
      ]
     },
     "execution_count": 47,
     "metadata": {},
     "output_type": "execute_result"
    }
   ],
   "source": [
    "df_test"
   ]
  },
  {
   "cell_type": "code",
   "execution_count": 48,
   "id": "eca3b538",
   "metadata": {},
   "outputs": [
    {
     "data": {
      "text/plain": [
       "(6193,)"
      ]
     },
     "execution_count": 48,
     "metadata": {},
     "output_type": "execute_result"
    }
   ],
   "source": [
    "lr=LinearRegression()\n",
    "lr.fit(df_train['MedInc'].values.reshape(-1,1), df_train['target'])\n",
    "pred_1=lr.predict(df_test['MedInc'].values.reshape(-1,1))\n",
    "pred_1.shape"
   ]
  },
  {
   "cell_type": "code",
   "execution_count": 49,
   "id": "0bab9997",
   "metadata": {},
   "outputs": [
    {
     "data": {
      "text/plain": [
       "0.851234588517832"
      ]
     },
     "execution_count": 49,
     "metadata": {},
     "output_type": "execute_result"
    }
   ],
   "source": [
    "#残差\n",
    "y_residual_test=  df_test['target'] - pred_1\n",
    "mean_squared_error(df_test['target'], pred_1, squared=False)"
   ]
  },
  {
   "cell_type": "code",
   "execution_count": 50,
   "id": "f6de14ec",
   "metadata": {},
   "outputs": [
    {
     "data": {
      "text/html": [
       "<div>\n",
       "<style scoped>\n",
       "    .dataframe tbody tr th:only-of-type {\n",
       "        vertical-align: middle;\n",
       "    }\n",
       "\n",
       "    .dataframe tbody tr th {\n",
       "        vertical-align: top;\n",
       "    }\n",
       "\n",
       "    .dataframe thead th {\n",
       "        text-align: right;\n",
       "    }\n",
       "</style>\n",
       "<table border=\"1\" class=\"dataframe\">\n",
       "  <thead>\n",
       "    <tr style=\"text-align: right;\">\n",
       "      <th></th>\n",
       "      <th>HouseAge</th>\n",
       "      <th>AveRooms</th>\n",
       "      <th>AveBedrms</th>\n",
       "      <th>Population</th>\n",
       "      <th>AveOccup</th>\n",
       "      <th>Latitude</th>\n",
       "      <th>Longitude</th>\n",
       "    </tr>\n",
       "  </thead>\n",
       "  <tbody>\n",
       "    <tr>\n",
       "      <th>0</th>\n",
       "      <td>22.0</td>\n",
       "      <td>5.663073</td>\n",
       "      <td>1.075472</td>\n",
       "      <td>1551.0</td>\n",
       "      <td>4.180593</td>\n",
       "      <td>32.58</td>\n",
       "      <td>-117.05</td>\n",
       "    </tr>\n",
       "    <tr>\n",
       "      <th>1</th>\n",
       "      <td>32.0</td>\n",
       "      <td>6.107226</td>\n",
       "      <td>0.927739</td>\n",
       "      <td>1296.0</td>\n",
       "      <td>3.020979</td>\n",
       "      <td>33.92</td>\n",
       "      <td>-117.97</td>\n",
       "    </tr>\n",
       "    <tr>\n",
       "      <th>2</th>\n",
       "      <td>29.0</td>\n",
       "      <td>5.930712</td>\n",
       "      <td>1.026217</td>\n",
       "      <td>1554.0</td>\n",
       "      <td>2.910112</td>\n",
       "      <td>38.65</td>\n",
       "      <td>-121.84</td>\n",
       "    </tr>\n",
       "    <tr>\n",
       "      <th>3</th>\n",
       "      <td>37.0</td>\n",
       "      <td>4.992958</td>\n",
       "      <td>1.316901</td>\n",
       "      <td>390.0</td>\n",
       "      <td>2.746479</td>\n",
       "      <td>33.20</td>\n",
       "      <td>-115.60</td>\n",
       "    </tr>\n",
       "    <tr>\n",
       "      <th>4</th>\n",
       "      <td>25.0</td>\n",
       "      <td>4.319261</td>\n",
       "      <td>1.039578</td>\n",
       "      <td>649.0</td>\n",
       "      <td>1.712401</td>\n",
       "      <td>37.79</td>\n",
       "      <td>-122.43</td>\n",
       "    </tr>\n",
       "    <tr>\n",
       "      <th>...</th>\n",
       "      <td>...</td>\n",
       "      <td>...</td>\n",
       "      <td>...</td>\n",
       "      <td>...</td>\n",
       "      <td>...</td>\n",
       "      <td>...</td>\n",
       "      <td>...</td>\n",
       "    </tr>\n",
       "    <tr>\n",
       "      <th>6188</th>\n",
       "      <td>2.0</td>\n",
       "      <td>8.821216</td>\n",
       "      <td>1.414779</td>\n",
       "      <td>2826.0</td>\n",
       "      <td>3.368296</td>\n",
       "      <td>33.66</td>\n",
       "      <td>-117.17</td>\n",
       "    </tr>\n",
       "    <tr>\n",
       "      <th>6189</th>\n",
       "      <td>30.0</td>\n",
       "      <td>7.550926</td>\n",
       "      <td>0.981481</td>\n",
       "      <td>523.0</td>\n",
       "      <td>2.421296</td>\n",
       "      <td>33.89</td>\n",
       "      <td>-117.91</td>\n",
       "    </tr>\n",
       "    <tr>\n",
       "      <th>6190</th>\n",
       "      <td>34.0</td>\n",
       "      <td>5.938144</td>\n",
       "      <td>1.206186</td>\n",
       "      <td>363.0</td>\n",
       "      <td>3.742268</td>\n",
       "      <td>36.56</td>\n",
       "      <td>-119.64</td>\n",
       "    </tr>\n",
       "    <tr>\n",
       "      <th>6191</th>\n",
       "      <td>32.0</td>\n",
       "      <td>5.315152</td>\n",
       "      <td>0.981818</td>\n",
       "      <td>917.0</td>\n",
       "      <td>2.778788</td>\n",
       "      <td>37.36</td>\n",
       "      <td>-121.99</td>\n",
       "    </tr>\n",
       "    <tr>\n",
       "      <th>6192</th>\n",
       "      <td>52.0</td>\n",
       "      <td>2.800000</td>\n",
       "      <td>0.700000</td>\n",
       "      <td>193.0</td>\n",
       "      <td>4.825000</td>\n",
       "      <td>36.73</td>\n",
       "      <td>-119.79</td>\n",
       "    </tr>\n",
       "  </tbody>\n",
       "</table>\n",
       "<p>6193 rows × 7 columns</p>\n",
       "</div>"
      ],
      "text/plain": [
       "      HouseAge  AveRooms  AveBedrms  Population  AveOccup  Latitude  Longitude\n",
       "0         22.0  5.663073   1.075472      1551.0  4.180593     32.58    -117.05\n",
       "1         32.0  6.107226   0.927739      1296.0  3.020979     33.92    -117.97\n",
       "2         29.0  5.930712   1.026217      1554.0  2.910112     38.65    -121.84\n",
       "3         37.0  4.992958   1.316901       390.0  2.746479     33.20    -115.60\n",
       "4         25.0  4.319261   1.039578       649.0  1.712401     37.79    -122.43\n",
       "...        ...       ...        ...         ...       ...       ...        ...\n",
       "6188       2.0  8.821216   1.414779      2826.0  3.368296     33.66    -117.17\n",
       "6189      30.0  7.550926   0.981481       523.0  2.421296     33.89    -117.91\n",
       "6190      34.0  5.938144   1.206186       363.0  3.742268     36.56    -119.64\n",
       "6191      32.0  5.315152   0.981818       917.0  2.778788     37.36    -121.99\n",
       "6192      52.0  2.800000   0.700000       193.0  4.825000     36.73    -119.79\n",
       "\n",
       "[6193 rows x 7 columns]"
      ]
     },
     "execution_count": 50,
     "metadata": {},
     "output_type": "execute_result"
    }
   ],
   "source": [
    "df_test_residual=df_test.drop(['MedInc', 'target'], axis=1)\n",
    "df_test_residual"
   ]
  },
  {
   "cell_type": "code",
   "execution_count": 51,
   "id": "e4dc80e4",
   "metadata": {},
   "outputs": [],
   "source": [
    "pred_2 = lgbm_residual.predict(df_test_residual)"
   ]
  },
  {
   "cell_type": "code",
   "execution_count": 54,
   "id": "e8f08061",
   "metadata": {},
   "outputs": [
    {
     "data": {
      "text/plain": [
       "(6193,)"
      ]
     },
     "execution_count": 54,
     "metadata": {},
     "output_type": "execute_result"
    }
   ],
   "source": [
    "pred_test_lin_residual = pred_1 + pred_2\n",
    "pred_test_lin_residual.shape"
   ]
  },
  {
   "cell_type": "code",
   "execution_count": 55,
   "id": "e9b8e540",
   "metadata": {},
   "outputs": [
    {
     "data": {
      "text/html": [
       "<div>\n",
       "<style scoped>\n",
       "    .dataframe tbody tr th:only-of-type {\n",
       "        vertical-align: middle;\n",
       "    }\n",
       "\n",
       "    .dataframe tbody tr th {\n",
       "        vertical-align: top;\n",
       "    }\n",
       "\n",
       "    .dataframe thead th {\n",
       "        text-align: right;\n",
       "    }\n",
       "</style>\n",
       "<table border=\"1\" class=\"dataframe\">\n",
       "  <thead>\n",
       "    <tr style=\"text-align: right;\">\n",
       "      <th></th>\n",
       "      <th>MedInc</th>\n",
       "      <th>HouseAge</th>\n",
       "      <th>AveRooms</th>\n",
       "      <th>AveBedrms</th>\n",
       "      <th>Population</th>\n",
       "      <th>AveOccup</th>\n",
       "      <th>Latitude</th>\n",
       "      <th>Longitude</th>\n",
       "      <th>target</th>\n",
       "    </tr>\n",
       "  </thead>\n",
       "  <tbody>\n",
       "    <tr>\n",
       "      <th>0</th>\n",
       "      <td>4.1518</td>\n",
       "      <td>22.0</td>\n",
       "      <td>5.663073</td>\n",
       "      <td>1.075472</td>\n",
       "      <td>1551.0</td>\n",
       "      <td>4.180593</td>\n",
       "      <td>32.58</td>\n",
       "      <td>-117.05</td>\n",
       "      <td>1.369</td>\n",
       "    </tr>\n",
       "    <tr>\n",
       "      <th>1</th>\n",
       "      <td>5.7796</td>\n",
       "      <td>32.0</td>\n",
       "      <td>6.107226</td>\n",
       "      <td>0.927739</td>\n",
       "      <td>1296.0</td>\n",
       "      <td>3.020979</td>\n",
       "      <td>33.92</td>\n",
       "      <td>-117.97</td>\n",
       "      <td>2.413</td>\n",
       "    </tr>\n",
       "    <tr>\n",
       "      <th>2</th>\n",
       "      <td>4.3487</td>\n",
       "      <td>29.0</td>\n",
       "      <td>5.930712</td>\n",
       "      <td>1.026217</td>\n",
       "      <td>1554.0</td>\n",
       "      <td>2.910112</td>\n",
       "      <td>38.65</td>\n",
       "      <td>-121.84</td>\n",
       "      <td>2.007</td>\n",
       "    </tr>\n",
       "    <tr>\n",
       "      <th>3</th>\n",
       "      <td>2.4511</td>\n",
       "      <td>37.0</td>\n",
       "      <td>4.992958</td>\n",
       "      <td>1.316901</td>\n",
       "      <td>390.0</td>\n",
       "      <td>2.746479</td>\n",
       "      <td>33.20</td>\n",
       "      <td>-115.60</td>\n",
       "      <td>0.725</td>\n",
       "    </tr>\n",
       "    <tr>\n",
       "      <th>4</th>\n",
       "      <td>5.0049</td>\n",
       "      <td>25.0</td>\n",
       "      <td>4.319261</td>\n",
       "      <td>1.039578</td>\n",
       "      <td>649.0</td>\n",
       "      <td>1.712401</td>\n",
       "      <td>37.79</td>\n",
       "      <td>-122.43</td>\n",
       "      <td>4.600</td>\n",
       "    </tr>\n",
       "    <tr>\n",
       "      <th>...</th>\n",
       "      <td>...</td>\n",
       "      <td>...</td>\n",
       "      <td>...</td>\n",
       "      <td>...</td>\n",
       "      <td>...</td>\n",
       "      <td>...</td>\n",
       "      <td>...</td>\n",
       "      <td>...</td>\n",
       "      <td>...</td>\n",
       "    </tr>\n",
       "    <tr>\n",
       "      <th>6188</th>\n",
       "      <td>4.1386</td>\n",
       "      <td>2.0</td>\n",
       "      <td>8.821216</td>\n",
       "      <td>1.414779</td>\n",
       "      <td>2826.0</td>\n",
       "      <td>3.368296</td>\n",
       "      <td>33.66</td>\n",
       "      <td>-117.17</td>\n",
       "      <td>1.773</td>\n",
       "    </tr>\n",
       "    <tr>\n",
       "      <th>6189</th>\n",
       "      <td>7.8750</td>\n",
       "      <td>30.0</td>\n",
       "      <td>7.550926</td>\n",
       "      <td>0.981481</td>\n",
       "      <td>523.0</td>\n",
       "      <td>2.421296</td>\n",
       "      <td>33.89</td>\n",
       "      <td>-117.91</td>\n",
       "      <td>3.519</td>\n",
       "    </tr>\n",
       "    <tr>\n",
       "      <th>6190</th>\n",
       "      <td>2.0658</td>\n",
       "      <td>34.0</td>\n",
       "      <td>5.938144</td>\n",
       "      <td>1.206186</td>\n",
       "      <td>363.0</td>\n",
       "      <td>3.742268</td>\n",
       "      <td>36.56</td>\n",
       "      <td>-119.64</td>\n",
       "      <td>0.925</td>\n",
       "    </tr>\n",
       "    <tr>\n",
       "      <th>6191</th>\n",
       "      <td>4.6761</td>\n",
       "      <td>32.0</td>\n",
       "      <td>5.315152</td>\n",
       "      <td>0.981818</td>\n",
       "      <td>917.0</td>\n",
       "      <td>2.778788</td>\n",
       "      <td>37.36</td>\n",
       "      <td>-121.99</td>\n",
       "      <td>2.983</td>\n",
       "    </tr>\n",
       "    <tr>\n",
       "      <th>6192</th>\n",
       "      <td>1.9750</td>\n",
       "      <td>52.0</td>\n",
       "      <td>2.800000</td>\n",
       "      <td>0.700000</td>\n",
       "      <td>193.0</td>\n",
       "      <td>4.825000</td>\n",
       "      <td>36.73</td>\n",
       "      <td>-119.79</td>\n",
       "      <td>0.475</td>\n",
       "    </tr>\n",
       "  </tbody>\n",
       "</table>\n",
       "<p>6193 rows × 9 columns</p>\n",
       "</div>"
      ],
      "text/plain": [
       "      MedInc  HouseAge  AveRooms  AveBedrms  Population  AveOccup  Latitude  \\\n",
       "0     4.1518      22.0  5.663073   1.075472      1551.0  4.180593     32.58   \n",
       "1     5.7796      32.0  6.107226   0.927739      1296.0  3.020979     33.92   \n",
       "2     4.3487      29.0  5.930712   1.026217      1554.0  2.910112     38.65   \n",
       "3     2.4511      37.0  4.992958   1.316901       390.0  2.746479     33.20   \n",
       "4     5.0049      25.0  4.319261   1.039578       649.0  1.712401     37.79   \n",
       "...      ...       ...       ...        ...         ...       ...       ...   \n",
       "6188  4.1386       2.0  8.821216   1.414779      2826.0  3.368296     33.66   \n",
       "6189  7.8750      30.0  7.550926   0.981481       523.0  2.421296     33.89   \n",
       "6190  2.0658      34.0  5.938144   1.206186       363.0  3.742268     36.56   \n",
       "6191  4.6761      32.0  5.315152   0.981818       917.0  2.778788     37.36   \n",
       "6192  1.9750      52.0  2.800000   0.700000       193.0  4.825000     36.73   \n",
       "\n",
       "      Longitude  target  \n",
       "0       -117.05   1.369  \n",
       "1       -117.97   2.413  \n",
       "2       -121.84   2.007  \n",
       "3       -115.60   0.725  \n",
       "4       -122.43   4.600  \n",
       "...         ...     ...  \n",
       "6188    -117.17   1.773  \n",
       "6189    -117.91   3.519  \n",
       "6190    -119.64   0.925  \n",
       "6191    -121.99   2.983  \n",
       "6192    -119.79   0.475  \n",
       "\n",
       "[6193 rows x 9 columns]"
      ]
     },
     "execution_count": 55,
     "metadata": {},
     "output_type": "execute_result"
    }
   ],
   "source": [
    "df_test"
   ]
  },
  {
   "cell_type": "code",
   "execution_count": 56,
   "id": "b939476e",
   "metadata": {},
   "outputs": [
    {
     "name": "stdout",
     "output_type": "stream",
     "text": [
      "0.5231193804756671\n"
     ]
    }
   ],
   "source": [
    "print(mean_squared_error(df_test['target'], pred_test_lin_residual, squared=False))"
   ]
  },
  {
   "cell_type": "markdown",
   "id": "b07b9975",
   "metadata": {},
   "source": [
    "　　"
   ]
  },
  {
   "cell_type": "markdown",
   "id": "3db2356b",
   "metadata": {},
   "source": [
    "## 特徴量重要度の低いものから外す  \n",
    "HouseAge"
   ]
  },
  {
   "cell_type": "code",
   "execution_count": 67,
   "id": "ed1baaf5",
   "metadata": {},
   "outputs": [],
   "source": [
    "#HouseAgeを除くtrainデータとtestデータの作成\n",
    "x_train_remove = df_train.drop(['HouseAge','target','y_residual'], axis=1)\n",
    "y_train_remove = df_train['target']\n",
    "x_test_remove = df_test.drop(['HouseAge','target'], axis=1)\n",
    "y_test_remove = df_test['target']"
   ]
  },
  {
   "cell_type": "markdown",
   "id": "a63f52a7",
   "metadata": {},
   "source": [
    "ハイパーパラメータ探索"
   ]
  },
  {
   "cell_type": "code",
   "execution_count": 75,
   "id": "26eddbc5",
   "metadata": {},
   "outputs": [],
   "source": [
    "scoring='neg_root_mean_squared_error'\n",
    "\n",
    "params5 = {'reg_alpha': [0.0001, 0.003, 0.1],\n",
    "          'reg_lambda': [0.0001, 0.1],\n",
    "          'num_leaves': [4, 6],\n",
    "          'colsample_bytree': [0.7, 1.0],\n",
    "          'subsample': [0.4, 1.0],\n",
    "          'subsample_freq': [0, 7],\n",
    "          'min_child_samples': [0, 2, 5],\n",
    "          'n_estimators':[4500,5000,6000]\n",
    "             }"
   ]
  },
  {
   "cell_type": "code",
   "execution_count": 72,
   "id": "67bf721d",
   "metadata": {},
   "outputs": [
    {
     "name": "stdout",
     "output_type": "stream",
     "text": [
      "Wall time: 1min 5s\n"
     ]
    },
    {
     "data": {
      "text/plain": [
       "RandomizedSearchCV(cv=5, estimator=LGBMRegressor(random_state=0),\n",
       "                   param_distributions={'colsample_bytree': [0.7, 1.0],\n",
       "                                        'min_child_samples': [0, 2, 5],\n",
       "                                        'n_estimators': [4500, 5000, 6000],\n",
       "                                        'num_leaves': [2, 3, 4, 6],\n",
       "                                        'reg_alpha': [0.0001, 0.003, 0.1],\n",
       "                                        'reg_lambda': [0.0001, 0.1],\n",
       "                                        'subsample': [0.4, 1.0],\n",
       "                                        'subsample_freq': [0, 7]},\n",
       "                   random_state=1, scoring='neg_root_mean_squared_error')"
      ]
     },
     "execution_count": 72,
     "metadata": {},
     "output_type": "execute_result"
    }
   ],
   "source": [
    "%%time\n",
    "\n",
    "rscv_2 = RandomizedSearchCV(gbm.LGBMRegressor(boosting_type='gbdt',random_state=0),\n",
    "                           param_distributions=params5, cv=5, scoring=scoring, random_state=1)\n",
    "rscv_2.fit(x_train_remove, y_train_remove)"
   ]
  },
  {
   "cell_type": "code",
   "execution_count": 74,
   "id": "845716cc",
   "metadata": {},
   "outputs": [
    {
     "data": {
      "text/plain": [
       "{'subsample_freq': 7,\n",
       " 'subsample': 1.0,\n",
       " 'reg_lambda': 0.1,\n",
       " 'reg_alpha': 0.0001,\n",
       " 'num_leaves': 6,\n",
       " 'n_estimators': 6000,\n",
       " 'min_child_samples': 5,\n",
       " 'colsample_bytree': 0.7}"
      ]
     },
     "execution_count": 74,
     "metadata": {},
     "output_type": "execute_result"
    }
   ],
   "source": [
    "rscv_2.best_params_"
   ]
  },
  {
   "cell_type": "code",
   "execution_count": 77,
   "id": "601537f1",
   "metadata": {},
   "outputs": [
    {
     "name": "stdout",
     "output_type": "stream",
     "text": [
      "0.4723062371685868\n"
     ]
    }
   ],
   "source": [
    "print(-(rscv_2.best_score_))"
   ]
  },
  {
   "cell_type": "code",
   "execution_count": 86,
   "id": "9fa2661b",
   "metadata": {},
   "outputs": [],
   "source": [
    "pred_Test_remove = rscv_2.predict(x_test_remove)"
   ]
  },
  {
   "cell_type": "code",
   "execution_count": 87,
   "id": "b64fea1e",
   "metadata": {},
   "outputs": [
    {
     "name": "stdout",
     "output_type": "stream",
     "text": [
      "RMSE_Test_remove 0.4616476242743506\n"
     ]
    }
   ],
   "source": [
    "print('RMSE_Test_remove', mean_squared_error(y_test_remove, pred_Test_remove, squared=False))"
   ]
  }
 ],
 "metadata": {
  "kernelspec": {
   "display_name": "Python 3 (ipykernel)",
   "language": "python",
   "name": "python3"
  },
  "language_info": {
   "codemirror_mode": {
    "name": "ipython",
    "version": 3
   },
   "file_extension": ".py",
   "mimetype": "text/x-python",
   "name": "python",
   "nbconvert_exporter": "python",
   "pygments_lexer": "ipython3",
   "version": "3.9.7"
  }
 },
 "nbformat": 4,
 "nbformat_minor": 5
}
